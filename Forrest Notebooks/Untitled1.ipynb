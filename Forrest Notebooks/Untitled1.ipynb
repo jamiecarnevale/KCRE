{
 "cells": [
  {
   "cell_type": "code",
   "execution_count": null,
   "id": "3b99c3f9",
   "metadata": {},
   "outputs": [],
   "source": [
    "import geopy "
   ]
  },
  {
   "cell_type": "code",
   "execution_count": null,
   "id": "2a4e5c45",
   "metadata": {},
   "outputs": [],
   "source": [
    "geocode.reverse((lat, long))"
   ]
  }
 ],
 "metadata": {
  "kernelspec": {
   "display_name": "Python 3 (ipykernel)",
   "language": "python",
   "name": "python3"
  },
  "language_info": {
   "codemirror_mode": {
    "name": "ipython",
    "version": 3
   },
   "file_extension": ".py",
   "mimetype": "text/x-python",
   "name": "python",
   "nbconvert_exporter": "python",
   "pygments_lexer": "ipython3",
   "version": "3.8.16"
  }
 },
 "nbformat": 4,
 "nbformat_minor": 5
}
