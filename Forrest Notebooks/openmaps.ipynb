{
 "cells": [
  {
   "cell_type": "markdown",
   "metadata": {},
   "source": [
    "## Final Project Submission\n",
    "\n",
    "Please fill out:\n",
    "* Student name: \n",
    "* Student pace: self paced / part time / full time\n",
    "* Scheduled project review date/time: \n",
    "* Instructor name: \n",
    "* Blog post URL:\n"
   ]
  },
  {
   "cell_type": "code",
   "execution_count": null,
   "metadata": {},
   "outputs": [],
   "source": [
    "# Your code here - remember to use markdown cells for comments as well!"
   ]
  },
  {
   "cell_type": "code",
   "execution_count": 5,
   "metadata": {},
   "outputs": [],
   "source": [
    "import geopy \n",
    "from geopy.geocoders import Nominatim \n",
    "import time\n",
    "import pandas as pd "
   ]
  },
  {
   "cell_type": "code",
   "execution_count": 3,
   "metadata": {},
   "outputs": [
    {
     "name": "stdout",
     "output_type": "stream",
     "text": [
      "column_names.md   kc_house_data.csv\r\n"
     ]
    }
   ],
   "source": [
    "!ls data"
   ]
  },
  {
   "cell_type": "code",
   "execution_count": 7,
   "metadata": {},
   "outputs": [],
   "source": [
    "df = pd.read_csv('data/kc_house_data.csv')"
   ]
  },
  {
   "cell_type": "code",
   "execution_count": 9,
   "metadata": {},
   "outputs": [],
   "source": [
    "df['coords'] = list(zip(df['lat'],df['long']))"
   ]
  },
  {
   "cell_type": "code",
   "execution_count": 81,
   "metadata": {},
   "outputs": [],
   "source": [
    "app = Nominatim(user_agent = 'Mozilla/5.0 (Macintosh; Intel Mac OS X 10.15; rv:109.0) Gecko/20100101 Firefox/113.0',timeout=None)\n",
    "\n",
    "def get_addy(coords, language='en'):\n",
    "    time.sleep(.5)\n",
    "    print(app.reverse(coords))\n",
    "        "
   ]
  },
  {
   "cell_type": "code",
   "execution_count": 25,
   "metadata": {},
   "outputs": [
    {
     "data": {
      "text/plain": [
       "Location(2102, Southeast 21st Court, Rolling Hills, Renton, King County, Washington, 98055, United States, (47.4620234, -122.19052043048632, 0.0))"
      ]
     },
     "execution_count": 25,
     "metadata": {},
     "output_type": "execute_result"
    }
   ],
   "source": [
    "app.reverse(df['coords'][0])"
   ]
  },
  {
   "cell_type": "code",
   "execution_count": 19,
   "metadata": {},
   "outputs": [
    {
     "data": {
      "text/plain": [
       "Index(['id', 'date', 'price', 'bedrooms', 'bathrooms', 'sqft_living',\n",
       "       'sqft_lot', 'floors', 'waterfront', 'greenbelt', 'nuisance', 'view',\n",
       "       'condition', 'grade', 'heat_source', 'sewer_system', 'sqft_above',\n",
       "       'sqft_basement', 'sqft_garage', 'sqft_patio', 'yr_built',\n",
       "       'yr_renovated', 'address', 'lat', 'long', 'coords'],\n",
       "      dtype='object')"
      ]
     },
     "execution_count": 19,
     "metadata": {},
     "output_type": "execute_result"
    }
   ],
   "source": [
    "df.columns"
   ]
  },
  {
   "cell_type": "code",
   "execution_count": 21,
   "metadata": {},
   "outputs": [
    {
     "data": {
      "text/plain": [
       "0     2102 Southeast 21st Court, Renton, Washington ...\n",
       "1     11231 Greenwood Avenue North, Seattle, Washing...\n",
       "2     8504 South 113th Street, Seattle, Washington 9...\n",
       "3     4079 Letitia Avenue South, Seattle, Washington...\n",
       "4     2193 Northwest Talus Drive, Issaquah, Washingt...\n",
       "5     1602 North 185th Street, Shoreline, Washington...\n",
       "6     2633 Southwest 164th Place, Burien, Washington...\n",
       "7     24913 122nd Place Southeast, Kent, Washington ...\n",
       "8     2721 Southwest 343rd Place, Federal Way, Washi...\n",
       "9     27950 Northeast 147th Circle, Duvall, Washingt...\n",
       "10    3408 Beacon Avenue South, Seattle, Washington ...\n",
       "11    20432 130th Place Southeast, Kent, Washington ...\n",
       "12    5712 A Street, Omaha, Nebraska 68106, United S...\n",
       "13    2634 57th Street Southeast, Auburn, Washington...\n",
       "14    1781 Southwest 345th Place, Federal Way, Washi...\n",
       "15    927 North 91st Street, Seattle, Washington 981...\n",
       "16    11620 Southeast 47th Place, Bellevue, Washingt...\n",
       "17    Fauntleroy Way Southwest, Seattle, Washington ...\n",
       "18    4640 Linden Avenue North, Seattle, Washington ...\n",
       "19    1608 North 48th Street, Seattle, Washington 98...\n",
       "Name: address, dtype: object"
      ]
     },
     "execution_count": 21,
     "metadata": {},
     "output_type": "execute_result"
    }
   ],
   "source": [
    "df['address'].head(20)"
   ]
  },
  {
   "cell_type": "code",
   "execution_count": 44,
   "metadata": {},
   "outputs": [
    {
     "data": {
      "text/plain": [
       "'Broadview'"
      ]
     },
     "execution_count": 44,
     "metadata": {},
     "output_type": "execute_result"
    }
   ],
   "source": [
    "app.reverse(df['coords'][1]).raw['address']['suburb']"
   ]
  },
  {
   "cell_type": "code",
   "execution_count": 111,
   "metadata": {},
   "outputs": [],
   "source": [
    "nomdict2 = dict(app.reverse(df['coords'][4]).raw)"
   ]
  },
  {
   "cell_type": "code",
   "execution_count": 112,
   "metadata": {},
   "outputs": [
    {
     "data": {
      "text/plain": [
       "{'place_id': 309680481,\n",
       " 'licence': 'Data © OpenStreetMap contributors, ODbL 1.0. https://osm.org/copyright',\n",
       " 'osm_type': 'way',\n",
       " 'osm_id': 250473876,\n",
       " 'lat': '47.53230981474246',\n",
       " 'lon': '-122.07188570124377',\n",
       " 'display_name': '2203, Northwest Moraine Place, Talus, Issaquah, King County, Washington, 98027, United States',\n",
       " 'address': {'house_number': '2203',\n",
       "  'road': 'Northwest Moraine Place',\n",
       "  'residential': 'Talus',\n",
       "  'town': 'Issaquah',\n",
       "  'county': 'King County',\n",
       "  'state': 'Washington',\n",
       "  'ISO3166-2-lvl4': 'US-WA',\n",
       "  'postcode': '98027',\n",
       "  'country': 'United States',\n",
       "  'country_code': 'us'},\n",
       " 'boundingbox': ['47.532259814742',\n",
       "  '47.532359814742',\n",
       "  '-122.07193570124',\n",
       "  '-122.07183570124']}"
      ]
     },
     "execution_count": 112,
     "metadata": {},
     "output_type": "execute_result"
    }
   ],
   "source": [
    "nomdict2"
   ]
  },
  {
   "cell_type": "code",
   "execution_count": 109,
   "metadata": {},
   "outputs": [
    {
     "data": {
      "text/plain": [
       "{'place_id': 159210142,\n",
       " 'licence': 'Data © OpenStreetMap contributors, ODbL 1.0. https://osm.org/copyright',\n",
       " 'osm_type': 'way',\n",
       " 'osm_id': 219685042,\n",
       " 'lat': '47.7114924',\n",
       " 'lon': '-122.35591913541874',\n",
       " 'display_name': '11231, Greenwood Avenue North, Broadview, Seattle, King County, Washington, 98133, United States',\n",
       " 'address': {'house_number': '11231',\n",
       "  'road': 'Greenwood Avenue North',\n",
       "  'suburb': 'Broadview',\n",
       "  'city': 'Seattle',\n",
       "  'county': 'King County',\n",
       "  'state': 'Washington',\n",
       "  'ISO3166-2-lvl4': 'US-WA',\n",
       "  'postcode': '98133',\n",
       "  'country': 'United States',\n",
       "  'country_code': 'us'},\n",
       " 'boundingbox': ['47.7114466', '47.7115905', '-122.356035', '-122.3558281']}"
      ]
     },
     "execution_count": 109,
     "metadata": {},
     "output_type": "execute_result"
    }
   ],
   "source": [
    "nomdict1"
   ]
  },
  {
   "cell_type": "code",
   "execution_count": 43,
   "metadata": {},
   "outputs": [
    {
     "data": {
      "text/plain": [
       "'Broadview'"
      ]
     },
     "execution_count": 43,
     "metadata": {},
     "output_type": "execute_result"
    }
   ],
   "source": [
    "nomdict1['address']['suburb']"
   ]
  },
  {
   "cell_type": "code",
   "execution_count": 104,
   "metadata": {},
   "outputs": [],
   "source": [
    "def get_hood(x):\n",
    "    time.sleep(.5)\n",
    "    dic = app.reverse(x).raw\n",
    "    \n",
    "    suburb = list(dic['address'].keys())[2]\n",
    "    zipcode = list(dic['address'].keys())[7]\n",
    "    return dic['address'][suburb], dic['address'][zipcode]"
   ]
  },
  {
   "cell_type": "code",
   "execution_count": 107,
   "metadata": {},
   "outputs": [],
   "source": [
    "def get_hood(x):\n",
    "    time.sleep(.5)\n",
    "    return app.reverse(x).raw['address']"
   ]
  },
  {
   "cell_type": "code",
   "execution_count": 10,
   "metadata": {},
   "outputs": [
    {
     "data": {
      "text/plain": [
       "0        (47.461975, -122.19052)\n",
       "1        (47.711525, -122.35591)\n",
       "2         (47.502045, -122.2252)\n",
       "3          (47.56611, -122.2902)\n",
       "4         (47.53247, -122.07188)\n",
       "                  ...           \n",
       "30150      (47.66474, -122.3294)\n",
       "30151     (47.56561, -122.38851)\n",
       "30152    (47.610395, -122.29585)\n",
       "30153     (47.44949, -122.18908)\n",
       "30154     (47.43584, -122.32634)\n",
       "Name: coords, Length: 30155, dtype: object"
      ]
     },
     "execution_count": 10,
     "metadata": {},
     "output_type": "execute_result"
    }
   ],
   "source": [
    "df.coords"
   ]
  },
  {
   "cell_type": "code",
   "execution_count": null,
   "metadata": {},
   "outputs": [],
   "source": [
    "# def \n",
    "# for i in df['coords']:\n",
    "#     return get_hood(i)"
   ]
  },
  {
   "cell_type": "code",
   "execution_count": 95,
   "metadata": {},
   "outputs": [
    {
     "data": {
      "text/plain": [
       "{'highway': 'N 185th St & Ashworth Ave N',\n",
       " 'road': 'North 185th Street',\n",
       " 'hamlet': 'Richmond Highlands',\n",
       " 'town': 'Shoreline',\n",
       " 'county': 'King County',\n",
       " 'state': 'Washington',\n",
       " 'ISO3166-2-lvl4': 'US-WA',\n",
       " 'postcode': '98155',\n",
       " 'country': 'United States',\n",
       " 'country_code': 'us'}"
      ]
     },
     "execution_count": 95,
     "metadata": {},
     "output_type": "execute_result"
    }
   ],
   "source": [
    "app.reverse(df['coords'][5]).raw['address']"
   ]
  },
  {
   "cell_type": "code",
   "execution_count": 50,
   "metadata": {},
   "outputs": [
    {
     "data": {
      "text/plain": [
       "0    (47.461975, -122.19052)\n",
       "1    (47.711525, -122.35591)\n",
       "2     (47.502045, -122.2252)\n",
       "3      (47.56611, -122.2902)\n",
       "4     (47.53247, -122.07188)\n",
       "Name: coords, dtype: object"
      ]
     },
     "execution_count": 50,
     "metadata": {},
     "output_type": "execute_result"
    }
   ],
   "source": [
    "df['coords'].head()"
   ]
  },
  {
   "cell_type": "code",
   "execution_count": null,
   "metadata": {},
   "outputs": [],
   "source": []
  },
  {
   "cell_type": "code",
   "execution_count": 108,
   "metadata": {},
   "outputs": [
    {
     "data": {
      "text/plain": [
       "0    {'house_number': '2102', 'road': 'Southeast 21...\n",
       "1    {'house_number': '11231', 'road': 'Greenwood A...\n",
       "2    {'house_number': '8504', 'road': 'South 113th ...\n",
       "3    {'house_number': '4079', 'road': 'Letitia Aven...\n",
       "4    {'house_number': '2203', 'road': 'Northwest Mo...\n",
       "5    {'highway': 'N 185th St & Ashworth Ave N', 'ro...\n",
       "6    {'house_number': '2633', 'road': 'Southwest 16...\n",
       "7    {'house_number': '24913', 'road': '122nd Place...\n",
       "8    {'house_number': '2721', 'road': 'Southwest 34...\n",
       "9    {'house_number': '28086', 'road': 'Northeast 1...\n",
       "Name: coords, dtype: object"
      ]
     },
     "execution_count": 108,
     "metadata": {},
     "output_type": "execute_result"
    }
   ],
   "source": [
    "df['coords'].head(10).apply(get_hood)"
   ]
  },
  {
   "cell_type": "code",
   "execution_count": null,
   "metadata": {},
   "outputs": [],
   "source": [
    "df['suburb'] = df['coords'].apply(get_hood)"
   ]
  }
 ],
 "metadata": {
  "kernelspec": {
   "display_name": "Python 3 (ipykernel)",
   "language": "python",
   "name": "python3"
  },
  "language_info": {
   "codemirror_mode": {
    "name": "ipython",
    "version": 3
   },
   "file_extension": ".py",
   "mimetype": "text/x-python",
   "name": "python",
   "nbconvert_exporter": "python",
   "pygments_lexer": "ipython3",
   "version": "3.8.16"
  }
 },
 "nbformat": 4,
 "nbformat_minor": 2
}
