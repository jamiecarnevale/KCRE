{
 "cells": [
  {
   "cell_type": "markdown",
   "id": "348e6044",
   "metadata": {},
   "source": [
    "# Importing and Reading Files"
   ]
  },
  {
   "cell_type": "code",
   "execution_count": 541,
   "id": "c30a1331",
   "metadata": {},
   "outputs": [],
   "source": [
    "import geopy \n",
    "from geopy.geocoders import Nominatim \n",
    "import time\n",
    "import pandas as pd \n",
    "import seaborn as sns\n",
    "import matplotlib.pyplot as plt\n",
    "import numpy as np\n",
    "\n",
    "from sklearn.linear_model import LinearRegression\n",
    "from sklearn.model_selection import train_test_split\n",
    "from sklearn.preprocessing import OrdinalEncoder\n",
    "from sklearn.preprocessing import StandardScaler\n",
    "from sklearn.preprocessing import MinMaxScaler\n",
    "from sklearn.preprocessing import MaxAbsScaler\n",
    "from sklearn.preprocessing import RobustScaler\n",
    "from sklearn.preprocessing import QuantileTransformer\n",
    "from sklearn.preprocessing import PowerTransformer\n",
    "\n",
    "#method = 'box-cox' or 'yeo-johnson'\n",
    "from sklearn import preprocessing\n",
    "\n",
    "\n",
    "from sklearn.metrics import mean_absolute_error\n",
    "from sklearn.metrics import mean_squared_error"
   ]
  },
  {
   "cell_type": "code",
   "execution_count": 542,
   "id": "0a9bddb1",
   "metadata": {},
   "outputs": [],
   "source": [
    "#main housing data\n",
    "df = pd.read_csv('data/kc_house_data.csv')"
   ]
  },
  {
   "cell_type": "code",
   "execution_count": 543,
   "id": "516fd182",
   "metadata": {},
   "outputs": [],
   "source": [
    "## Do an inner join and groupby on this\n",
    "#first import zipcode csv from king co website\n",
    "dfz = pd.read_csv('data/Zipcodes_for_King_County_and_Surrounding_Area_(Shorelines)___zipcode_shore_area.csv')"
   ]
  },
  {
   "cell_type": "markdown",
   "id": "3fb0adfc",
   "metadata": {},
   "source": [
    "# Preliminary Exploration and Data Cleaning"
   ]
  },
  {
   "cell_type": "code",
   "execution_count": 544,
   "id": "926a826b",
   "metadata": {
    "scrolled": true
   },
   "outputs": [
    {
     "data": {
      "text/html": [
       "<div>\n",
       "<style scoped>\n",
       "    .dataframe tbody tr th:only-of-type {\n",
       "        vertical-align: middle;\n",
       "    }\n",
       "\n",
       "    .dataframe tbody tr th {\n",
       "        vertical-align: top;\n",
       "    }\n",
       "\n",
       "    .dataframe thead th {\n",
       "        text-align: right;\n",
       "    }\n",
       "</style>\n",
       "<table border=\"1\" class=\"dataframe\">\n",
       "  <thead>\n",
       "    <tr style=\"text-align: right;\">\n",
       "      <th></th>\n",
       "      <th>id</th>\n",
       "      <th>date</th>\n",
       "      <th>price</th>\n",
       "      <th>bedrooms</th>\n",
       "      <th>bathrooms</th>\n",
       "      <th>sqft_living</th>\n",
       "      <th>sqft_lot</th>\n",
       "      <th>floors</th>\n",
       "      <th>waterfront</th>\n",
       "      <th>greenbelt</th>\n",
       "      <th>...</th>\n",
       "      <th>sewer_system</th>\n",
       "      <th>sqft_above</th>\n",
       "      <th>sqft_basement</th>\n",
       "      <th>sqft_garage</th>\n",
       "      <th>sqft_patio</th>\n",
       "      <th>yr_built</th>\n",
       "      <th>yr_renovated</th>\n",
       "      <th>address</th>\n",
       "      <th>lat</th>\n",
       "      <th>long</th>\n",
       "    </tr>\n",
       "  </thead>\n",
       "  <tbody>\n",
       "    <tr>\n",
       "      <th>4845</th>\n",
       "      <td>1233100736</td>\n",
       "      <td>9/28/2021</td>\n",
       "      <td>2600000.0</td>\n",
       "      <td>3</td>\n",
       "      <td>4.0</td>\n",
       "      <td>3500</td>\n",
       "      <td>8455</td>\n",
       "      <td>2.0</td>\n",
       "      <td>NO</td>\n",
       "      <td>NO</td>\n",
       "      <td>...</td>\n",
       "      <td>PUBLIC</td>\n",
       "      <td>2590</td>\n",
       "      <td>1410</td>\n",
       "      <td>500</td>\n",
       "      <td>290</td>\n",
       "      <td>2019</td>\n",
       "      <td>0</td>\n",
       "      <td>12611 Northeast 87th Place, Kirkland, Washingt...</td>\n",
       "      <td>47.68069</td>\n",
       "      <td>-122.172135</td>\n",
       "    </tr>\n",
       "    <tr>\n",
       "      <th>4846</th>\n",
       "      <td>1233100736</td>\n",
       "      <td>9/28/2021</td>\n",
       "      <td>2600000.0</td>\n",
       "      <td>3</td>\n",
       "      <td>4.0</td>\n",
       "      <td>3500</td>\n",
       "      <td>8455</td>\n",
       "      <td>2.0</td>\n",
       "      <td>NO</td>\n",
       "      <td>NO</td>\n",
       "      <td>...</td>\n",
       "      <td>PUBLIC</td>\n",
       "      <td>2590</td>\n",
       "      <td>1410</td>\n",
       "      <td>500</td>\n",
       "      <td>290</td>\n",
       "      <td>2019</td>\n",
       "      <td>0</td>\n",
       "      <td>12611 Northeast 87th Place, Kirkland, Washingt...</td>\n",
       "      <td>47.68069</td>\n",
       "      <td>-122.172135</td>\n",
       "    </tr>\n",
       "  </tbody>\n",
       "</table>\n",
       "<p>2 rows × 25 columns</p>\n",
       "</div>"
      ],
      "text/plain": [
       "              id       date      price  bedrooms  bathrooms  sqft_living  \\\n",
       "4845  1233100736  9/28/2021  2600000.0         3        4.0         3500   \n",
       "4846  1233100736  9/28/2021  2600000.0         3        4.0         3500   \n",
       "\n",
       "      sqft_lot  floors waterfront greenbelt  ... sewer_system sqft_above  \\\n",
       "4845      8455     2.0         NO        NO  ...       PUBLIC       2590   \n",
       "4846      8455     2.0         NO        NO  ...       PUBLIC       2590   \n",
       "\n",
       "     sqft_basement sqft_garage sqft_patio yr_built  yr_renovated  \\\n",
       "4845          1410         500        290     2019             0   \n",
       "4846          1410         500        290     2019             0   \n",
       "\n",
       "                                                address       lat        long  \n",
       "4845  12611 Northeast 87th Place, Kirkland, Washingt...  47.68069 -122.172135  \n",
       "4846  12611 Northeast 87th Place, Kirkland, Washingt...  47.68069 -122.172135  \n",
       "\n",
       "[2 rows x 25 columns]"
      ]
     },
     "execution_count": 544,
     "metadata": {},
     "output_type": "execute_result"
    }
   ],
   "source": [
    "df[df.duplicated(keep=False)].sort_values(by='address').head()\n",
    "#checking for duplicated rows"
   ]
  },
  {
   "cell_type": "code",
   "execution_count": 545,
   "id": "0b94e1c3",
   "metadata": {},
   "outputs": [],
   "source": [
    "# all zip codes for King County\n",
    "# source : https://www.zillow.com/browse/homes/wa/king-county/\n",
    "KCoZips =  [98052, 98092, 98115, 98103, 98003, 98023, 98105, 98042, 98034, 98133, 98118, 98125, 98058, \n",
    "            98031, 98122, 98033, 98032, 98004, 98059, 98001, 98006, 98056, 98030, 98155, 98168, 98117, \n",
    "            98002, 98198, 98038, 98029, 98027, 98109, 98074, 98144, 98007, 98040, 98072, 98146, 98011, \n",
    "            98107, 98106, 98188, 98008, 98178, 98108, 98075, 98028, 98112, 98119, 98055, 98053, 98102, \n",
    "            98022, 98126, 98116, 98005, 98121, 98199, 98177, 98166, 98136, 98045, 98077, 98101, 98057,\n",
    "            98065, 98104, 98019, 98148, 98014, 98354, 98070, 98010, 98024, 98051, 98047, 98151, 98251,\n",
    "            98134, 98039, 98195, 98158, 98154, 98161, 98174, 98068, 98256, 98288, 98050, 98132, 98171,\n",
    "            98184, 98054, 98164, 98181, 98224, 98191, 98009, 98013, 98015, 98025, 98035, 98041, 98062, \n",
    "            98064, 98063, 98071, 98073, 98083, 98089, 98093, 98111, 98113, 98114, 98124, 98127, 98131, \n",
    "            98129, 98139, 98138, 98141, 98145, 98160, 98165, 98170, 98175, 98185, 98190, 98194, 98471,\n",
    "            98481]"
   ]
  },
  {
   "cell_type": "code",
   "execution_count": 546,
   "id": "250a45ac",
   "metadata": {
    "scrolled": true
   },
   "outputs": [
    {
     "data": {
      "text/plain": [
       "131"
      ]
     },
     "execution_count": 546,
     "metadata": {},
     "output_type": "execute_result"
    }
   ],
   "source": [
    "#amount of zip cods for king county\n",
    "len(KCoZips)"
   ]
  },
  {
   "cell_type": "code",
   "execution_count": 547,
   "id": "681ec3d3",
   "metadata": {},
   "outputs": [
    {
     "data": {
      "text/plain": [
       "Index(['id', 'date', 'price', 'bedrooms', 'bathrooms', 'sqft_living',\n",
       "       'sqft_lot', 'floors', 'waterfront', 'greenbelt', 'nuisance', 'view',\n",
       "       'condition', 'grade', 'heat_source', 'sewer_system', 'sqft_above',\n",
       "       'sqft_basement', 'sqft_garage', 'sqft_patio', 'yr_built',\n",
       "       'yr_renovated', 'address', 'lat', 'long'],\n",
       "      dtype='object')"
      ]
     },
     "execution_count": 547,
     "metadata": {},
     "output_type": "execute_result"
    }
   ],
   "source": [
    "df.columns"
   ]
  },
  {
   "cell_type": "raw",
   "id": "2749438e",
   "metadata": {},
   "source": [
    "# indexing zip code from address column\n",
    "# also checking through data for non washington addresses\n",
    "\n",
    "pd.set_option('display.max_rows', None)\n",
    "pd.set_option('display.max_columns', None)\n",
    "pd.set_option('display.max_colwidth', None)\n",
    "\n",
    "df['address'].sort_values(ascending=False)\n",
    "\n",
    "#looks like there are addresses from outside of King County"
   ]
  },
  {
   "cell_type": "raw",
   "id": "934d343d",
   "metadata": {},
   "source": [
    "# resets output displays\n",
    "pd.reset_option('display.max_rows')\n",
    "pd.reset_option('display.max_columns')\n",
    "pd.reset_option('display.max_colwidth')"
   ]
  },
  {
   "cell_type": "code",
   "execution_count": 548,
   "id": "7acce5bf",
   "metadata": {
    "scrolled": true
   },
   "outputs": [
    {
     "name": "stdout",
     "output_type": "stream",
     "text": [
      "<class 'pandas.core.frame.DataFrame'>\n",
      "RangeIndex: 209 entries, 0 to 208\n",
      "Data columns (total 9 columns):\n",
      " #   Column          Non-Null Count  Dtype  \n",
      "---  ------          --------------  -----  \n",
      " 0   OBJECTID        209 non-null    int64  \n",
      " 1   ZIP             209 non-null    int64  \n",
      " 2   ZIPCODE         209 non-null    int64  \n",
      " 3   COUNTY          209 non-null    int64  \n",
      " 4   ZIP_TYPE        209 non-null    object \n",
      " 5   COUNTY_NAME     209 non-null    object \n",
      " 6   PREFERRED_CITY  209 non-null    object \n",
      " 7   Shape_Length    209 non-null    float64\n",
      " 8   Shape_Area      209 non-null    float64\n",
      "dtypes: float64(2), int64(4), object(3)\n",
      "memory usage: 14.8+ KB\n"
     ]
    }
   ],
   "source": [
    "# looking at the imported zipcodes csv file\n",
    "dfz.info()\n",
    "# so we need to convert the zipcode from df to an integer in order to merge with dfz"
   ]
  },
  {
   "cell_type": "code",
   "execution_count": 549,
   "id": "2c451771",
   "metadata": {},
   "outputs": [],
   "source": [
    "# creating zipcodes column by slicing the address column\n",
    "df['zipcodes'] = df['address'].apply(lambda x: x[-20:-15])"
   ]
  },
  {
   "cell_type": "code",
   "execution_count": 550,
   "id": "61f2b83c",
   "metadata": {},
   "outputs": [],
   "source": [
    "# zipcodes in King Co imported table in integer format, but string in our dataframe\n",
    "# need to convert zipcode column into integer\n",
    "df['zipcodes'] = df['zipcodes'].apply(lambda x: int(x))"
   ]
  },
  {
   "cell_type": "code",
   "execution_count": 551,
   "id": "e2e90e59",
   "metadata": {
    "scrolled": false
   },
   "outputs": [
    {
     "data": {
      "text/plain": [
       "98042    992\n",
       "98038    858\n",
       "98115    761\n",
       "98103    761\n",
       "98117    748\n",
       "        ... \n",
       "62204      1\n",
       "68862      1\n",
       "85207      1\n",
       "99202      1\n",
       "34470      1\n",
       "Name: zipcodes, Length: 399, dtype: int64"
      ]
     },
     "execution_count": 551,
     "metadata": {},
     "output_type": "execute_result"
    }
   ],
   "source": [
    "df['zipcodes'].value_counts()"
   ]
  },
  {
   "cell_type": "code",
   "execution_count": 552,
   "id": "0042b745",
   "metadata": {},
   "outputs": [],
   "source": [
    "# removing zip codes that are not in King County\n",
    "# data from king county GIS included surrounding areas\n",
    "df = df[df['zipcodes'].isin(KCoZips)]"
   ]
  },
  {
   "cell_type": "code",
   "execution_count": 553,
   "id": "f75ab8eb",
   "metadata": {},
   "outputs": [],
   "source": [
    "# only including the relevant columns from GIS dataset\n",
    "dfz = dfz[['ZIPCODE', 'PREFERRED_CITY']]"
   ]
  },
  {
   "cell_type": "code",
   "execution_count": 554,
   "id": "d10234f3",
   "metadata": {},
   "outputs": [
    {
     "data": {
      "text/plain": [
       "(29215, 26)"
      ]
     },
     "execution_count": 554,
     "metadata": {},
     "output_type": "execute_result"
    }
   ],
   "source": [
    "# checking the rows before merge\n",
    "df.shape"
   ]
  },
  {
   "cell_type": "code",
   "execution_count": 555,
   "id": "abbdc42c",
   "metadata": {},
   "outputs": [],
   "source": [
    "# mergeeeee\n",
    "df = df.merge(dfz, how = 'left', left_on = 'zipcodes', right_on = 'ZIPCODE')"
   ]
  },
  {
   "cell_type": "code",
   "execution_count": 556,
   "id": "8237109b",
   "metadata": {},
   "outputs": [],
   "source": [
    "# WE REDUCED OUR CATEGORICALS TO 40 FROM 400"
   ]
  },
  {
   "cell_type": "code",
   "execution_count": 557,
   "id": "c8dc9e4d",
   "metadata": {
    "scrolled": true
   },
   "outputs": [
    {
     "name": "stdout",
     "output_type": "stream",
     "text": [
      "<class 'pandas.core.frame.DataFrame'>\n",
      "Int64Index: 31737 entries, 0 to 31781\n",
      "Data columns (total 28 columns):\n",
      " #   Column          Non-Null Count  Dtype  \n",
      "---  ------          --------------  -----  \n",
      " 0   id              31737 non-null  int64  \n",
      " 1   date            31737 non-null  object \n",
      " 2   price           31737 non-null  float64\n",
      " 3   bedrooms        31737 non-null  int64  \n",
      " 4   bathrooms       31737 non-null  float64\n",
      " 5   sqft_living     31737 non-null  int64  \n",
      " 6   sqft_lot        31737 non-null  int64  \n",
      " 7   floors          31737 non-null  float64\n",
      " 8   waterfront      31737 non-null  object \n",
      " 9   greenbelt       31737 non-null  object \n",
      " 10  nuisance        31737 non-null  object \n",
      " 11  view            31737 non-null  object \n",
      " 12  condition       31737 non-null  object \n",
      " 13  grade           31737 non-null  object \n",
      " 14  heat_source     31737 non-null  object \n",
      " 15  sewer_system    31737 non-null  object \n",
      " 16  sqft_above      31737 non-null  int64  \n",
      " 17  sqft_basement   31737 non-null  int64  \n",
      " 18  sqft_garage     31737 non-null  int64  \n",
      " 19  sqft_patio      31737 non-null  int64  \n",
      " 20  yr_built        31737 non-null  int64  \n",
      " 21  yr_renovated    31737 non-null  int64  \n",
      " 22  address         31737 non-null  object \n",
      " 23  lat             31737 non-null  float64\n",
      " 24  long            31737 non-null  float64\n",
      " 25  zipcodes        31737 non-null  int64  \n",
      " 26  ZIPCODE         31737 non-null  int64  \n",
      " 27  PREFERRED_CITY  31737 non-null  object \n",
      "dtypes: float64(5), int64(12), object(11)\n",
      "memory usage: 7.0+ MB\n"
     ]
    }
   ],
   "source": [
    "# checking rows and nulls after merge and dropna\n",
    "df = df.dropna()\n",
    "df.info()\n",
    "# there seems to be duplicate values since the values went up"
   ]
  },
  {
   "cell_type": "code",
   "execution_count": 558,
   "id": "55bbc708",
   "metadata": {},
   "outputs": [
    {
     "data": {
      "text/plain": [
       "(5126, 28)"
      ]
     },
     "execution_count": 558,
     "metadata": {},
     "output_type": "execute_result"
    }
   ],
   "source": [
    "#checking for duplicates specifically\n",
    "df[df.duplicated(keep=False)].sort_values(by='address').shape"
   ]
  },
  {
   "cell_type": "code",
   "execution_count": 559,
   "id": "d1856117",
   "metadata": {
    "scrolled": true
   },
   "outputs": [
    {
     "name": "stdout",
     "output_type": "stream",
     "text": [
      "<class 'pandas.core.frame.DataFrame'>\n",
      "Int64Index: 29015 entries, 0 to 31781\n",
      "Data columns (total 28 columns):\n",
      " #   Column          Non-Null Count  Dtype  \n",
      "---  ------          --------------  -----  \n",
      " 0   id              29015 non-null  int64  \n",
      " 1   date            29015 non-null  object \n",
      " 2   price           29015 non-null  float64\n",
      " 3   bedrooms        29015 non-null  int64  \n",
      " 4   bathrooms       29015 non-null  float64\n",
      " 5   sqft_living     29015 non-null  int64  \n",
      " 6   sqft_lot        29015 non-null  int64  \n",
      " 7   floors          29015 non-null  float64\n",
      " 8   waterfront      29015 non-null  object \n",
      " 9   greenbelt       29015 non-null  object \n",
      " 10  nuisance        29015 non-null  object \n",
      " 11  view            29015 non-null  object \n",
      " 12  condition       29015 non-null  object \n",
      " 13  grade           29015 non-null  object \n",
      " 14  heat_source     29015 non-null  object \n",
      " 15  sewer_system    29015 non-null  object \n",
      " 16  sqft_above      29015 non-null  int64  \n",
      " 17  sqft_basement   29015 non-null  int64  \n",
      " 18  sqft_garage     29015 non-null  int64  \n",
      " 19  sqft_patio      29015 non-null  int64  \n",
      " 20  yr_built        29015 non-null  int64  \n",
      " 21  yr_renovated    29015 non-null  int64  \n",
      " 22  address         29015 non-null  object \n",
      " 23  lat             29015 non-null  float64\n",
      " 24  long            29015 non-null  float64\n",
      " 25  zipcodes        29015 non-null  int64  \n",
      " 26  ZIPCODE         29015 non-null  int64  \n",
      " 27  PREFERRED_CITY  29015 non-null  object \n",
      "dtypes: float64(5), int64(12), object(11)\n",
      "memory usage: 6.4+ MB\n"
     ]
    }
   ],
   "source": [
    "# dropping duplicates\n",
    "# df = df.dropna()\n",
    "df = df.drop_duplicates(subset=['address'])\n",
    "df.info()"
   ]
  },
  {
   "cell_type": "markdown",
   "id": "40b92b5e",
   "metadata": {},
   "source": [
    "# Data Exploration Base Model"
   ]
  },
  {
   "cell_type": "code",
   "execution_count": 560,
   "id": "1ce4cbc3",
   "metadata": {},
   "outputs": [],
   "source": [
    "X = df.drop(columns = ['price'])\n",
    "y = df['price']"
   ]
  },
  {
   "cell_type": "code",
   "execution_count": 561,
   "id": "db3be5f2",
   "metadata": {},
   "outputs": [
    {
     "name": "stderr",
     "output_type": "stream",
     "text": [
      "/var/folders/bf/n_rprvk91ndgxz_bd75lz03h0000gp/T/ipykernel_16171/1968499000.py:1: FutureWarning: The default value of numeric_only in DataFrame.corr is deprecated. In a future version, it will default to False. Select only valid columns or specify the value of numeric_only to silence this warning.\n",
      "  X.corr()\n"
     ]
    },
    {
     "data": {
      "text/html": [
       "<div>\n",
       "<style scoped>\n",
       "    .dataframe tbody tr th:only-of-type {\n",
       "        vertical-align: middle;\n",
       "    }\n",
       "\n",
       "    .dataframe tbody tr th {\n",
       "        vertical-align: top;\n",
       "    }\n",
       "\n",
       "    .dataframe thead th {\n",
       "        text-align: right;\n",
       "    }\n",
       "</style>\n",
       "<table border=\"1\" class=\"dataframe\">\n",
       "  <thead>\n",
       "    <tr style=\"text-align: right;\">\n",
       "      <th></th>\n",
       "      <th>id</th>\n",
       "      <th>bedrooms</th>\n",
       "      <th>bathrooms</th>\n",
       "      <th>sqft_living</th>\n",
       "      <th>sqft_lot</th>\n",
       "      <th>floors</th>\n",
       "      <th>sqft_above</th>\n",
       "      <th>sqft_basement</th>\n",
       "      <th>sqft_garage</th>\n",
       "      <th>sqft_patio</th>\n",
       "      <th>yr_built</th>\n",
       "      <th>yr_renovated</th>\n",
       "      <th>lat</th>\n",
       "      <th>long</th>\n",
       "      <th>zipcodes</th>\n",
       "      <th>ZIPCODE</th>\n",
       "    </tr>\n",
       "  </thead>\n",
       "  <tbody>\n",
       "    <tr>\n",
       "      <th>id</th>\n",
       "      <td>1.000000</td>\n",
       "      <td>-0.006043</td>\n",
       "      <td>-0.013962</td>\n",
       "      <td>-0.028218</td>\n",
       "      <td>-0.121127</td>\n",
       "      <td>0.032791</td>\n",
       "      <td>-0.022402</td>\n",
       "      <td>-0.016232</td>\n",
       "      <td>-0.007142</td>\n",
       "      <td>-0.043077</td>\n",
       "      <td>0.020605</td>\n",
       "      <td>-0.028657</td>\n",
       "      <td>-0.001818</td>\n",
       "      <td>0.009800</td>\n",
       "      <td>-0.004192</td>\n",
       "      <td>-0.004192</td>\n",
       "    </tr>\n",
       "    <tr>\n",
       "      <th>bedrooms</th>\n",
       "      <td>-0.006043</td>\n",
       "      <td>1.000000</td>\n",
       "      <td>0.594510</td>\n",
       "      <td>0.629503</td>\n",
       "      <td>-0.000756</td>\n",
       "      <td>0.206114</td>\n",
       "      <td>0.536092</td>\n",
       "      <td>0.234312</td>\n",
       "      <td>0.302579</td>\n",
       "      <td>0.193138</td>\n",
       "      <td>0.188908</td>\n",
       "      <td>0.010440</td>\n",
       "      <td>-0.017253</td>\n",
       "      <td>0.130621</td>\n",
       "      <td>-0.159889</td>\n",
       "      <td>-0.159889</td>\n",
       "    </tr>\n",
       "    <tr>\n",
       "      <th>bathrooms</th>\n",
       "      <td>-0.013962</td>\n",
       "      <td>0.594510</td>\n",
       "      <td>1.000000</td>\n",
       "      <td>0.780958</td>\n",
       "      <td>0.038990</td>\n",
       "      <td>0.433211</td>\n",
       "      <td>0.681687</td>\n",
       "      <td>0.260994</td>\n",
       "      <td>0.461847</td>\n",
       "      <td>0.334317</td>\n",
       "      <td>0.457914</td>\n",
       "      <td>0.043147</td>\n",
       "      <td>0.045854</td>\n",
       "      <td>0.178014</td>\n",
       "      <td>-0.179152</td>\n",
       "      <td>-0.179152</td>\n",
       "    </tr>\n",
       "    <tr>\n",
       "      <th>sqft_living</th>\n",
       "      <td>-0.028218</td>\n",
       "      <td>0.629503</td>\n",
       "      <td>0.780958</td>\n",
       "      <td>1.000000</td>\n",
       "      <td>0.118097</td>\n",
       "      <td>0.368062</td>\n",
       "      <td>0.881266</td>\n",
       "      <td>0.335763</td>\n",
       "      <td>0.501736</td>\n",
       "      <td>0.407442</td>\n",
       "      <td>0.335366</td>\n",
       "      <td>0.035172</td>\n",
       "      <td>0.048289</td>\n",
       "      <td>0.230625</td>\n",
       "      <td>-0.191074</td>\n",
       "      <td>-0.191074</td>\n",
       "    </tr>\n",
       "    <tr>\n",
       "      <th>sqft_lot</th>\n",
       "      <td>-0.121127</td>\n",
       "      <td>-0.000756</td>\n",
       "      <td>0.038990</td>\n",
       "      <td>0.118097</td>\n",
       "      <td>1.000000</td>\n",
       "      <td>-0.018161</td>\n",
       "      <td>0.128033</td>\n",
       "      <td>0.001942</td>\n",
       "      <td>0.084134</td>\n",
       "      <td>0.157526</td>\n",
       "      <td>0.014437</td>\n",
       "      <td>0.007379</td>\n",
       "      <td>-0.073750</td>\n",
       "      <td>0.182678</td>\n",
       "      <td>-0.095724</td>\n",
       "      <td>-0.095724</td>\n",
       "    </tr>\n",
       "    <tr>\n",
       "      <th>floors</th>\n",
       "      <td>0.032791</td>\n",
       "      <td>0.206114</td>\n",
       "      <td>0.433211</td>\n",
       "      <td>0.368062</td>\n",
       "      <td>-0.018161</td>\n",
       "      <td>1.000000</td>\n",
       "      <td>0.518943</td>\n",
       "      <td>-0.241797</td>\n",
       "      <td>0.190244</td>\n",
       "      <td>0.124782</td>\n",
       "      <td>0.515694</td>\n",
       "      <td>-0.013332</td>\n",
       "      <td>0.043654</td>\n",
       "      <td>0.097289</td>\n",
       "      <td>-0.042282</td>\n",
       "      <td>-0.042282</td>\n",
       "    </tr>\n",
       "    <tr>\n",
       "      <th>sqft_above</th>\n",
       "      <td>-0.022402</td>\n",
       "      <td>0.536092</td>\n",
       "      <td>0.681687</td>\n",
       "      <td>0.881266</td>\n",
       "      <td>0.128033</td>\n",
       "      <td>0.518943</td>\n",
       "      <td>1.000000</td>\n",
       "      <td>-0.074724</td>\n",
       "      <td>0.552206</td>\n",
       "      <td>0.322274</td>\n",
       "      <td>0.435209</td>\n",
       "      <td>0.006848</td>\n",
       "      <td>-0.023563</td>\n",
       "      <td>0.335617</td>\n",
       "      <td>-0.262618</td>\n",
       "      <td>-0.262618</td>\n",
       "    </tr>\n",
       "    <tr>\n",
       "      <th>sqft_basement</th>\n",
       "      <td>-0.016232</td>\n",
       "      <td>0.234312</td>\n",
       "      <td>0.260994</td>\n",
       "      <td>0.335763</td>\n",
       "      <td>0.001942</td>\n",
       "      <td>-0.241797</td>\n",
       "      <td>-0.074724</td>\n",
       "      <td>1.000000</td>\n",
       "      <td>0.015415</td>\n",
       "      <td>0.214800</td>\n",
       "      <td>-0.225876</td>\n",
       "      <td>0.052351</td>\n",
       "      <td>0.189264</td>\n",
       "      <td>-0.223557</td>\n",
       "      <td>0.162453</td>\n",
       "      <td>0.162453</td>\n",
       "    </tr>\n",
       "    <tr>\n",
       "      <th>sqft_garage</th>\n",
       "      <td>-0.007142</td>\n",
       "      <td>0.302579</td>\n",
       "      <td>0.461847</td>\n",
       "      <td>0.501736</td>\n",
       "      <td>0.084134</td>\n",
       "      <td>0.190244</td>\n",
       "      <td>0.552206</td>\n",
       "      <td>0.015415</td>\n",
       "      <td>1.000000</td>\n",
       "      <td>0.229089</td>\n",
       "      <td>0.505586</td>\n",
       "      <td>-0.105415</td>\n",
       "      <td>-0.131351</td>\n",
       "      <td>0.374833</td>\n",
       "      <td>-0.360266</td>\n",
       "      <td>-0.360266</td>\n",
       "    </tr>\n",
       "    <tr>\n",
       "      <th>sqft_patio</th>\n",
       "      <td>-0.043077</td>\n",
       "      <td>0.193138</td>\n",
       "      <td>0.334317</td>\n",
       "      <td>0.407442</td>\n",
       "      <td>0.157526</td>\n",
       "      <td>0.124782</td>\n",
       "      <td>0.322274</td>\n",
       "      <td>0.214800</td>\n",
       "      <td>0.229089</td>\n",
       "      <td>1.000000</td>\n",
       "      <td>0.136616</td>\n",
       "      <td>0.058015</td>\n",
       "      <td>0.011563</td>\n",
       "      <td>0.122668</td>\n",
       "      <td>-0.106212</td>\n",
       "      <td>-0.106212</td>\n",
       "    </tr>\n",
       "    <tr>\n",
       "      <th>yr_built</th>\n",
       "      <td>0.020605</td>\n",
       "      <td>0.188908</td>\n",
       "      <td>0.457914</td>\n",
       "      <td>0.335366</td>\n",
       "      <td>0.014437</td>\n",
       "      <td>0.515694</td>\n",
       "      <td>0.435209</td>\n",
       "      <td>-0.225876</td>\n",
       "      <td>0.505586</td>\n",
       "      <td>0.136616</td>\n",
       "      <td>1.000000</td>\n",
       "      <td>-0.237007</td>\n",
       "      <td>-0.158600</td>\n",
       "      <td>0.361291</td>\n",
       "      <td>-0.306125</td>\n",
       "      <td>-0.306125</td>\n",
       "    </tr>\n",
       "    <tr>\n",
       "      <th>yr_renovated</th>\n",
       "      <td>-0.028657</td>\n",
       "      <td>0.010440</td>\n",
       "      <td>0.043147</td>\n",
       "      <td>0.035172</td>\n",
       "      <td>0.007379</td>\n",
       "      <td>-0.013332</td>\n",
       "      <td>0.006848</td>\n",
       "      <td>0.052351</td>\n",
       "      <td>-0.105415</td>\n",
       "      <td>0.058015</td>\n",
       "      <td>-0.237007</td>\n",
       "      <td>1.000000</td>\n",
       "      <td>0.042543</td>\n",
       "      <td>-0.060468</td>\n",
       "      <td>0.062327</td>\n",
       "      <td>0.062327</td>\n",
       "    </tr>\n",
       "    <tr>\n",
       "      <th>lat</th>\n",
       "      <td>-0.001818</td>\n",
       "      <td>-0.017253</td>\n",
       "      <td>0.045854</td>\n",
       "      <td>0.048289</td>\n",
       "      <td>-0.073750</td>\n",
       "      <td>0.043654</td>\n",
       "      <td>-0.023563</td>\n",
       "      <td>0.189264</td>\n",
       "      <td>-0.131351</td>\n",
       "      <td>0.011563</td>\n",
       "      <td>-0.158600</td>\n",
       "      <td>0.042543</td>\n",
       "      <td>1.000000</td>\n",
       "      <td>-0.181921</td>\n",
       "      <td>0.303531</td>\n",
       "      <td>0.303531</td>\n",
       "    </tr>\n",
       "    <tr>\n",
       "      <th>long</th>\n",
       "      <td>0.009800</td>\n",
       "      <td>0.130621</td>\n",
       "      <td>0.178014</td>\n",
       "      <td>0.230625</td>\n",
       "      <td>0.182678</td>\n",
       "      <td>0.097289</td>\n",
       "      <td>0.335617</td>\n",
       "      <td>-0.223557</td>\n",
       "      <td>0.374833</td>\n",
       "      <td>0.122668</td>\n",
       "      <td>0.361291</td>\n",
       "      <td>-0.060468</td>\n",
       "      <td>-0.181921</td>\n",
       "      <td>1.000000</td>\n",
       "      <td>-0.522803</td>\n",
       "      <td>-0.522803</td>\n",
       "    </tr>\n",
       "    <tr>\n",
       "      <th>zipcodes</th>\n",
       "      <td>-0.004192</td>\n",
       "      <td>-0.159889</td>\n",
       "      <td>-0.179152</td>\n",
       "      <td>-0.191074</td>\n",
       "      <td>-0.095724</td>\n",
       "      <td>-0.042282</td>\n",
       "      <td>-0.262618</td>\n",
       "      <td>0.162453</td>\n",
       "      <td>-0.360266</td>\n",
       "      <td>-0.106212</td>\n",
       "      <td>-0.306125</td>\n",
       "      <td>0.062327</td>\n",
       "      <td>0.303531</td>\n",
       "      <td>-0.522803</td>\n",
       "      <td>1.000000</td>\n",
       "      <td>1.000000</td>\n",
       "    </tr>\n",
       "    <tr>\n",
       "      <th>ZIPCODE</th>\n",
       "      <td>-0.004192</td>\n",
       "      <td>-0.159889</td>\n",
       "      <td>-0.179152</td>\n",
       "      <td>-0.191074</td>\n",
       "      <td>-0.095724</td>\n",
       "      <td>-0.042282</td>\n",
       "      <td>-0.262618</td>\n",
       "      <td>0.162453</td>\n",
       "      <td>-0.360266</td>\n",
       "      <td>-0.106212</td>\n",
       "      <td>-0.306125</td>\n",
       "      <td>0.062327</td>\n",
       "      <td>0.303531</td>\n",
       "      <td>-0.522803</td>\n",
       "      <td>1.000000</td>\n",
       "      <td>1.000000</td>\n",
       "    </tr>\n",
       "  </tbody>\n",
       "</table>\n",
       "</div>"
      ],
      "text/plain": [
       "                     id  bedrooms  bathrooms  sqft_living  sqft_lot    floors  \\\n",
       "id             1.000000 -0.006043  -0.013962    -0.028218 -0.121127  0.032791   \n",
       "bedrooms      -0.006043  1.000000   0.594510     0.629503 -0.000756  0.206114   \n",
       "bathrooms     -0.013962  0.594510   1.000000     0.780958  0.038990  0.433211   \n",
       "sqft_living   -0.028218  0.629503   0.780958     1.000000  0.118097  0.368062   \n",
       "sqft_lot      -0.121127 -0.000756   0.038990     0.118097  1.000000 -0.018161   \n",
       "floors         0.032791  0.206114   0.433211     0.368062 -0.018161  1.000000   \n",
       "sqft_above    -0.022402  0.536092   0.681687     0.881266  0.128033  0.518943   \n",
       "sqft_basement -0.016232  0.234312   0.260994     0.335763  0.001942 -0.241797   \n",
       "sqft_garage   -0.007142  0.302579   0.461847     0.501736  0.084134  0.190244   \n",
       "sqft_patio    -0.043077  0.193138   0.334317     0.407442  0.157526  0.124782   \n",
       "yr_built       0.020605  0.188908   0.457914     0.335366  0.014437  0.515694   \n",
       "yr_renovated  -0.028657  0.010440   0.043147     0.035172  0.007379 -0.013332   \n",
       "lat           -0.001818 -0.017253   0.045854     0.048289 -0.073750  0.043654   \n",
       "long           0.009800  0.130621   0.178014     0.230625  0.182678  0.097289   \n",
       "zipcodes      -0.004192 -0.159889  -0.179152    -0.191074 -0.095724 -0.042282   \n",
       "ZIPCODE       -0.004192 -0.159889  -0.179152    -0.191074 -0.095724 -0.042282   \n",
       "\n",
       "               sqft_above  sqft_basement  sqft_garage  sqft_patio  yr_built  \\\n",
       "id              -0.022402      -0.016232    -0.007142   -0.043077  0.020605   \n",
       "bedrooms         0.536092       0.234312     0.302579    0.193138  0.188908   \n",
       "bathrooms        0.681687       0.260994     0.461847    0.334317  0.457914   \n",
       "sqft_living      0.881266       0.335763     0.501736    0.407442  0.335366   \n",
       "sqft_lot         0.128033       0.001942     0.084134    0.157526  0.014437   \n",
       "floors           0.518943      -0.241797     0.190244    0.124782  0.515694   \n",
       "sqft_above       1.000000      -0.074724     0.552206    0.322274  0.435209   \n",
       "sqft_basement   -0.074724       1.000000     0.015415    0.214800 -0.225876   \n",
       "sqft_garage      0.552206       0.015415     1.000000    0.229089  0.505586   \n",
       "sqft_patio       0.322274       0.214800     0.229089    1.000000  0.136616   \n",
       "yr_built         0.435209      -0.225876     0.505586    0.136616  1.000000   \n",
       "yr_renovated     0.006848       0.052351    -0.105415    0.058015 -0.237007   \n",
       "lat             -0.023563       0.189264    -0.131351    0.011563 -0.158600   \n",
       "long             0.335617      -0.223557     0.374833    0.122668  0.361291   \n",
       "zipcodes        -0.262618       0.162453    -0.360266   -0.106212 -0.306125   \n",
       "ZIPCODE         -0.262618       0.162453    -0.360266   -0.106212 -0.306125   \n",
       "\n",
       "               yr_renovated       lat      long  zipcodes   ZIPCODE  \n",
       "id                -0.028657 -0.001818  0.009800 -0.004192 -0.004192  \n",
       "bedrooms           0.010440 -0.017253  0.130621 -0.159889 -0.159889  \n",
       "bathrooms          0.043147  0.045854  0.178014 -0.179152 -0.179152  \n",
       "sqft_living        0.035172  0.048289  0.230625 -0.191074 -0.191074  \n",
       "sqft_lot           0.007379 -0.073750  0.182678 -0.095724 -0.095724  \n",
       "floors            -0.013332  0.043654  0.097289 -0.042282 -0.042282  \n",
       "sqft_above         0.006848 -0.023563  0.335617 -0.262618 -0.262618  \n",
       "sqft_basement      0.052351  0.189264 -0.223557  0.162453  0.162453  \n",
       "sqft_garage       -0.105415 -0.131351  0.374833 -0.360266 -0.360266  \n",
       "sqft_patio         0.058015  0.011563  0.122668 -0.106212 -0.106212  \n",
       "yr_built          -0.237007 -0.158600  0.361291 -0.306125 -0.306125  \n",
       "yr_renovated       1.000000  0.042543 -0.060468  0.062327  0.062327  \n",
       "lat                0.042543  1.000000 -0.181921  0.303531  0.303531  \n",
       "long              -0.060468 -0.181921  1.000000 -0.522803 -0.522803  \n",
       "zipcodes           0.062327  0.303531 -0.522803  1.000000  1.000000  \n",
       "ZIPCODE            0.062327  0.303531 -0.522803  1.000000  1.000000  "
      ]
     },
     "execution_count": 561,
     "metadata": {},
     "output_type": "execute_result"
    }
   ],
   "source": [
    "X.corr()"
   ]
  },
  {
   "cell_type": "code",
   "execution_count": 562,
   "id": "a894ccd1",
   "metadata": {},
   "outputs": [
    {
     "name": "stderr",
     "output_type": "stream",
     "text": [
      "/var/folders/bf/n_rprvk91ndgxz_bd75lz03h0000gp/T/ipykernel_16171/3980791441.py:4: FutureWarning: The default value of numeric_only in DataFrame.corr is deprecated. In a future version, it will default to False. Select only valid columns or specify the value of numeric_only to silence this warning.\n",
      "  sns.heatmap(df.corr(), annot=True)\n"
     ]
    },
    {
     "data": {
      "image/png": "[encoded data removed]",
      "text/plain": [
       "<Figure size 1400x600 with 2 Axes>"
      ]
     },
     "metadata": {},
     "output_type": "display_data"
    }
   ],
   "source": [
    "# using heat map to check correlations\n",
    "\n",
    "plt.figure(figsize=(14, 6))\n",
    "sns.heatmap(df.corr(), annot=True)\n",
    "\n",
    "plt.title('Correlation Matrix for Features')\n",
    "plt.savefig(\"corrmat.jpg\", dpi = 300)\n",
    "plt.show()\n",
    "\n",
    "#we see sqft_living has the highest correlation to price"
   ]
  },
  {
   "cell_type": "markdown",
   "id": "dcb79e37",
   "metadata": {},
   "source": [
    "sns.pairplot(df)"
   ]
  },
  {
   "cell_type": "code",
   "execution_count": 563,
   "id": "2c330532",
   "metadata": {
    "scrolled": true
   },
   "outputs": [
    {
     "data": {
      "text/plain": [
       "<Axes: xlabel='sqft_living', ylabel='price'>"
      ]
     },
     "execution_count": 563,
     "metadata": {},
     "output_type": "execute_result"
    },
    {
     "data": {
      "image/png": "[encoded data removed]",
      "text/plain": [
       "<Figure size 640x480 with 1 Axes>"
      ]
     },
     "metadata": {},
     "output_type": "display_data"
    }
   ],
   "source": [
    "sns.regplot(x =df['sqft_living'],y = df['price'])"
   ]
  },
  {
   "cell_type": "code",
   "execution_count": 564,
   "id": "9fb7115a",
   "metadata": {},
   "outputs": [
    {
     "data": {
      "text/plain": [
       "0.3803731090091207"
      ]
     },
     "execution_count": 564,
     "metadata": {},
     "output_type": "execute_result"
    }
   ],
   "source": [
    "# THIS IS MY BASE MODEL\n",
    "\n",
    "X = df[['sqft_living']]\n",
    "y = df['price']\n",
    "\n",
    "from sklearn.linear_model import LinearRegression\n",
    "\n",
    "lr= LinearRegression()\n",
    "lr.fit(X,y)\n",
    "lr.score(X,y)"
   ]
  },
  {
   "cell_type": "markdown",
   "id": "617b9da0",
   "metadata": {},
   "source": [
    "# Data Exploration"
   ]
  },
  {
   "cell_type": "code",
   "execution_count": 565,
   "id": "5b6bb451",
   "metadata": {
    "scrolled": true
   },
   "outputs": [
    {
     "data": {
      "text/plain": [
       "<Axes: xlabel='bedrooms', ylabel='Count'>"
      ]
     },
     "execution_count": 565,
     "metadata": {},
     "output_type": "execute_result"
    },
    {
     "data": {
      "image/png": "[encoded data removed]",
      "text/plain": [
       "<Figure size 640x480 with 1 Axes>"
      ]
     },
     "metadata": {},
     "output_type": "display_data"
    }
   ],
   "source": [
    "sns.histplot(data = df['bedrooms'])"
   ]
  },
  {
   "cell_type": "code",
   "execution_count": 566,
   "id": "6a2e45e3",
   "metadata": {},
   "outputs": [
    {
     "data": {
      "text/plain": [
       "Index(['id', 'date', 'price', 'bedrooms', 'bathrooms', 'sqft_living',\n",
       "       'sqft_lot', 'floors', 'waterfront', 'greenbelt', 'nuisance', 'view',\n",
       "       'condition', 'grade', 'heat_source', 'sewer_system', 'sqft_above',\n",
       "       'sqft_basement', 'sqft_garage', 'sqft_patio', 'yr_built',\n",
       "       'yr_renovated', 'address', 'lat', 'long', 'zipcodes', 'ZIPCODE',\n",
       "       'PREFERRED_CITY'],\n",
       "      dtype='object')"
      ]
     },
     "execution_count": 566,
     "metadata": {},
     "output_type": "execute_result"
    }
   ],
   "source": [
    "df.columns"
   ]
  },
  {
   "cell_type": "code",
   "execution_count": null,
   "id": "f237e762",
   "metadata": {},
   "outputs": [],
   "source": []
  },
  {
   "cell_type": "code",
   "execution_count": null,
   "id": "a9eeedc5",
   "metadata": {},
   "outputs": [],
   "source": []
  },
  {
   "cell_type": "code",
   "execution_count": null,
   "id": "8909fee4",
   "metadata": {},
   "outputs": [],
   "source": []
  },
  {
   "cell_type": "code",
   "execution_count": null,
   "id": "c9426d4b",
   "metadata": {},
   "outputs": [],
   "source": []
  },
  {
   "cell_type": "code",
   "execution_count": null,
   "id": "4d1f8cac",
   "metadata": {},
   "outputs": [],
   "source": []
  },
  {
   "cell_type": "code",
   "execution_count": null,
   "id": "f399ef87",
   "metadata": {},
   "outputs": [],
   "source": []
  },
  {
   "cell_type": "code",
   "execution_count": null,
   "id": "c6ca33d8",
   "metadata": {},
   "outputs": [],
   "source": []
  },
  {
   "cell_type": "code",
   "execution_count": null,
   "id": "0478419b",
   "metadata": {},
   "outputs": [],
   "source": []
  },
  {
   "cell_type": "code",
   "execution_count": 567,
   "id": "f3722d38",
   "metadata": {},
   "outputs": [
    {
     "data": {
      "text/plain": [
       "PREFERRED_CITY\n",
       "MEDINA           3703.813559\n",
       "MERCER ISLAND    3316.750716\n",
       "SAMMAMIISH       3170.058394\n",
       "PRESTON          2790.000000\n",
       "SAMMAMISH        2789.859485\n",
       "WOODINVILLE      2753.785838\n",
       "BELLEVUE         2753.561270\n",
       "BLACK DIAMOND    2573.501597\n",
       "ISSAQUAH         2567.539118\n",
       "FALL CITY        2521.368421\n",
       "REDMOND          2502.184183\n",
       "RAVENSDALE       2470.000000\n",
       "SNOQUALMIE       2464.760274\n",
       "NORTH BEND       2433.297414\n",
       "BOTHELL          2362.289575\n",
       "DUVALL           2312.381148\n",
       "KIRKLAND         2312.145062\n",
       "KENMORE          2276.060519\n",
       "CARNATION        2254.967949\n",
       "MAPLE VALLEY     2226.962617\n",
       "RENTON           2147.892019\n",
       "KENT             2050.273644\n",
       "AUBURN           2040.702194\n",
       "FEDERAL WAY      2002.084581\n",
       "ENUMCLAW         1943.341357\n",
       "VASHON           1849.439791\n",
       "SEATTLE          1841.520839\n",
       "MILTON           1804.478261\n",
       "PACIFIC          1608.012987\n",
       "SKYKOMISH        1419.375000\n",
       "GOLD BAR         1273.333333\n",
       "BARING            890.000000\n",
       "Name: sqft_living, dtype: float64"
      ]
     },
     "execution_count": 567,
     "metadata": {},
     "output_type": "execute_result"
    }
   ],
   "source": [
    "df.groupby('PREFERRED_CITY')['sqft_living'].mean().sort_values(ascending=False)"
   ]
  },
  {
   "cell_type": "code",
   "execution_count": 568,
   "id": "5f552de3",
   "metadata": {},
   "outputs": [],
   "source": [
    "dfsqft = df.groupby('PREFERRED_CITY')['bathrooms'].mean().sort_values(ascending=False)"
   ]
  },
  {
   "cell_type": "code",
   "execution_count": 569,
   "id": "772eabac",
   "metadata": {},
   "outputs": [
    {
     "data": {
      "text/plain": [
       "PREFERRED_CITY\n",
       "MEDINA           3.372881\n",
       "MERCER ISLAND    3.186246\n",
       "SAMMAMIISH       3.000000\n",
       "SAMMAMISH        2.849765\n",
       "BELLEVUE         2.802857\n",
       "ISSAQUAH         2.748222\n",
       "Name: bathrooms, dtype: float64"
      ]
     },
     "execution_count": 569,
     "metadata": {},
     "output_type": "execute_result"
    }
   ],
   "source": [
    "dfhistsqft.head(6)"
   ]
  },
  {
   "cell_type": "code",
   "execution_count": 570,
   "id": "8b44d67d",
   "metadata": {},
   "outputs": [],
   "source": [
    "dfsqft_lot = df1.groupby('PREFERRED_CITY')['sqft_lot'].mean().sort_values(ascending=False)"
   ]
  },
  {
   "cell_type": "code",
   "execution_count": 571,
   "id": "3c3a69db",
   "metadata": {},
   "outputs": [
    {
     "data": {
      "text/plain": [
       "PREFERRED_CITY\n",
       "RAVENSDALE    149013.833333\n",
       "FALL CITY      95806.745614\n",
       "VASHON         92571.089005\n",
       "CARNATION      79717.883117\n",
       "ENUMCLAW       68958.151648\n",
       "DUVALL         57428.762295\n",
       "Name: sqft_lot, dtype: float64"
      ]
     },
     "execution_count": 571,
     "metadata": {},
     "output_type": "execute_result"
    }
   ],
   "source": [
    "dfsqft_lot.head(6)"
   ]
  },
  {
   "cell_type": "code",
   "execution_count": 572,
   "id": "1f8ea5ce",
   "metadata": {},
   "outputs": [
    {
     "data": {
      "text/plain": [
       "Text(0.5, 0, 'PREFERRED_CITY')"
      ]
     },
     "execution_count": 572,
     "metadata": {},
     "output_type": "execute_result"
    },
    {
     "data": {
      "image/png": "[encoded data removed]",
      "text/plain": [
       "<Figure size 640x480 with 1 Axes>"
      ]
     },
     "metadata": {},
     "output_type": "display_data"
    }
   ],
   "source": [
    "sns.histplot(data = dfhist, bins= 30)\n",
    "plt.xlabel('PREFERRED_CITY')"
   ]
  },
  {
   "cell_type": "code",
   "execution_count": 573,
   "id": "7e711a5a",
   "metadata": {},
   "outputs": [],
   "source": [
    "\n",
    "# regex=None,"
   ]
  },
  {
   "cell_type": "code",
   "execution_count": null,
   "id": "96b83aba",
   "metadata": {},
   "outputs": [],
   "source": []
  },
  {
   "cell_type": "code",
   "execution_count": null,
   "id": "63756d28",
   "metadata": {},
   "outputs": [],
   "source": []
  },
  {
   "cell_type": "code",
   "execution_count": 574,
   "id": "f0c3623b",
   "metadata": {},
   "outputs": [
    {
     "data": {
      "text/plain": [
       "SEATTLE          11829\n",
       "RENTON            2130\n",
       "KENT              2083\n",
       "AUBURN            1595\n",
       "BELLEVUE          1575\n",
       "KIRKLAND          1296\n",
       "FEDERAL WAY       1135\n",
       "REDMOND            961\n",
       "MAPLE VALLEY       856\n",
       "ISSAQUAH           703\n",
       "WOODINVILLE        579\n",
       "NORTH BEND         464\n",
       "ENUMCLAW           457\n",
       "SAMMAMISH          427\n",
       "SAMMAMIISH         411\n",
       "MERCER ISLAND      349\n",
       "KENMORE            347\n",
       "BLACK DIAMOND      313\n",
       "SNOQUALMIE         292\n",
       "BOTHELL            259\n",
       "DUVALL             244\n",
       "VASHON             191\n",
       "CARNATION          156\n",
       "FALL CITY          114\n",
       "PACIFIC             77\n",
       "RAVENSDALE          66\n",
       "MEDINA              59\n",
       "MILTON              23\n",
       "SKYKOMISH           16\n",
       "GOLD BAR             3\n",
       "BARING               3\n",
       "PRESTON              2\n",
       "Name: PREFERRED_CITY, dtype: int64"
      ]
     },
     "execution_count": 574,
     "metadata": {},
     "output_type": "execute_result"
    }
   ],
   "source": [
    "df.PREFERRED_CITY.value_counts()"
   ]
  },
  {
   "cell_type": "code",
   "execution_count": 575,
   "id": "4cc503c3",
   "metadata": {},
   "outputs": [],
   "source": [
    "dfMED = df[df['PREFERRED_CITY'].isin(['MEDINA'])]\n",
    "dfMERC = df[df['PREFERRED_CITY'].isin(['MEDINA'])]\n",
    "dfBELLE = df[df['PREFERRED_CITY'].isin(['BELLEVUE'])]\n",
    "dfSAM = df[df['PREFERRED_CITY'].isin(['SAMMAMISH'])]\n",
    "dfKIRK = df[df['PREFERRED_CITY'].isin(['KIRKLAND'])]\n",
    "dfKENT = df[df['PREFERRED_CITY'].isin(['KENT'])]\n",
    "dfRED = df[df['PREFERRED_CITY'].isin(['REDMOND'])]\n",
    "dfWOOD = df[df['PREFERRED_CITY'].isin(['WOODINVILLE'])]\n",
    "dfFALL = df[df['PREFERRED_CITY'].isin(['FALL CITY'])]\n",
    "dfFED = df[df['PREFERRED_CITY'].isin(['FEDERAL WAY'])]\n",
    "dfAUB = df[df['PREFERRED_CITY'].isin(['AUBURN'])]\n",
    "dfRENT = df[df['PREFERRED_CITY'].isin(['RENT'])]"
   ]
  },
  {
   "cell_type": "code",
   "execution_count": null,
   "id": "dd7a7fe5",
   "metadata": {},
   "outputs": [],
   "source": [
    "dfMED.sqft_living.value_counts()\n",
    "dfMERC \n",
    "dfBELLE\n",
    "dfSAM \n",
    "dfKIRK \n",
    "dfKENT \n",
    "dfRED \n",
    "dfWOOD\n",
    "dfFALL \n",
    "dfFED \n",
    "dfAUB\n",
    "dfRENT"
   ]
  },
  {
   "cell_type": "code",
   "execution_count": 299,
   "id": "66bff2b7",
   "metadata": {},
   "outputs": [
    {
     "data": {
      "text/plain": [
       "(48, 39)"
      ]
     },
     "execution_count": 299,
     "metadata": {},
     "output_type": "execute_result"
    }
   ],
   "source": [
    "dfMED[dfMED['sqft_living'] > 2000].shape"
   ]
  },
  {
   "cell_type": "code",
   "execution_count": 576,
   "id": "1dac240c",
   "metadata": {
    "scrolled": true
   },
   "outputs": [],
   "source": [
    "dfprefcityprices = df.groupby('PREFERRED_CITY')['price'].mean().sort_values(ascending=False)"
   ]
  },
  {
   "cell_type": "code",
   "execution_count": 577,
   "id": "b2085352",
   "metadata": {},
   "outputs": [
    {
     "data": {
      "text/plain": [
       "PREFERRED_CITY\n",
       "MEDINA           5.319170e+06\n",
       "MERCER ISLAND    2.761960e+06\n",
       "BELLEVUE         2.149155e+06\n",
       "SAMMAMIISH       1.903189e+06\n",
       "SAMMAMISH        1.707086e+06\n",
       "KIRKLAND         1.640557e+06\n",
       "PRESTON          1.600500e+06\n",
       "REDMOND          1.563663e+06\n",
       "WOODINVILLE      1.550504e+06\n",
       "FALL CITY        1.539561e+06\n",
       "ISSAQUAH         1.462132e+06\n",
       "BOTHELL          1.202928e+06\n",
       "SNOQUALMIE       1.173838e+06\n",
       "KENMORE          1.083541e+06\n",
       "NORTH BEND       1.062900e+06\n",
       "SEATTLE          1.016644e+06\n",
       "VASHON           9.884233e+05\n",
       "CARNATION        9.740629e+05\n",
       "DUVALL           9.723781e+05\n",
       "RAVENSDALE       9.540643e+05\n",
       "RENTON           8.823328e+05\n",
       "BLACK DIAMOND    8.342228e+05\n",
       "MAPLE VALLEY     8.072041e+05\n",
       "ENUMCLAW         6.485286e+05\n",
       "KENT             6.477059e+05\n",
       "AUBURN           6.245891e+05\n",
       "FEDERAL WAY      6.138539e+05\n",
       "MILTON           5.741593e+05\n",
       "GOLD BAR         5.153000e+05\n",
       "PACIFIC          4.929118e+05\n",
       "SKYKOMISH        4.572688e+05\n",
       "BARING           2.546667e+05\n",
       "Name: price, dtype: float64"
      ]
     },
     "execution_count": 577,
     "metadata": {},
     "output_type": "execute_result"
    }
   ],
   "source": [
    "dfprefcityprices"
   ]
  },
  {
   "cell_type": "code",
   "execution_count": 578,
   "id": "a2369ec9",
   "metadata": {},
   "outputs": [],
   "source": [
    "dfpcp = df.merge(dfprefcityprices, how = 'left', left_on = 'PREFERRED_CITY', right_on = 'PREFERRED_CITY')"
   ]
  },
  {
   "cell_type": "code",
   "execution_count": 579,
   "id": "f55eabd7",
   "metadata": {},
   "outputs": [],
   "source": [
    "dfpcp = dfpcp.dropna()\n",
    "dfpcp = dfpcp.drop_duplicates(subset=['address'])"
   ]
  },
  {
   "cell_type": "code",
   "execution_count": 580,
   "id": "fc5db142",
   "metadata": {},
   "outputs": [
    {
     "data": {
      "text/html": [
       "<div>\n",
       "<style scoped>\n",
       "    .dataframe tbody tr th:only-of-type {\n",
       "        vertical-align: middle;\n",
       "    }\n",
       "\n",
       "    .dataframe tbody tr th {\n",
       "        vertical-align: top;\n",
       "    }\n",
       "\n",
       "    .dataframe thead th {\n",
       "        text-align: right;\n",
       "    }\n",
       "</style>\n",
       "<table border=\"1\" class=\"dataframe\">\n",
       "  <thead>\n",
       "    <tr style=\"text-align: right;\">\n",
       "      <th></th>\n",
       "      <th>id</th>\n",
       "      <th>date</th>\n",
       "      <th>price_x</th>\n",
       "      <th>bedrooms</th>\n",
       "      <th>bathrooms</th>\n",
       "      <th>sqft_living</th>\n",
       "      <th>sqft_lot</th>\n",
       "      <th>floors</th>\n",
       "      <th>waterfront</th>\n",
       "      <th>greenbelt</th>\n",
       "      <th>...</th>\n",
       "      <th>sqft_patio</th>\n",
       "      <th>yr_built</th>\n",
       "      <th>yr_renovated</th>\n",
       "      <th>address</th>\n",
       "      <th>lat</th>\n",
       "      <th>long</th>\n",
       "      <th>zipcodes</th>\n",
       "      <th>ZIPCODE</th>\n",
       "      <th>PREFERRED_CITY</th>\n",
       "      <th>price_y</th>\n",
       "    </tr>\n",
       "  </thead>\n",
       "  <tbody>\n",
       "    <tr>\n",
       "      <th>0</th>\n",
       "      <td>7399300360</td>\n",
       "      <td>5/24/2022</td>\n",
       "      <td>675000.0</td>\n",
       "      <td>4</td>\n",
       "      <td>1.0</td>\n",
       "      <td>1180</td>\n",
       "      <td>7140</td>\n",
       "      <td>1.0</td>\n",
       "      <td>NO</td>\n",
       "      <td>NO</td>\n",
       "      <td>...</td>\n",
       "      <td>40</td>\n",
       "      <td>1969</td>\n",
       "      <td>0</td>\n",
       "      <td>2102 Southeast 21st Court, Renton, Washington ...</td>\n",
       "      <td>47.461975</td>\n",
       "      <td>-122.19052</td>\n",
       "      <td>98055</td>\n",
       "      <td>98055</td>\n",
       "      <td>RENTON</td>\n",
       "      <td>8.823328e+05</td>\n",
       "    </tr>\n",
       "    <tr>\n",
       "      <th>1</th>\n",
       "      <td>8910500230</td>\n",
       "      <td>12/13/2021</td>\n",
       "      <td>920000.0</td>\n",
       "      <td>5</td>\n",
       "      <td>2.5</td>\n",
       "      <td>2770</td>\n",
       "      <td>6703</td>\n",
       "      <td>1.0</td>\n",
       "      <td>NO</td>\n",
       "      <td>NO</td>\n",
       "      <td>...</td>\n",
       "      <td>240</td>\n",
       "      <td>1950</td>\n",
       "      <td>0</td>\n",
       "      <td>11231 Greenwood Avenue North, Seattle, Washing...</td>\n",
       "      <td>47.711525</td>\n",
       "      <td>-122.35591</td>\n",
       "      <td>98133</td>\n",
       "      <td>98133</td>\n",
       "      <td>SEATTLE</td>\n",
       "      <td>1.016644e+06</td>\n",
       "    </tr>\n",
       "    <tr>\n",
       "      <th>2</th>\n",
       "      <td>1180000275</td>\n",
       "      <td>9/29/2021</td>\n",
       "      <td>311000.0</td>\n",
       "      <td>6</td>\n",
       "      <td>2.0</td>\n",
       "      <td>2880</td>\n",
       "      <td>6156</td>\n",
       "      <td>1.0</td>\n",
       "      <td>NO</td>\n",
       "      <td>NO</td>\n",
       "      <td>...</td>\n",
       "      <td>0</td>\n",
       "      <td>1956</td>\n",
       "      <td>0</td>\n",
       "      <td>8504 South 113th Street, Seattle, Washington 9...</td>\n",
       "      <td>47.502045</td>\n",
       "      <td>-122.22520</td>\n",
       "      <td>98178</td>\n",
       "      <td>98178</td>\n",
       "      <td>SEATTLE</td>\n",
       "      <td>1.016644e+06</td>\n",
       "    </tr>\n",
       "    <tr>\n",
       "      <th>3</th>\n",
       "      <td>1604601802</td>\n",
       "      <td>12/14/2021</td>\n",
       "      <td>775000.0</td>\n",
       "      <td>3</td>\n",
       "      <td>3.0</td>\n",
       "      <td>2160</td>\n",
       "      <td>1400</td>\n",
       "      <td>2.0</td>\n",
       "      <td>NO</td>\n",
       "      <td>NO</td>\n",
       "      <td>...</td>\n",
       "      <td>270</td>\n",
       "      <td>2010</td>\n",
       "      <td>0</td>\n",
       "      <td>4079 Letitia Avenue South, Seattle, Washington...</td>\n",
       "      <td>47.566110</td>\n",
       "      <td>-122.29020</td>\n",
       "      <td>98118</td>\n",
       "      <td>98118</td>\n",
       "      <td>SEATTLE</td>\n",
       "      <td>1.016644e+06</td>\n",
       "    </tr>\n",
       "    <tr>\n",
       "      <th>4</th>\n",
       "      <td>8562780790</td>\n",
       "      <td>8/24/2021</td>\n",
       "      <td>592500.0</td>\n",
       "      <td>2</td>\n",
       "      <td>2.0</td>\n",
       "      <td>1120</td>\n",
       "      <td>758</td>\n",
       "      <td>2.0</td>\n",
       "      <td>NO</td>\n",
       "      <td>NO</td>\n",
       "      <td>...</td>\n",
       "      <td>30</td>\n",
       "      <td>2012</td>\n",
       "      <td>0</td>\n",
       "      <td>2193 Northwest Talus Drive, Issaquah, Washingt...</td>\n",
       "      <td>47.532470</td>\n",
       "      <td>-122.07188</td>\n",
       "      <td>98027</td>\n",
       "      <td>98027</td>\n",
       "      <td>ISSAQUAH</td>\n",
       "      <td>1.462132e+06</td>\n",
       "    </tr>\n",
       "    <tr>\n",
       "      <th>...</th>\n",
       "      <td>...</td>\n",
       "      <td>...</td>\n",
       "      <td>...</td>\n",
       "      <td>...</td>\n",
       "      <td>...</td>\n",
       "      <td>...</td>\n",
       "      <td>...</td>\n",
       "      <td>...</td>\n",
       "      <td>...</td>\n",
       "      <td>...</td>\n",
       "      <td>...</td>\n",
       "      <td>...</td>\n",
       "      <td>...</td>\n",
       "      <td>...</td>\n",
       "      <td>...</td>\n",
       "      <td>...</td>\n",
       "      <td>...</td>\n",
       "      <td>...</td>\n",
       "      <td>...</td>\n",
       "      <td>...</td>\n",
       "      <td>...</td>\n",
       "    </tr>\n",
       "    <tr>\n",
       "      <th>29010</th>\n",
       "      <td>7834800180</td>\n",
       "      <td>11/30/2021</td>\n",
       "      <td>1555000.0</td>\n",
       "      <td>5</td>\n",
       "      <td>2.0</td>\n",
       "      <td>1910</td>\n",
       "      <td>4000</td>\n",
       "      <td>1.5</td>\n",
       "      <td>NO</td>\n",
       "      <td>NO</td>\n",
       "      <td>...</td>\n",
       "      <td>210</td>\n",
       "      <td>1921</td>\n",
       "      <td>0</td>\n",
       "      <td>4673 Eastern Avenue North, Seattle, Washington...</td>\n",
       "      <td>47.664740</td>\n",
       "      <td>-122.32940</td>\n",
       "      <td>98103</td>\n",
       "      <td>98103</td>\n",
       "      <td>SEATTLE</td>\n",
       "      <td>1.016644e+06</td>\n",
       "    </tr>\n",
       "    <tr>\n",
       "      <th>29011</th>\n",
       "      <td>194000695</td>\n",
       "      <td>6/16/2021</td>\n",
       "      <td>1313000.0</td>\n",
       "      <td>3</td>\n",
       "      <td>2.0</td>\n",
       "      <td>2020</td>\n",
       "      <td>5800</td>\n",
       "      <td>2.0</td>\n",
       "      <td>NO</td>\n",
       "      <td>NO</td>\n",
       "      <td>...</td>\n",
       "      <td>520</td>\n",
       "      <td>2011</td>\n",
       "      <td>0</td>\n",
       "      <td>4131 44th Avenue Southwest, Seattle, Washingto...</td>\n",
       "      <td>47.565610</td>\n",
       "      <td>-122.38851</td>\n",
       "      <td>98116</td>\n",
       "      <td>98116</td>\n",
       "      <td>SEATTLE</td>\n",
       "      <td>1.016644e+06</td>\n",
       "    </tr>\n",
       "    <tr>\n",
       "      <th>29012</th>\n",
       "      <td>7960100080</td>\n",
       "      <td>5/27/2022</td>\n",
       "      <td>800000.0</td>\n",
       "      <td>3</td>\n",
       "      <td>2.0</td>\n",
       "      <td>1620</td>\n",
       "      <td>3600</td>\n",
       "      <td>1.0</td>\n",
       "      <td>NO</td>\n",
       "      <td>NO</td>\n",
       "      <td>...</td>\n",
       "      <td>110</td>\n",
       "      <td>1995</td>\n",
       "      <td>0</td>\n",
       "      <td>910 Martin Luther King Jr Way, Seattle, Washin...</td>\n",
       "      <td>47.610395</td>\n",
       "      <td>-122.29585</td>\n",
       "      <td>98122</td>\n",
       "      <td>98122</td>\n",
       "      <td>SEATTLE</td>\n",
       "      <td>1.016644e+06</td>\n",
       "    </tr>\n",
       "    <tr>\n",
       "      <th>29013</th>\n",
       "      <td>2781280080</td>\n",
       "      <td>2/24/2022</td>\n",
       "      <td>775000.0</td>\n",
       "      <td>3</td>\n",
       "      <td>2.5</td>\n",
       "      <td>2570</td>\n",
       "      <td>2889</td>\n",
       "      <td>2.0</td>\n",
       "      <td>NO</td>\n",
       "      <td>NO</td>\n",
       "      <td>...</td>\n",
       "      <td>100</td>\n",
       "      <td>2006</td>\n",
       "      <td>0</td>\n",
       "      <td>17127 114th Avenue Southeast, Renton, Washingt...</td>\n",
       "      <td>47.449490</td>\n",
       "      <td>-122.18908</td>\n",
       "      <td>98055</td>\n",
       "      <td>98055</td>\n",
       "      <td>RENTON</td>\n",
       "      <td>8.823328e+05</td>\n",
       "    </tr>\n",
       "    <tr>\n",
       "      <th>29014</th>\n",
       "      <td>9557800100</td>\n",
       "      <td>4/29/2022</td>\n",
       "      <td>500000.0</td>\n",
       "      <td>3</td>\n",
       "      <td>1.5</td>\n",
       "      <td>1200</td>\n",
       "      <td>11058</td>\n",
       "      <td>1.0</td>\n",
       "      <td>NO</td>\n",
       "      <td>NO</td>\n",
       "      <td>...</td>\n",
       "      <td>0</td>\n",
       "      <td>1965</td>\n",
       "      <td>0</td>\n",
       "      <td>18615 7th Avenue South, Burien, Washington 981...</td>\n",
       "      <td>47.435840</td>\n",
       "      <td>-122.32634</td>\n",
       "      <td>98148</td>\n",
       "      <td>98148</td>\n",
       "      <td>SEATTLE</td>\n",
       "      <td>1.016644e+06</td>\n",
       "    </tr>\n",
       "  </tbody>\n",
       "</table>\n",
       "<p>29015 rows × 29 columns</p>\n",
       "</div>"
      ],
      "text/plain": [
       "               id        date    price_x  bedrooms  bathrooms  sqft_living  \\\n",
       "0      7399300360   5/24/2022   675000.0         4        1.0         1180   \n",
       "1      8910500230  12/13/2021   920000.0         5        2.5         2770   \n",
       "2      1180000275   9/29/2021   311000.0         6        2.0         2880   \n",
       "3      1604601802  12/14/2021   775000.0         3        3.0         2160   \n",
       "4      8562780790   8/24/2021   592500.0         2        2.0         1120   \n",
       "...           ...         ...        ...       ...        ...          ...   \n",
       "29010  7834800180  11/30/2021  1555000.0         5        2.0         1910   \n",
       "29011   194000695   6/16/2021  1313000.0         3        2.0         2020   \n",
       "29012  7960100080   5/27/2022   800000.0         3        2.0         1620   \n",
       "29013  2781280080   2/24/2022   775000.0         3        2.5         2570   \n",
       "29014  9557800100   4/29/2022   500000.0         3        1.5         1200   \n",
       "\n",
       "       sqft_lot  floors waterfront greenbelt  ... sqft_patio yr_built  \\\n",
       "0          7140     1.0         NO        NO  ...         40     1969   \n",
       "1          6703     1.0         NO        NO  ...        240     1950   \n",
       "2          6156     1.0         NO        NO  ...          0     1956   \n",
       "3          1400     2.0         NO        NO  ...        270     2010   \n",
       "4           758     2.0         NO        NO  ...         30     2012   \n",
       "...         ...     ...        ...       ...  ...        ...      ...   \n",
       "29010      4000     1.5         NO        NO  ...        210     1921   \n",
       "29011      5800     2.0         NO        NO  ...        520     2011   \n",
       "29012      3600     1.0         NO        NO  ...        110     1995   \n",
       "29013      2889     2.0         NO        NO  ...        100     2006   \n",
       "29014     11058     1.0         NO        NO  ...          0     1965   \n",
       "\n",
       "      yr_renovated                                            address  \\\n",
       "0                0  2102 Southeast 21st Court, Renton, Washington ...   \n",
       "1                0  11231 Greenwood Avenue North, Seattle, Washing...   \n",
       "2                0  8504 South 113th Street, Seattle, Washington 9...   \n",
       "3                0  4079 Letitia Avenue South, Seattle, Washington...   \n",
       "4                0  2193 Northwest Talus Drive, Issaquah, Washingt...   \n",
       "...            ...                                                ...   \n",
       "29010            0  4673 Eastern Avenue North, Seattle, Washington...   \n",
       "29011            0  4131 44th Avenue Southwest, Seattle, Washingto...   \n",
       "29012            0  910 Martin Luther King Jr Way, Seattle, Washin...   \n",
       "29013            0  17127 114th Avenue Southeast, Renton, Washingt...   \n",
       "29014            0  18615 7th Avenue South, Burien, Washington 981...   \n",
       "\n",
       "             lat       long  zipcodes  ZIPCODE  PREFERRED_CITY       price_y  \n",
       "0      47.461975 -122.19052     98055    98055          RENTON  8.823328e+05  \n",
       "1      47.711525 -122.35591     98133    98133         SEATTLE  1.016644e+06  \n",
       "2      47.502045 -122.22520     98178    98178         SEATTLE  1.016644e+06  \n",
       "3      47.566110 -122.29020     98118    98118         SEATTLE  1.016644e+06  \n",
       "4      47.532470 -122.07188     98027    98027        ISSAQUAH  1.462132e+06  \n",
       "...          ...        ...       ...      ...             ...           ...  \n",
       "29010  47.664740 -122.32940     98103    98103         SEATTLE  1.016644e+06  \n",
       "29011  47.565610 -122.38851     98116    98116         SEATTLE  1.016644e+06  \n",
       "29012  47.610395 -122.29585     98122    98122         SEATTLE  1.016644e+06  \n",
       "29013  47.449490 -122.18908     98055    98055          RENTON  8.823328e+05  \n",
       "29014  47.435840 -122.32634     98148    98148         SEATTLE  1.016644e+06  \n",
       "\n",
       "[29015 rows x 29 columns]"
      ]
     },
     "execution_count": 580,
     "metadata": {},
     "output_type": "execute_result"
    }
   ],
   "source": [
    "dfpcp"
   ]
  },
  {
   "cell_type": "code",
   "execution_count": 581,
   "id": "310334cc",
   "metadata": {},
   "outputs": [],
   "source": [
    "dfpcp.to_csv('df_meaner_price', sep='\\t')"
   ]
  },
  {
   "cell_type": "code",
   "execution_count": null,
   "id": "5e0737c0",
   "metadata": {},
   "outputs": [],
   "source": []
  },
  {
   "cell_type": "code",
   "execution_count": null,
   "id": "424e3b64",
   "metadata": {},
   "outputs": [],
   "source": []
  },
  {
   "cell_type": "code",
   "execution_count": 582,
   "id": "32d20f99",
   "metadata": {},
   "outputs": [
    {
     "data": {
      "text/plain": [
       "False    29013\n",
       "True         2\n",
       "Name: PREFERRED_CITY, dtype: int64"
      ]
     },
     "execution_count": 582,
     "metadata": {},
     "output_type": "execute_result"
    }
   ],
   "source": [
    "(df['PREFERRED_CITY'] == 'PRESTON').value_counts()"
   ]
  },
  {
   "cell_type": "code",
   "execution_count": 583,
   "id": "21950dc6",
   "metadata": {},
   "outputs": [
    {
     "data": {
      "text/plain": [
       "(29015, 28)"
      ]
     },
     "execution_count": 583,
     "metadata": {},
     "output_type": "execute_result"
    }
   ],
   "source": [
    "df.shape"
   ]
  },
  {
   "cell_type": "markdown",
   "id": "dfdcc089",
   "metadata": {},
   "source": [
    "# Data Cleaning and Transformation"
   ]
  },
  {
   "cell_type": "code",
   "execution_count": 584,
   "id": "0d036836",
   "metadata": {},
   "outputs": [
    {
     "data": {
      "text/plain": [
       "SEATTLE          11829\n",
       "RENTON            2130\n",
       "KENT              2083\n",
       "AUBURN            1595\n",
       "BELLEVUE          1575\n",
       "KIRKLAND          1296\n",
       "FEDERAL WAY       1135\n",
       "REDMOND            961\n",
       "MAPLE VALLEY       856\n",
       "ISSAQUAH           703\n",
       "WOODINVILLE        579\n",
       "NORTH BEND         464\n",
       "ENUMCLAW           457\n",
       "SAMMAMISH          427\n",
       "SAMMAMIISH         411\n",
       "MERCER ISLAND      349\n",
       "KENMORE            347\n",
       "BLACK DIAMOND      313\n",
       "SNOQUALMIE         292\n",
       "BOTHELL            259\n",
       "DUVALL             244\n",
       "VASHON             191\n",
       "CARNATION          156\n",
       "FALL CITY          114\n",
       "PACIFIC             77\n",
       "RAVENSDALE          66\n",
       "MEDINA              59\n",
       "MILTON              23\n",
       "SKYKOMISH           16\n",
       "GOLD BAR             3\n",
       "BARING               3\n",
       "PRESTON              2\n",
       "Name: PREFERRED_CITY, dtype: int64"
      ]
     },
     "execution_count": 584,
     "metadata": {},
     "output_type": "execute_result"
    }
   ],
   "source": [
    "# checking value counts by city to look for outliers to drop\n",
    "df['PREFERRED_CITY'].value_counts()"
   ]
  },
  {
   "cell_type": "code",
   "execution_count": 585,
   "id": "b9ad7e29",
   "metadata": {},
   "outputs": [],
   "source": [
    "# dropping 5 cities with least value counts\n",
    "citylist = ['MILTON', 'SKYKOMISH', 'BARING', 'GOLD BAR', 'PRESTON']\n",
    "df = df[~df['PREFERRED_CITY'].isin(citylist)]"
   ]
  },
  {
   "cell_type": "code",
   "execution_count": 586,
   "id": "d416b4cb",
   "metadata": {
    "scrolled": true
   },
   "outputs": [],
   "source": [
    "# dropping any rows that have a sqft lot of over 800k\n",
    "df = df[df['sqft_lot'] < 1000000]"
   ]
  },
  {
   "cell_type": "code",
   "execution_count": 587,
   "id": "811452c7",
   "metadata": {},
   "outputs": [],
   "source": [
    "df['ysb'] = 2023 - df['yr_built']"
   ]
  },
  {
   "cell_type": "code",
   "execution_count": 588,
   "id": "fd2c5a86",
   "metadata": {},
   "outputs": [],
   "source": [
    "df['ysr'] = 2023 - df['yr_built']"
   ]
  },
  {
   "cell_type": "code",
   "execution_count": 589,
   "id": "de55bdb1",
   "metadata": {},
   "outputs": [],
   "source": [
    "df['RecentlyBuiltorRenovated'] = (df['ysb'] < 20) | (df['ysr'] < 10)"
   ]
  },
  {
   "cell_type": "code",
   "execution_count": 590,
   "id": "11224b29",
   "metadata": {},
   "outputs": [],
   "source": [
    "df['date'] = pd.to_datetime(df['date'])"
   ]
  },
  {
   "cell_type": "code",
   "execution_count": 591,
   "id": "df8e2741",
   "metadata": {},
   "outputs": [],
   "source": [
    "df['month_sold'] = df['date'].dt.month"
   ]
  },
  {
   "cell_type": "code",
   "execution_count": 592,
   "id": "6dfdbe31",
   "metadata": {},
   "outputs": [],
   "source": [
    "df['yr_built_or_renovated'] = df.apply(lambda row: row['yr_renovated'] if row['yr_renovated'] != 0 else row['yr_built'], axis=1)"
   ]
  },
  {
   "cell_type": "code",
   "execution_count": 593,
   "id": "5b3fde59",
   "metadata": {},
   "outputs": [],
   "source": [
    "df['hasbasement'] = df['sqft_basement'] != 0"
   ]
  },
  {
   "cell_type": "code",
   "execution_count": 594,
   "id": "6aaa6532",
   "metadata": {},
   "outputs": [
    {
     "data": {
      "text/plain": [
       "False    15028\n",
       "True     13928\n",
       "Name: hasbasement, dtype: int64"
      ]
     },
     "execution_count": 594,
     "metadata": {},
     "output_type": "execute_result"
    }
   ],
   "source": [
    "df['hasbasement'].value_counts()"
   ]
  },
  {
   "cell_type": "code",
   "execution_count": 595,
   "id": "8436a436",
   "metadata": {},
   "outputs": [],
   "source": [
    "df['bedtobath'] = df['bedrooms'] * df['bathrooms']"
   ]
  },
  {
   "cell_type": "code",
   "execution_count": 596,
   "id": "192a0e12",
   "metadata": {},
   "outputs": [],
   "source": [
    "df['bedtosqftliving'] = df['bedrooms'] * df['sqft_living']\n",
    "df['bathroomstosqftliving'] = df['bathrooms'] * df['sqft_living']\n",
    "df['yrbuilttobathroom'] =  df['yr_built'] * df['bathrooms']\n",
    "df['floorstoyrbuilt'] = df['floors'] * df['yr_built']"
   ]
  },
  {
   "cell_type": "code",
   "execution_count": 597,
   "id": "7f01dc1b",
   "metadata": {},
   "outputs": [
    {
     "data": {
      "text/plain": [
       "PUBLIC                24652\n",
       "PRIVATE                4297\n",
       "PRIVATE RESTRICTED        5\n",
       "PUBLIC RESTRICTED         2\n",
       "Name: sewer_system, dtype: int64"
      ]
     },
     "execution_count": 597,
     "metadata": {},
     "output_type": "execute_result"
    }
   ],
   "source": [
    "df['sewer_system'].value_counts()"
   ]
  },
  {
   "cell_type": "code",
   "execution_count": 598,
   "id": "5cf81efc",
   "metadata": {},
   "outputs": [],
   "source": [
    "df = df[df['sewer_system'].isin(['PUBLIC','PRIVATE'])]"
   ]
  },
  {
   "cell_type": "markdown",
   "id": "4bb65954",
   "metadata": {},
   "source": [
    "# Ordinal Encoding"
   ]
  },
  {
   "cell_type": "code",
   "execution_count": 599,
   "id": "db3b2979",
   "metadata": {
    "scrolled": true
   },
   "outputs": [
    {
     "data": {
      "text/plain": [
       "array(['7 Average', '9 Better', '8 Good', '6 Low Average', '10 Very Good',\n",
       "       '5 Fair', '11 Excellent', '12 Luxury', '4 Low', '13 Mansion',\n",
       "       '3 Poor', '2 Substandard'], dtype=object)"
      ]
     },
     "execution_count": 599,
     "metadata": {},
     "output_type": "execute_result"
    }
   ],
   "source": [
    "df['grade'].unique()"
   ]
  },
  {
   "cell_type": "code",
   "execution_count": 600,
   "id": "daca9f64",
   "metadata": {},
   "outputs": [
    {
     "data": {
      "text/plain": [
       "array(['Good', 'Average', 'Very Good', 'Fair', 'Poor'], dtype=object)"
      ]
     },
     "execution_count": 600,
     "metadata": {},
     "output_type": "execute_result"
    }
   ],
   "source": [
    "df['condition'].unique()"
   ]
  },
  {
   "cell_type": "code",
   "execution_count": 601,
   "id": "8acddd16",
   "metadata": {
    "scrolled": true
   },
   "outputs": [
    {
     "data": {
      "text/plain": [
       "array(['NONE', 'AVERAGE', 'EXCELLENT', 'FAIR', 'GOOD'], dtype=object)"
      ]
     },
     "execution_count": 601,
     "metadata": {},
     "output_type": "execute_result"
    }
   ],
   "source": [
    "df['view'].unique()"
   ]
  },
  {
   "cell_type": "code",
   "execution_count": 602,
   "id": "01a22f97",
   "metadata": {},
   "outputs": [
    {
     "data": {
      "text/plain": [
       "array(['NO', 'YES'], dtype=object)"
      ]
     },
     "execution_count": 602,
     "metadata": {},
     "output_type": "execute_result"
    }
   ],
   "source": [
    "df['waterfront'].unique()"
   ]
  },
  {
   "cell_type": "code",
   "execution_count": 603,
   "id": "95ba4b7b",
   "metadata": {},
   "outputs": [
    {
     "data": {
      "text/plain": [
       "array(['NO', 'YES'], dtype=object)"
      ]
     },
     "execution_count": 603,
     "metadata": {},
     "output_type": "execute_result"
    }
   ],
   "source": [
    "df['nuisance'].unique()"
   ]
  },
  {
   "cell_type": "code",
   "execution_count": 604,
   "id": "35e4f2e8",
   "metadata": {},
   "outputs": [
    {
     "data": {
      "text/plain": [
       "array(['NO', 'YES'], dtype=object)"
      ]
     },
     "execution_count": 604,
     "metadata": {},
     "output_type": "execute_result"
    }
   ],
   "source": [
    "df['greenbelt'].unique()"
   ]
  },
  {
   "cell_type": "code",
   "execution_count": 605,
   "id": "e94498f5",
   "metadata": {},
   "outputs": [
    {
     "data": {
      "text/plain": [
       "array([False,  True])"
      ]
     },
     "execution_count": 605,
     "metadata": {},
     "output_type": "execute_result"
    }
   ],
   "source": [
    "df['RecentlyBuiltorRenovated'].unique()"
   ]
  },
  {
   "cell_type": "code",
   "execution_count": 606,
   "id": "f666854d",
   "metadata": {},
   "outputs": [],
   "source": [
    "df['condition'] = df['condition'].astype('category')\n",
    "df['grade'] = df['grade'].astype('category')\n",
    "df['view'] = df['view'].astype('category')\n",
    "df['waterfront'] = df['waterfront'].astype('category')\n",
    "df['nuisance'] = df['nuisance'].astype('category')\n",
    "df['greenbelt'] = df['greenbelt'].astype('category')\n",
    "df['RecentlyBuiltorRenovated'] = df['RecentlyBuiltorRenovated'].astype('category')"
   ]
  },
  {
   "cell_type": "code",
   "execution_count": 607,
   "id": "8959bb0f",
   "metadata": {},
   "outputs": [],
   "source": [
    "df['condition'] = df['condition'].cat.reorder_categories(['Poor', 'Fair', 'Average','Good', 'Very Good'])\n",
    "df['grade'] = df['grade'].cat.reorder_categories(['2 Substandard', '3 Poor', '4 Low', '5 Fair', \n",
    "                                                  '6 Low Average', '7 Average', '8 Good', '9 Better',\n",
    "                                                  '10 Very Good', '11 Excellent', '12 Luxury', '13 Mansion'])\n",
    "df['view'] = df['view'].cat.reorder_categories(['NONE', 'FAIR', 'AVERAGE', 'GOOD', 'EXCELLENT'])\n",
    "df['waterfront'] = df['waterfront'].cat.reorder_categories(['NO', 'YES'])\n",
    "df['nuisance'] = df['nuisance'].cat.reorder_categories(['NO', 'YES'])\n",
    "df['greenbelt'] = df['greenbelt'].cat.reorder_categories(['NO', 'YES'])\n",
    "df['RecentlyBuiltorRenovated'] = df['RecentlyBuiltorRenovated'].cat.reorder_categories([False, True])"
   ]
  },
  {
   "cell_type": "code",
   "execution_count": 608,
   "id": "07b1600e",
   "metadata": {
    "scrolled": true
   },
   "outputs": [
    {
     "name": "stdout",
     "output_type": "stream",
     "text": [
      "0        5\n",
      "1        5\n",
      "2        5\n",
      "3        7\n",
      "4        5\n",
      "        ..\n",
      "31777    6\n",
      "31778    5\n",
      "31779    5\n",
      "31780    6\n",
      "31781    5\n",
      "Length: 28949, dtype: int8\n",
      "0        3\n",
      "1        2\n",
      "2        2\n",
      "3        2\n",
      "4        2\n",
      "        ..\n",
      "31777    3\n",
      "31778    2\n",
      "31779    2\n",
      "31780    2\n",
      "31781    2\n",
      "Length: 28949, dtype: int8\n",
      "0        0\n",
      "1        2\n",
      "2        2\n",
      "3        2\n",
      "4        0\n",
      "        ..\n",
      "31777    0\n",
      "31778    1\n",
      "31779    0\n",
      "31780    0\n",
      "31781    0\n",
      "Length: 28949, dtype: int8\n",
      "0        0\n",
      "1        0\n",
      "2        0\n",
      "3        0\n",
      "4        0\n",
      "        ..\n",
      "31777    0\n",
      "31778    0\n",
      "31779    0\n",
      "31780    0\n",
      "31781    0\n",
      "Length: 28949, dtype: int8\n",
      "0        0\n",
      "1        1\n",
      "2        0\n",
      "3        0\n",
      "4        1\n",
      "        ..\n",
      "31777    0\n",
      "31778    0\n",
      "31779    1\n",
      "31780    0\n",
      "31781    0\n",
      "Length: 28949, dtype: int8\n",
      "0        0\n",
      "1        0\n",
      "2        0\n",
      "3        0\n",
      "4        0\n",
      "        ..\n",
      "31777    0\n",
      "31778    0\n",
      "31779    0\n",
      "31780    0\n",
      "31781    0\n",
      "Length: 28949, dtype: int8\n",
      "0        0\n",
      "1        0\n",
      "2        0\n",
      "3        1\n",
      "4        1\n",
      "        ..\n",
      "31777    0\n",
      "31778    1\n",
      "31779    0\n",
      "31780    1\n",
      "31781    0\n",
      "Length: 28949, dtype: int8\n"
     ]
    }
   ],
   "source": [
    "print(df['grade'].cat.codes)\n",
    "print(df['condition'].cat.codes)\n",
    "print(df['view'].cat.codes)\n",
    "print(df['waterfront'].cat.codes)\n",
    "print(df['nuisance'].cat.codes)\n",
    "print(df['greenbelt'].cat.codes)\n",
    "print(df['RecentlyBuiltorRenovated'].cat.codes)"
   ]
  },
  {
   "cell_type": "code",
   "execution_count": 609,
   "id": "581ee3e1",
   "metadata": {},
   "outputs": [
    {
     "data": {
      "text/html": [
       "<style>#sk-container-id-13 {color: black;background-color: white;}#sk-container-id-13 pre{padding: 0;}#sk-container-id-13 div.sk-toggleable {background-color: white;}#sk-container-id-13 label.sk-toggleable__label {cursor: pointer;display: block;width: 100%;margin-bottom: 0;padding: 0.3em;box-sizing: border-box;text-align: center;}#sk-container-id-13 label.sk-toggleable__label-arrow:before {content: \"▸\";float: left;margin-right: 0.25em;color: #696969;}#sk-container-id-13 label.sk-toggleable__label-arrow:hover:before {color: black;}#sk-container-id-13 div.sk-estimator:hover label.sk-toggleable__label-arrow:before {color: black;}#sk-container-id-13 div.sk-toggleable__content {max-height: 0;max-width: 0;overflow: hidden;text-align: left;background-color: #f0f8ff;}#sk-container-id-13 div.sk-toggleable__content pre {margin: 0.2em;color: black;border-radius: 0.25em;background-color: #f0f8ff;}#sk-container-id-13 input.sk-toggleable__control:checked~div.sk-toggleable__content {max-height: 200px;max-width: 100%;overflow: auto;}#sk-container-id-13 input.sk-toggleable__control:checked~label.sk-toggleable__label-arrow:before {content: \"▾\";}#sk-container-id-13 div.sk-estimator input.sk-toggleable__control:checked~label.sk-toggleable__label {background-color: #d4ebff;}#sk-container-id-13 div.sk-label input.sk-toggleable__control:checked~label.sk-toggleable__label {background-color: #d4ebff;}#sk-container-id-13 input.sk-hidden--visually {border: 0;clip: rect(1px 1px 1px 1px);clip: rect(1px, 1px, 1px, 1px);height: 1px;margin: -1px;overflow: hidden;padding: 0;position: absolute;width: 1px;}#sk-container-id-13 div.sk-estimator {font-family: monospace;background-color: #f0f8ff;border: 1px dotted black;border-radius: 0.25em;box-sizing: border-box;margin-bottom: 0.5em;}#sk-container-id-13 div.sk-estimator:hover {background-color: #d4ebff;}#sk-container-id-13 div.sk-parallel-item::after {content: \"\";width: 100%;border-bottom: 1px solid gray;flex-grow: 1;}#sk-container-id-13 div.sk-label:hover label.sk-toggleable__label {background-color: #d4ebff;}#sk-container-id-13 div.sk-serial::before {content: \"\";position: absolute;border-left: 1px solid gray;box-sizing: border-box;top: 0;bottom: 0;left: 50%;z-index: 0;}#sk-container-id-13 div.sk-serial {display: flex;flex-direction: column;align-items: center;background-color: white;padding-right: 0.2em;padding-left: 0.2em;position: relative;}#sk-container-id-13 div.sk-item {position: relative;z-index: 1;}#sk-container-id-13 div.sk-parallel {display: flex;align-items: stretch;justify-content: center;background-color: white;position: relative;}#sk-container-id-13 div.sk-item::before, #sk-container-id-13 div.sk-parallel-item::before {content: \"\";position: absolute;border-left: 1px solid gray;box-sizing: border-box;top: 0;bottom: 0;left: 50%;z-index: -1;}#sk-container-id-13 div.sk-parallel-item {display: flex;flex-direction: column;z-index: 1;position: relative;background-color: white;}#sk-container-id-13 div.sk-parallel-item:first-child::after {align-self: flex-end;width: 50%;}#sk-container-id-13 div.sk-parallel-item:last-child::after {align-self: flex-start;width: 50%;}#sk-container-id-13 div.sk-parallel-item:only-child::after {width: 0;}#sk-container-id-13 div.sk-dashed-wrapped {border: 1px dashed gray;margin: 0 0.4em 0.5em 0.4em;box-sizing: border-box;padding-bottom: 0.4em;background-color: white;}#sk-container-id-13 div.sk-label label {font-family: monospace;font-weight: bold;display: inline-block;line-height: 1.2em;}#sk-container-id-13 div.sk-label-container {text-align: center;}#sk-container-id-13 div.sk-container {/* jupyter's `normalize.less` sets `[hidden] { display: none; }` but bootstrap.min.css set `[hidden] { display: none !important; }` so we also need the `!important` here to be able to override the default hidden behavior on the sphinx rendered scikit-learn.org. See: https://github.com/scikit-learn/scikit-learn/issues/21755 */display: inline-block !important;position: relative;}#sk-container-id-13 div.sk-text-repr-fallback {display: none;}</style><div id=\"sk-container-id-13\" class=\"sk-top-container\"><div class=\"sk-text-repr-fallback\"><pre>OrdinalEncoder(categories=[[&#x27;Poor&#x27;, &#x27;Fair&#x27;, &#x27;Average&#x27;, &#x27;Good&#x27;, &#x27;Very Good&#x27;],\n",
       "                           [&#x27;2 Substandard&#x27;, &#x27;3 Poor&#x27;, &#x27;4 Low&#x27;, &#x27;5 Fair&#x27;,\n",
       "                            &#x27;6 Low Average&#x27;, &#x27;7 Average&#x27;, &#x27;8 Good&#x27;, &#x27;9 Better&#x27;,\n",
       "                            &#x27;10 Very Good&#x27;, &#x27;11 Excellent&#x27;, &#x27;12 Luxury&#x27;,\n",
       "                            &#x27;13 Mansion&#x27;],\n",
       "                           [&#x27;NONE&#x27;, &#x27;FAIR&#x27;, &#x27;AVERAGE&#x27;, &#x27;GOOD&#x27;, &#x27;EXCELLENT&#x27;],\n",
       "                           [&#x27;NO&#x27;, &#x27;YES&#x27;], [&#x27;NO&#x27;, &#x27;YES&#x27;], [&#x27;NO&#x27;, &#x27;YES&#x27;],\n",
       "                           [False, True]])</pre><b>In a Jupyter environment, please rerun this cell to show the HTML representation or trust the notebook. <br />On GitHub, the HTML representation is unable to render, please try loading this page with nbviewer.org.</b></div><div class=\"sk-container\" hidden><div class=\"sk-item\"><div class=\"sk-estimator sk-toggleable\"><input class=\"sk-toggleable__control sk-hidden--visually\" id=\"sk-estimator-id-13\" type=\"checkbox\" checked><label for=\"sk-estimator-id-13\" class=\"sk-toggleable__label sk-toggleable__label-arrow\">OrdinalEncoder</label><div class=\"sk-toggleable__content\"><pre>OrdinalEncoder(categories=[[&#x27;Poor&#x27;, &#x27;Fair&#x27;, &#x27;Average&#x27;, &#x27;Good&#x27;, &#x27;Very Good&#x27;],\n",
       "                           [&#x27;2 Substandard&#x27;, &#x27;3 Poor&#x27;, &#x27;4 Low&#x27;, &#x27;5 Fair&#x27;,\n",
       "                            &#x27;6 Low Average&#x27;, &#x27;7 Average&#x27;, &#x27;8 Good&#x27;, &#x27;9 Better&#x27;,\n",
       "                            &#x27;10 Very Good&#x27;, &#x27;11 Excellent&#x27;, &#x27;12 Luxury&#x27;,\n",
       "                            &#x27;13 Mansion&#x27;],\n",
       "                           [&#x27;NONE&#x27;, &#x27;FAIR&#x27;, &#x27;AVERAGE&#x27;, &#x27;GOOD&#x27;, &#x27;EXCELLENT&#x27;],\n",
       "                           [&#x27;NO&#x27;, &#x27;YES&#x27;], [&#x27;NO&#x27;, &#x27;YES&#x27;], [&#x27;NO&#x27;, &#x27;YES&#x27;],\n",
       "                           [False, True]])</pre></div></div></div></div></div>"
      ],
      "text/plain": [
       "OrdinalEncoder(categories=[['Poor', 'Fair', 'Average', 'Good', 'Very Good'],\n",
       "                           ['2 Substandard', '3 Poor', '4 Low', '5 Fair',\n",
       "                            '6 Low Average', '7 Average', '8 Good', '9 Better',\n",
       "                            '10 Very Good', '11 Excellent', '12 Luxury',\n",
       "                            '13 Mansion'],\n",
       "                           ['NONE', 'FAIR', 'AVERAGE', 'GOOD', 'EXCELLENT'],\n",
       "                           ['NO', 'YES'], ['NO', 'YES'], ['NO', 'YES'],\n",
       "                           [False, True]])"
      ]
     },
     "execution_count": 609,
     "metadata": {},
     "output_type": "execute_result"
    }
   ],
   "source": [
    "ord_cat_selector = ['condition', 'grade', 'view', 'waterfront', 'nuisance', 'greenbelt', 'RecentlyBuiltorRenovated']\n",
    "cat_subset = df[ord_cat_selector]\n",
    "grade_ls = ['2 Substandard', '3 Poor', '4 Low', '5 Fair', \n",
    "            '6 Low Average', '7 Average', '8 Good', '9 Better',\n",
    "            '10 Very Good', '11 Excellent', '12 Luxury', '13 Mansion']\n",
    "cond_ls = ['Poor', 'Fair', 'Average','Good', 'Very Good']\n",
    "view_ls = ['NONE', 'FAIR', 'AVERAGE', 'GOOD', 'EXCELLENT']\n",
    "wf_ls = ['NO', 'YES']\n",
    "nuisance_ls = ['NO', 'YES']\n",
    "gb_ls = ['NO', 'YES']\n",
    "RBoR = [False, True]\n",
    "o_enc = OrdinalEncoder(categories = [cond_ls, grade_ls, view_ls, wf_ls, nuisance_ls, gb_ls, RBoR])\n",
    "o_enc.fit(cat_subset)"
   ]
  },
  {
   "cell_type": "code",
   "execution_count": 610,
   "id": "edcedc7d",
   "metadata": {},
   "outputs": [],
   "source": [
    "X_subset = pd.DataFrame(o_enc.transform(cat_subset),\n",
    "                        columns = cat_subset.columns)"
   ]
  },
  {
   "cell_type": "code",
   "execution_count": 611,
   "id": "854f5687",
   "metadata": {
    "scrolled": true
   },
   "outputs": [
    {
     "data": {
      "text/plain": [
       "array([['Good', '7 Average', 'NONE', ..., 'NO', 'NO', 0.0],\n",
       "       ['Average', '7 Average', 'AVERAGE', ..., 'YES', 'NO', 0.0],\n",
       "       ['Average', '7 Average', 'AVERAGE', ..., 'NO', 'NO', 0.0],\n",
       "       ...,\n",
       "       ['Average', '7 Average', 'NONE', ..., 'YES', 'NO', 0.0],\n",
       "       ['Average', '8 Good', 'NONE', ..., 'NO', 'NO', 1.0],\n",
       "       ['Average', '7 Average', 'NONE', ..., 'NO', 'NO', 0.0]],\n",
       "      dtype=object)"
      ]
     },
     "execution_count": 611,
     "metadata": {},
     "output_type": "execute_result"
    }
   ],
   "source": [
    "o_enc.inverse_transform(X_subset)"
   ]
  },
  {
   "cell_type": "code",
   "execution_count": 612,
   "id": "d3dd7a25",
   "metadata": {},
   "outputs": [],
   "source": [
    "X_subset = X_subset.rename(columns = {'condition': 'house_cond','grade':'grade2', \n",
    "                                      'view':'view2', 'waterfront': 'wf2', \n",
    "                                      'nuisance':'nuisance2', 'greenbelt': 'greenbelt2', 'RecentlyBuiltorRenovated' : 'RBoR2'}) "
   ]
  },
  {
   "cell_type": "code",
   "execution_count": 613,
   "id": "47faba75",
   "metadata": {},
   "outputs": [],
   "source": [
    "df1 = pd.concat([df.reset_index(), X_subset], axis =1)"
   ]
  },
  {
   "cell_type": "code",
   "execution_count": 614,
   "id": "7e3ea1ba",
   "metadata": {
    "scrolled": true
   },
   "outputs": [
    {
     "data": {
      "text/plain": [
       "Index(['index', 'id', 'date', 'price', 'bedrooms', 'bathrooms', 'sqft_living',\n",
       "       'sqft_lot', 'floors', 'waterfront', 'greenbelt', 'nuisance', 'view',\n",
       "       'condition', 'grade', 'heat_source', 'sewer_system', 'sqft_above',\n",
       "       'sqft_basement', 'sqft_garage', 'sqft_patio', 'yr_built',\n",
       "       'yr_renovated', 'address', 'lat', 'long', 'zipcodes', 'ZIPCODE',\n",
       "       'PREFERRED_CITY', 'ysb', 'ysr', 'RecentlyBuiltorRenovated',\n",
       "       'month_sold', 'yr_built_or_renovated', 'hasbasement', 'bedtobath',\n",
       "       'bedtosqftliving', 'bathroomstosqftliving', 'yrbuilttobathroom',\n",
       "       'floorstoyrbuilt', 'house_cond', 'grade2', 'view2', 'wf2', 'nuisance2',\n",
       "       'greenbelt2', 'RBoR2'],\n",
       "      dtype='object')"
      ]
     },
     "execution_count": 614,
     "metadata": {},
     "output_type": "execute_result"
    }
   ],
   "source": [
    "df1.columns"
   ]
  },
  {
   "cell_type": "markdown",
   "id": "75762739",
   "metadata": {},
   "source": [
    "# Test Train Split and LR Score"
   ]
  },
  {
   "cell_type": "code",
   "execution_count": 615,
   "id": "7a18ad6d",
   "metadata": {},
   "outputs": [
    {
     "data": {
      "text/plain": [
       "0.38054160674507875"
      ]
     },
     "execution_count": 615,
     "metadata": {},
     "output_type": "execute_result"
    }
   ],
   "source": [
    "X = df[['sqft_living']]\n",
    "y = df['price']\n",
    "\n",
    "from sklearn.linear_model import LinearRegression\n",
    "\n",
    "lr= LinearRegression()\n",
    "lr.fit(X,y)\n",
    "lr.score(X,y)"
   ]
  },
  {
   "cell_type": "code",
   "execution_count": 616,
   "id": "89f86f13",
   "metadata": {
    "scrolled": true
   },
   "outputs": [
    {
     "data": {
      "text/html": [
       "<style>#sk-container-id-14 {color: black;background-color: white;}#sk-container-id-14 pre{padding: 0;}#sk-container-id-14 div.sk-toggleable {background-color: white;}#sk-container-id-14 label.sk-toggleable__label {cursor: pointer;display: block;width: 100%;margin-bottom: 0;padding: 0.3em;box-sizing: border-box;text-align: center;}#sk-container-id-14 label.sk-toggleable__label-arrow:before {content: \"▸\";float: left;margin-right: 0.25em;color: #696969;}#sk-container-id-14 label.sk-toggleable__label-arrow:hover:before {color: black;}#sk-container-id-14 div.sk-estimator:hover label.sk-toggleable__label-arrow:before {color: black;}#sk-container-id-14 div.sk-toggleable__content {max-height: 0;max-width: 0;overflow: hidden;text-align: left;background-color: #f0f8ff;}#sk-container-id-14 div.sk-toggleable__content pre {margin: 0.2em;color: black;border-radius: 0.25em;background-color: #f0f8ff;}#sk-container-id-14 input.sk-toggleable__control:checked~div.sk-toggleable__content {max-height: 200px;max-width: 100%;overflow: auto;}#sk-container-id-14 input.sk-toggleable__control:checked~label.sk-toggleable__label-arrow:before {content: \"▾\";}#sk-container-id-14 div.sk-estimator input.sk-toggleable__control:checked~label.sk-toggleable__label {background-color: #d4ebff;}#sk-container-id-14 div.sk-label input.sk-toggleable__control:checked~label.sk-toggleable__label {background-color: #d4ebff;}#sk-container-id-14 input.sk-hidden--visually {border: 0;clip: rect(1px 1px 1px 1px);clip: rect(1px, 1px, 1px, 1px);height: 1px;margin: -1px;overflow: hidden;padding: 0;position: absolute;width: 1px;}#sk-container-id-14 div.sk-estimator {font-family: monospace;background-color: #f0f8ff;border: 1px dotted black;border-radius: 0.25em;box-sizing: border-box;margin-bottom: 0.5em;}#sk-container-id-14 div.sk-estimator:hover {background-color: #d4ebff;}#sk-container-id-14 div.sk-parallel-item::after {content: \"\";width: 100%;border-bottom: 1px solid gray;flex-grow: 1;}#sk-container-id-14 div.sk-label:hover label.sk-toggleable__label {background-color: #d4ebff;}#sk-container-id-14 div.sk-serial::before {content: \"\";position: absolute;border-left: 1px solid gray;box-sizing: border-box;top: 0;bottom: 0;left: 50%;z-index: 0;}#sk-container-id-14 div.sk-serial {display: flex;flex-direction: column;align-items: center;background-color: white;padding-right: 0.2em;padding-left: 0.2em;position: relative;}#sk-container-id-14 div.sk-item {position: relative;z-index: 1;}#sk-container-id-14 div.sk-parallel {display: flex;align-items: stretch;justify-content: center;background-color: white;position: relative;}#sk-container-id-14 div.sk-item::before, #sk-container-id-14 div.sk-parallel-item::before {content: \"\";position: absolute;border-left: 1px solid gray;box-sizing: border-box;top: 0;bottom: 0;left: 50%;z-index: -1;}#sk-container-id-14 div.sk-parallel-item {display: flex;flex-direction: column;z-index: 1;position: relative;background-color: white;}#sk-container-id-14 div.sk-parallel-item:first-child::after {align-self: flex-end;width: 50%;}#sk-container-id-14 div.sk-parallel-item:last-child::after {align-self: flex-start;width: 50%;}#sk-container-id-14 div.sk-parallel-item:only-child::after {width: 0;}#sk-container-id-14 div.sk-dashed-wrapped {border: 1px dashed gray;margin: 0 0.4em 0.5em 0.4em;box-sizing: border-box;padding-bottom: 0.4em;background-color: white;}#sk-container-id-14 div.sk-label label {font-family: monospace;font-weight: bold;display: inline-block;line-height: 1.2em;}#sk-container-id-14 div.sk-label-container {text-align: center;}#sk-container-id-14 div.sk-container {/* jupyter's `normalize.less` sets `[hidden] { display: none; }` but bootstrap.min.css set `[hidden] { display: none !important; }` so we also need the `!important` here to be able to override the default hidden behavior on the sphinx rendered scikit-learn.org. See: https://github.com/scikit-learn/scikit-learn/issues/21755 */display: inline-block !important;position: relative;}#sk-container-id-14 div.sk-text-repr-fallback {display: none;}</style><div id=\"sk-container-id-14\" class=\"sk-top-container\"><div class=\"sk-text-repr-fallback\"><pre>LinearRegression()</pre><b>In a Jupyter environment, please rerun this cell to show the HTML representation or trust the notebook. <br />On GitHub, the HTML representation is unable to render, please try loading this page with nbviewer.org.</b></div><div class=\"sk-container\" hidden><div class=\"sk-item\"><div class=\"sk-estimator sk-toggleable\"><input class=\"sk-toggleable__control sk-hidden--visually\" id=\"sk-estimator-id-14\" type=\"checkbox\" checked><label for=\"sk-estimator-id-14\" class=\"sk-toggleable__label sk-toggleable__label-arrow\">LinearRegression</label><div class=\"sk-toggleable__content\"><pre>LinearRegression()</pre></div></div></div></div></div>"
      ],
      "text/plain": [
       "LinearRegression()"
      ]
     },
     "execution_count": 616,
     "metadata": {},
     "output_type": "execute_result"
    }
   ],
   "source": [
    "lr = LinearRegression()\n",
    "lr"
   ]
  },
  {
   "cell_type": "code",
   "execution_count": 617,
   "id": "91df8259",
   "metadata": {},
   "outputs": [],
   "source": [
    "# removed id, price, ZIPCODE, address, lat, long\n",
    "col_selector = ['house_cond', 'grade2', 'sqft_living', 'sqft_above', 'sqft_basement', 'bedrooms', \n",
    "                'yr_built', 'yr_renovated', 'zipcodes', 'nuisance2', 'view2', 'wf2', 'greenbelt2', 'RBoR2']\n",
    "X = df1[col_selector]\n",
    "y = df1['price']\n",
    "X_train, X_test, y_train, y_test = train_test_split(X, y, test_size=0.3)\n",
    "# , random_state=21"
   ]
  },
  {
   "cell_type": "code",
   "execution_count": 618,
   "id": "cc24edbc",
   "metadata": {},
   "outputs": [
    {
     "data": {
      "text/html": [
       "<style>#sk-container-id-15 {color: black;background-color: white;}#sk-container-id-15 pre{padding: 0;}#sk-container-id-15 div.sk-toggleable {background-color: white;}#sk-container-id-15 label.sk-toggleable__label {cursor: pointer;display: block;width: 100%;margin-bottom: 0;padding: 0.3em;box-sizing: border-box;text-align: center;}#sk-container-id-15 label.sk-toggleable__label-arrow:before {content: \"▸\";float: left;margin-right: 0.25em;color: #696969;}#sk-container-id-15 label.sk-toggleable__label-arrow:hover:before {color: black;}#sk-container-id-15 div.sk-estimator:hover label.sk-toggleable__label-arrow:before {color: black;}#sk-container-id-15 div.sk-toggleable__content {max-height: 0;max-width: 0;overflow: hidden;text-align: left;background-color: #f0f8ff;}#sk-container-id-15 div.sk-toggleable__content pre {margin: 0.2em;color: black;border-radius: 0.25em;background-color: #f0f8ff;}#sk-container-id-15 input.sk-toggleable__control:checked~div.sk-toggleable__content {max-height: 200px;max-width: 100%;overflow: auto;}#sk-container-id-15 input.sk-toggleable__control:checked~label.sk-toggleable__label-arrow:before {content: \"▾\";}#sk-container-id-15 div.sk-estimator input.sk-toggleable__control:checked~label.sk-toggleable__label {background-color: #d4ebff;}#sk-container-id-15 div.sk-label input.sk-toggleable__control:checked~label.sk-toggleable__label {background-color: #d4ebff;}#sk-container-id-15 input.sk-hidden--visually {border: 0;clip: rect(1px 1px 1px 1px);clip: rect(1px, 1px, 1px, 1px);height: 1px;margin: -1px;overflow: hidden;padding: 0;position: absolute;width: 1px;}#sk-container-id-15 div.sk-estimator {font-family: monospace;background-color: #f0f8ff;border: 1px dotted black;border-radius: 0.25em;box-sizing: border-box;margin-bottom: 0.5em;}#sk-container-id-15 div.sk-estimator:hover {background-color: #d4ebff;}#sk-container-id-15 div.sk-parallel-item::after {content: \"\";width: 100%;border-bottom: 1px solid gray;flex-grow: 1;}#sk-container-id-15 div.sk-label:hover label.sk-toggleable__label {background-color: #d4ebff;}#sk-container-id-15 div.sk-serial::before {content: \"\";position: absolute;border-left: 1px solid gray;box-sizing: border-box;top: 0;bottom: 0;left: 50%;z-index: 0;}#sk-container-id-15 div.sk-serial {display: flex;flex-direction: column;align-items: center;background-color: white;padding-right: 0.2em;padding-left: 0.2em;position: relative;}#sk-container-id-15 div.sk-item {position: relative;z-index: 1;}#sk-container-id-15 div.sk-parallel {display: flex;align-items: stretch;justify-content: center;background-color: white;position: relative;}#sk-container-id-15 div.sk-item::before, #sk-container-id-15 div.sk-parallel-item::before {content: \"\";position: absolute;border-left: 1px solid gray;box-sizing: border-box;top: 0;bottom: 0;left: 50%;z-index: -1;}#sk-container-id-15 div.sk-parallel-item {display: flex;flex-direction: column;z-index: 1;position: relative;background-color: white;}#sk-container-id-15 div.sk-parallel-item:first-child::after {align-self: flex-end;width: 50%;}#sk-container-id-15 div.sk-parallel-item:last-child::after {align-self: flex-start;width: 50%;}#sk-container-id-15 div.sk-parallel-item:only-child::after {width: 0;}#sk-container-id-15 div.sk-dashed-wrapped {border: 1px dashed gray;margin: 0 0.4em 0.5em 0.4em;box-sizing: border-box;padding-bottom: 0.4em;background-color: white;}#sk-container-id-15 div.sk-label label {font-family: monospace;font-weight: bold;display: inline-block;line-height: 1.2em;}#sk-container-id-15 div.sk-label-container {text-align: center;}#sk-container-id-15 div.sk-container {/* jupyter's `normalize.less` sets `[hidden] { display: none; }` but bootstrap.min.css set `[hidden] { display: none !important; }` so we also need the `!important` here to be able to override the default hidden behavior on the sphinx rendered scikit-learn.org. See: https://github.com/scikit-learn/scikit-learn/issues/21755 */display: inline-block !important;position: relative;}#sk-container-id-15 div.sk-text-repr-fallback {display: none;}</style><div id=\"sk-container-id-15\" class=\"sk-top-container\"><div class=\"sk-text-repr-fallback\"><pre>LinearRegression()</pre><b>In a Jupyter environment, please rerun this cell to show the HTML representation or trust the notebook. <br />On GitHub, the HTML representation is unable to render, please try loading this page with nbviewer.org.</b></div><div class=\"sk-container\" hidden><div class=\"sk-item\"><div class=\"sk-estimator sk-toggleable\"><input class=\"sk-toggleable__control sk-hidden--visually\" id=\"sk-estimator-id-15\" type=\"checkbox\" checked><label for=\"sk-estimator-id-15\" class=\"sk-toggleable__label sk-toggleable__label-arrow\">LinearRegression</label><div class=\"sk-toggleable__content\"><pre>LinearRegression()</pre></div></div></div></div></div>"
      ],
      "text/plain": [
       "LinearRegression()"
      ]
     },
     "execution_count": 618,
     "metadata": {},
     "output_type": "execute_result"
    }
   ],
   "source": [
    "lr.fit(X_train, y_train)"
   ]
  },
  {
   "cell_type": "code",
   "execution_count": 619,
   "id": "a2a3cdb9",
   "metadata": {},
   "outputs": [
    {
     "data": {
      "text/plain": [
       "0.5026492755823218"
      ]
     },
     "execution_count": 619,
     "metadata": {},
     "output_type": "execute_result"
    }
   ],
   "source": [
    "lr.score(X_train,y_train)"
   ]
  },
  {
   "cell_type": "markdown",
   "id": "6814f26f",
   "metadata": {},
   "source": [
    "# Nominal Encoding"
   ]
  },
  {
   "cell_type": "code",
   "execution_count": 620,
   "id": "3dd03a2e",
   "metadata": {},
   "outputs": [],
   "source": [
    "df1['gradesquared'] = df1['grade2'] ** 2"
   ]
  },
  {
   "cell_type": "code",
   "execution_count": 621,
   "id": "99a93c42",
   "metadata": {},
   "outputs": [
    {
     "data": {
      "text/plain": [
       "0    25.0\n",
       "1    25.0\n",
       "2    25.0\n",
       "3    49.0\n",
       "4    25.0\n",
       "Name: gradesquared, dtype: float64"
      ]
     },
     "execution_count": 621,
     "metadata": {},
     "output_type": "execute_result"
    }
   ],
   "source": [
    "df1['gradesquared'].head()"
   ]
  },
  {
   "cell_type": "code",
   "execution_count": 622,
   "id": "96e5a252",
   "metadata": {
    "scrolled": true
   },
   "outputs": [
    {
     "data": {
      "text/plain": [
       "Index(['index', 'id', 'date', 'price', 'bedrooms', 'bathrooms', 'sqft_living',\n",
       "       'sqft_lot', 'floors', 'waterfront', 'greenbelt', 'nuisance', 'view',\n",
       "       'condition', 'grade', 'heat_source', 'sewer_system', 'sqft_above',\n",
       "       'sqft_basement', 'sqft_garage', 'sqft_patio', 'yr_built',\n",
       "       'yr_renovated', 'address', 'lat', 'long', 'zipcodes', 'ZIPCODE',\n",
       "       'PREFERRED_CITY', 'ysb', 'ysr', 'RecentlyBuiltorRenovated',\n",
       "       'month_sold', 'yr_built_or_renovated', 'hasbasement', 'bedtobath',\n",
       "       'bedtosqftliving', 'bathroomstosqftliving', 'yrbuilttobathroom',\n",
       "       'floorstoyrbuilt', 'house_cond', 'grade2', 'view2', 'wf2', 'nuisance2',\n",
       "       'greenbelt2', 'RBoR2', 'gradesquared'],\n",
       "      dtype='object')"
      ]
     },
     "execution_count": 622,
     "metadata": {},
     "output_type": "execute_result"
    }
   ],
   "source": [
    "df1.columns"
   ]
  },
  {
   "cell_type": "code",
   "execution_count": 623,
   "id": "3c8b5713",
   "metadata": {},
   "outputs": [],
   "source": [
    "col_selector = ['house_cond', 'grade2', 'sqft_living', 'sqft_above', 'sqft_basement', 'bedrooms', 'bathrooms', \n",
    "                'zipcodes', 'nuisance2', 'view2', 'wf2',  'floors', 'bedtobath',  'month_sold', 'yr_built_or_renovated', 'yr_built','RBoR2', 'greenbelt2',\n",
    "                'hasbasement', 'gradesquared', 'heat_source']\n",
    "X = df1[col_selector]\n",
    "y = df1['price']\n",
    "X_train, X_test, y_train, y_test = train_test_split(X, y, test_size=0.3, random_state=21)"
   ]
  },
  {
   "cell_type": "code",
   "execution_count": 624,
   "id": "57377e48",
   "metadata": {},
   "outputs": [
    {
     "name": "stdout",
     "output_type": "stream",
     "text": [
      "20264\n",
      "8685\n"
     ]
    }
   ],
   "source": [
    "print(len(X_train))\n",
    "print(len(X_test))"
   ]
  },
  {
   "cell_type": "code",
   "execution_count": 625,
   "id": "3513d0fd",
   "metadata": {},
   "outputs": [],
   "source": [
    "numeric_cols= ['house_cond', 'sqft_living', 'sqft_above', \n",
    "                 'nuisance2', 'view2', 'wf2',  'floors', 'bathrooms', 'bedrooms',\n",
    "                     'hasbasement', 'RBoR2','gradesquared'\n",
    "              ]\n",
    "# from sklearn.preprocessing import MinMaxScaler\n",
    "# from sklearn.preprocessing import MaxAbsScaler\n",
    "# from sklearn.preprocessing import RobustScaler\n",
    "# from sklearn.preprocessing import QuantileTransformer\n",
    "# from sklearn.preprocessing import PowerTransformer\n",
    "\n",
    "\n",
    "\n",
    "ss = preprocessing.StandardScaler()\n",
    "mms = preprocessing.MinMaxScaler()\n",
    "mas = preprocessing.MaxAbsScaler()\n",
    "qts = preprocessing.QuantileTransformer()\n",
    "ptbc = preprocessing.PowerTransformer(method = 'box-cox')\n",
    "ptyj = preprocessing.PowerTransformer(method = 'yeo-johnson')\n",
    "#method = 'box-cox' or 'yeo-johnson'\n",
    "\n",
    "ss.fit(X_train[numeric_cols])\n",
    "\n",
    "X_stan_train = ss.transform(X_train[numeric_cols])\n",
    "X_stan_test = ss.transform(X_test[numeric_cols])\n",
    "\n",
    "X_dfstan_train = pd.DataFrame(X_stan_train, columns = numeric_cols)\n",
    "X_dfstan_test = pd.DataFrame(X_stan_test, columns = numeric_cols)\n",
    "                              "
   ]
  },
  {
   "cell_type": "code",
   "execution_count": 626,
   "id": "b2976a69",
   "metadata": {},
   "outputs": [
    {
     "data": {
      "text/html": [
       "<div>\n",
       "<style scoped>\n",
       "    .dataframe tbody tr th:only-of-type {\n",
       "        vertical-align: middle;\n",
       "    }\n",
       "\n",
       "    .dataframe tbody tr th {\n",
       "        vertical-align: top;\n",
       "    }\n",
       "\n",
       "    .dataframe thead th {\n",
       "        text-align: right;\n",
       "    }\n",
       "</style>\n",
       "<table border=\"1\" class=\"dataframe\">\n",
       "  <thead>\n",
       "    <tr style=\"text-align: right;\">\n",
       "      <th></th>\n",
       "      <th>house_cond</th>\n",
       "      <th>sqft_living</th>\n",
       "      <th>sqft_above</th>\n",
       "      <th>nuisance2</th>\n",
       "      <th>view2</th>\n",
       "      <th>wf2</th>\n",
       "      <th>floors</th>\n",
       "      <th>bathrooms</th>\n",
       "      <th>bedrooms</th>\n",
       "      <th>hasbasement</th>\n",
       "      <th>RBoR2</th>\n",
       "      <th>gradesquared</th>\n",
       "    </tr>\n",
       "  </thead>\n",
       "  <tbody>\n",
       "    <tr>\n",
       "      <th>count</th>\n",
       "      <td>2.026400e+04</td>\n",
       "      <td>2.026400e+04</td>\n",
       "      <td>2.026400e+04</td>\n",
       "      <td>2.026400e+04</td>\n",
       "      <td>2.026400e+04</td>\n",
       "      <td>2.026400e+04</td>\n",
       "      <td>2.026400e+04</td>\n",
       "      <td>2.026400e+04</td>\n",
       "      <td>2.026400e+04</td>\n",
       "      <td>2.026400e+04</td>\n",
       "      <td>2.026400e+04</td>\n",
       "      <td>2.026400e+04</td>\n",
       "    </tr>\n",
       "    <tr>\n",
       "      <th>mean</th>\n",
       "      <td>1.118551e-16</td>\n",
       "      <td>6.101186e-17</td>\n",
       "      <td>3.576557e-17</td>\n",
       "      <td>2.524629e-17</td>\n",
       "      <td>-3.681750e-18</td>\n",
       "      <td>2.384372e-17</td>\n",
       "      <td>1.507764e-16</td>\n",
       "      <td>1.353482e-16</td>\n",
       "      <td>5.610286e-18</td>\n",
       "      <td>8.134915e-17</td>\n",
       "      <td>-2.735014e-17</td>\n",
       "      <td>-2.468526e-16</td>\n",
       "    </tr>\n",
       "    <tr>\n",
       "      <th>std</th>\n",
       "      <td>1.000025e+00</td>\n",
       "      <td>1.000025e+00</td>\n",
       "      <td>1.000025e+00</td>\n",
       "      <td>1.000025e+00</td>\n",
       "      <td>1.000025e+00</td>\n",
       "      <td>1.000025e+00</td>\n",
       "      <td>1.000025e+00</td>\n",
       "      <td>1.000025e+00</td>\n",
       "      <td>1.000025e+00</td>\n",
       "      <td>1.000025e+00</td>\n",
       "      <td>1.000025e+00</td>\n",
       "      <td>1.000025e+00</td>\n",
       "    </tr>\n",
       "    <tr>\n",
       "      <th>min</th>\n",
       "      <td>-3.496691e+00</td>\n",
       "      <td>-2.175341e+00</td>\n",
       "      <td>-2.075179e+00</td>\n",
       "      <td>-4.525000e-01</td>\n",
       "      <td>-3.474774e-01</td>\n",
       "      <td>-1.300451e-01</td>\n",
       "      <td>-9.405047e-01</td>\n",
       "      <td>-2.597250e+00</td>\n",
       "      <td>-3.522788e+00</td>\n",
       "      <td>-9.613655e-01</td>\n",
       "      <td>-5.244299e-01</td>\n",
       "      <td>-2.339023e+00</td>\n",
       "    </tr>\n",
       "    <tr>\n",
       "      <th>25%</th>\n",
       "      <td>-6.935283e-01</td>\n",
       "      <td>-7.055787e-01</td>\n",
       "      <td>-7.234245e-01</td>\n",
       "      <td>-4.525000e-01</td>\n",
       "      <td>-3.474774e-01</td>\n",
       "      <td>-1.300451e-01</td>\n",
       "      <td>-9.405047e-01</td>\n",
       "      <td>-3.632319e-01</td>\n",
       "      <td>-4.463012e-01</td>\n",
       "      <td>-9.613655e-01</td>\n",
       "      <td>-5.244299e-01</td>\n",
       "      <td>-5.735595e-01</td>\n",
       "    </tr>\n",
       "    <tr>\n",
       "      <th>50%</th>\n",
       "      <td>-6.935283e-01</td>\n",
       "      <td>-1.941791e-01</td>\n",
       "      <td>-2.796668e-01</td>\n",
       "      <td>-4.525000e-01</td>\n",
       "      <td>-3.474774e-01</td>\n",
       "      <td>-1.300451e-01</td>\n",
       "      <td>-1.985414e-02</td>\n",
       "      <td>1.952727e-01</td>\n",
       "      <td>-4.463012e-01</td>\n",
       "      <td>-9.613655e-01</td>\n",
       "      <td>-5.244299e-01</td>\n",
       "      <td>-5.735595e-01</td>\n",
       "    </tr>\n",
       "    <tr>\n",
       "      <th>75%</th>\n",
       "      <td>7.080532e-01</td>\n",
       "      <td>5.187119e-01</td>\n",
       "      <td>5.395782e-01</td>\n",
       "      <td>-4.525000e-01</td>\n",
       "      <td>-3.474774e-01</td>\n",
       "      <td>-1.300451e-01</td>\n",
       "      <td>9.007964e-01</td>\n",
       "      <td>7.537773e-01</td>\n",
       "      <td>5.791946e-01</td>\n",
       "      <td>1.040187e+00</td>\n",
       "      <td>-5.244299e-01</td>\n",
       "      <td>2.032443e-01</td>\n",
       "    </tr>\n",
       "    <tr>\n",
       "      <th>max</th>\n",
       "      <td>2.109635e+00</td>\n",
       "      <td>1.353179e+01</td>\n",
       "      <td>1.232760e+01</td>\n",
       "      <td>2.209945e+00</td>\n",
       "      <td>4.314080e+00</td>\n",
       "      <td>7.689640e+00</td>\n",
       "      <td>4.583399e+00</td>\n",
       "      <td>8.572842e+00</td>\n",
       "      <td>9.808656e+00</td>\n",
       "      <td>1.040187e+00</td>\n",
       "      <td>1.906832e+00</td>\n",
       "      <td>6.205819e+00</td>\n",
       "    </tr>\n",
       "  </tbody>\n",
       "</table>\n",
       "</div>"
      ],
      "text/plain": [
       "         house_cond   sqft_living    sqft_above     nuisance2         view2  \\\n",
       "count  2.026400e+04  2.026400e+04  2.026400e+04  2.026400e+04  2.026400e+04   \n",
       "mean   1.118551e-16  6.101186e-17  3.576557e-17  2.524629e-17 -3.681750e-18   \n",
       "std    1.000025e+00  1.000025e+00  1.000025e+00  1.000025e+00  1.000025e+00   \n",
       "min   -3.496691e+00 -2.175341e+00 -2.075179e+00 -4.525000e-01 -3.474774e-01   \n",
       "25%   -6.935283e-01 -7.055787e-01 -7.234245e-01 -4.525000e-01 -3.474774e-01   \n",
       "50%   -6.935283e-01 -1.941791e-01 -2.796668e-01 -4.525000e-01 -3.474774e-01   \n",
       "75%    7.080532e-01  5.187119e-01  5.395782e-01 -4.525000e-01 -3.474774e-01   \n",
       "max    2.109635e+00  1.353179e+01  1.232760e+01  2.209945e+00  4.314080e+00   \n",
       "\n",
       "                wf2        floors     bathrooms      bedrooms   hasbasement  \\\n",
       "count  2.026400e+04  2.026400e+04  2.026400e+04  2.026400e+04  2.026400e+04   \n",
       "mean   2.384372e-17  1.507764e-16  1.353482e-16  5.610286e-18  8.134915e-17   \n",
       "std    1.000025e+00  1.000025e+00  1.000025e+00  1.000025e+00  1.000025e+00   \n",
       "min   -1.300451e-01 -9.405047e-01 -2.597250e+00 -3.522788e+00 -9.613655e-01   \n",
       "25%   -1.300451e-01 -9.405047e-01 -3.632319e-01 -4.463012e-01 -9.613655e-01   \n",
       "50%   -1.300451e-01 -1.985414e-02  1.952727e-01 -4.463012e-01 -9.613655e-01   \n",
       "75%   -1.300451e-01  9.007964e-01  7.537773e-01  5.791946e-01  1.040187e+00   \n",
       "max    7.689640e+00  4.583399e+00  8.572842e+00  9.808656e+00  1.040187e+00   \n",
       "\n",
       "              RBoR2  gradesquared  \n",
       "count  2.026400e+04  2.026400e+04  \n",
       "mean  -2.735014e-17 -2.468526e-16  \n",
       "std    1.000025e+00  1.000025e+00  \n",
       "min   -5.244299e-01 -2.339023e+00  \n",
       "25%   -5.244299e-01 -5.735595e-01  \n",
       "50%   -5.244299e-01 -5.735595e-01  \n",
       "75%   -5.244299e-01  2.032443e-01  \n",
       "max    1.906832e+00  6.205819e+00  "
      ]
     },
     "execution_count": 626,
     "metadata": {},
     "output_type": "execute_result"
    }
   ],
   "source": [
    "X_dfstan_train.describe()"
   ]
  },
  {
   "cell_type": "code",
   "execution_count": 627,
   "id": "9a1edbd3",
   "metadata": {},
   "outputs": [],
   "source": [
    "from sklearn.preprocessing import OneHotEncoder\n",
    "ohe = OneHotEncoder(sparse = False, handle_unknown = 'ignore')"
   ]
  },
  {
   "cell_type": "code",
   "execution_count": 628,
   "id": "ed649eda",
   "metadata": {},
   "outputs": [],
   "source": [
    "nominal_cols = ['zipcodes', 'month_sold', 'yr_built_or_renovated', 'heat_source']"
   ]
  },
  {
   "cell_type": "code",
   "execution_count": 629,
   "id": "e3867364",
   "metadata": {},
   "outputs": [
    {
     "name": "stderr",
     "output_type": "stream",
     "text": [
      "/Users/forrestwilliams/anaconda3/envs/wheelydope/lib/python3.8/site-packages/sklearn/preprocessing/_encoders.py:868: FutureWarning: `sparse` was renamed to `sparse_output` in version 1.2 and will be removed in 1.4. `sparse_output` is ignored unless you leave `sparse` to its default value.\n",
      "  warnings.warn(\n"
     ]
    }
   ],
   "source": [
    "ohe.fit(X_train[nominal_cols])\n",
    "ohe_train = ohe.transform(X_train[nominal_cols])\n",
    "ohe_test = ohe.transform(X_test[nominal_cols])\n",
    "\n",
    "\n",
    "ohe_train= pd.DataFrame(ohe_train, columns = ohe.get_feature_names_out())\n",
    "ohe_test = pd.DataFrame(ohe_test, columns = ohe.get_feature_names_out())"
   ]
  },
  {
   "cell_type": "markdown",
   "id": "e6c28db8",
   "metadata": {},
   "source": [
    "X_train_ohe =pd.concat([X_train.drop(columns = nominal_cols).reset_index(),\n",
    "                        ohe_train],1)\n",
    "\n",
    "\n",
    "X_test_ohe =pd.concat([X_test.drop(columns = nominal_cols).reset_index(),\n",
    "                        ohe_test],1)"
   ]
  },
  {
   "cell_type": "code",
   "execution_count": 630,
   "id": "43a7e573",
   "metadata": {},
   "outputs": [
    {
     "name": "stderr",
     "output_type": "stream",
     "text": [
      "/var/folders/bf/n_rprvk91ndgxz_bd75lz03h0000gp/T/ipykernel_16171/3032957121.py:1: FutureWarning: In a future version of pandas all arguments of concat except for the argument 'objs' will be keyword-only.\n",
      "  X_train_ohe =pd.concat([X_dfstan_train.reset_index(),\n",
      "/var/folders/bf/n_rprvk91ndgxz_bd75lz03h0000gp/T/ipykernel_16171/3032957121.py:5: FutureWarning: In a future version of pandas all arguments of concat except for the argument 'objs' will be keyword-only.\n",
      "  X_test_ohe =pd.concat([X_dfstan_test.reset_index(),\n"
     ]
    }
   ],
   "source": [
    "X_train_ohe =pd.concat([X_dfstan_train.reset_index(),\n",
    "                        ohe_train],1)\n",
    "\n",
    "\n",
    "X_test_ohe =pd.concat([X_dfstan_test.reset_index(),\n",
    "                        ohe_test],1)"
   ]
  },
  {
   "cell_type": "code",
   "execution_count": 631,
   "id": "7f2abe19",
   "metadata": {
    "scrolled": true
   },
   "outputs": [
    {
     "data": {
      "text/plain": [
       "0.6952527773117028"
      ]
     },
     "execution_count": 631,
     "metadata": {},
     "output_type": "execute_result"
    }
   ],
   "source": [
    "lr = LinearRegression()\n",
    "lr.fit(X_train_ohe, y_train)\n",
    "\n",
    "lr.score(X_test_ohe, y_test)\n",
    "# lr.score(X_train_ohe, y_train)"
   ]
  },
  {
   "cell_type": "code",
   "execution_count": 632,
   "id": "a885119c",
   "metadata": {
    "scrolled": true
   },
   "outputs": [
    {
     "data": {
      "text/plain": [
       "array([-2.51069818e-01,  4.49749141e+04,  2.23998931e+05,  1.25960601e+05,\n",
       "       -1.24165763e+04,  9.00886642e+04,  1.42346819e+05, -9.03365979e+04,\n",
       "        5.73606392e+04, -5.78411307e+04, -2.45271228e+04, -9.65618388e+04,\n",
       "        1.99523296e+05, -2.19143754e+12, -2.19143750e+12, -2.19143752e+12,\n",
       "       -2.19143528e+12, -2.19143658e+12, -2.19143682e+12, -2.19143684e+12,\n",
       "       -2.19143677e+12, -2.19143765e+12, -2.19143712e+12, -2.19143741e+12,\n",
       "       -2.19143733e+12, -2.19143759e+12, -2.19143761e+12, -2.19143716e+12,\n",
       "       -2.19143710e+12, -2.19143718e+12, -2.19143694e+12, -2.19143752e+12,\n",
       "       -2.19143749e+12, -2.19143750e+12, -2.19143646e+12, -2.19143691e+12,\n",
       "       -2.19143749e+12, -2.19143379e+12, -2.19143625e+12, -2.19143755e+12,\n",
       "       -2.19143740e+12, -2.19143739e+12, -2.19143753e+12, -2.19143680e+12,\n",
       "       -2.19143703e+12, -2.19143743e+12, -2.19143723e+12, -2.19143742e+12,\n",
       "       -2.19143748e+12, -2.19143732e+12, -2.19143728e+12, -2.19143756e+12,\n",
       "       -2.19143695e+12, -2.19143692e+12, -2.19143702e+12, -2.19143709e+12,\n",
       "       -2.19143767e+12, -2.19143683e+12, -2.19143694e+12, -2.19143677e+12,\n",
       "       -2.19143730e+12, -2.19143697e+12, -2.19143723e+12, -2.19143686e+12,\n",
       "       -2.19143662e+12, -2.19143696e+12, -2.19143708e+12, -2.19143698e+12,\n",
       "       -2.19143721e+12, -2.19143687e+12, -2.19143692e+12, -2.19143715e+12,\n",
       "       -2.19143722e+12, -2.19143721e+12, -2.19143713e+12, -2.19143707e+12,\n",
       "       -2.19143725e+12, -2.19143739e+12, -2.19143718e+12, -2.19143744e+12,\n",
       "       -2.19143738e+12, -2.19143712e+12, -2.19143742e+12, -2.19143747e+12,\n",
       "       -2.19143749e+12, -2.19143692e+12,  1.45684717e+13,  1.45684717e+13,\n",
       "        1.45684717e+13,  1.45684717e+13,  1.45684717e+13,  1.45684715e+13,\n",
       "        1.45684715e+13,  1.45684715e+13,  1.45684716e+13,  1.45684715e+13,\n",
       "        1.45684716e+13,  1.45684716e+13,  1.28491607e+11,  1.28491420e+11,\n",
       "        1.28491559e+11,  1.28491456e+11,  1.28491579e+11,  1.28491585e+11,\n",
       "        1.28491568e+11,  1.28491563e+11,  1.28491484e+11,  1.28491513e+11,\n",
       "        1.28491512e+11,  1.28491435e+11,  1.28491488e+11,  1.28491736e+11,\n",
       "        1.28491535e+11,  1.28491461e+11,  1.28491484e+11,  1.28491622e+11,\n",
       "        1.28491496e+11,  1.28491521e+11,  1.28491528e+11,  1.28491467e+11,\n",
       "        1.28491500e+11,  1.28491469e+11,  1.28491588e+11,  1.28491477e+11,\n",
       "        1.28491469e+11,  1.28491474e+11,  1.28491480e+11,  1.28491483e+11,\n",
       "        1.28491505e+11,  1.28491488e+11,  1.28491611e+11,  1.28491409e+11,\n",
       "        1.28491827e+11,  1.28491459e+11,  1.28491465e+11,  1.28491648e+11,\n",
       "        1.28491516e+11,  1.28491478e+11,  1.28491587e+11,  1.28491483e+11,\n",
       "        1.28491520e+11,  1.28491557e+11,  1.28491503e+11,  1.28491543e+11,\n",
       "        1.28491426e+11,  1.28491448e+11,  1.28491456e+11,  1.28491453e+11,\n",
       "        1.28491426e+11,  1.28491406e+11,  1.28491441e+11,  1.28491354e+11,\n",
       "        1.28491378e+11,  1.28491441e+11,  1.28491383e+11,  1.28491329e+11,\n",
       "        1.28491379e+11,  1.28491382e+11,  1.28491369e+11,  1.28491403e+11,\n",
       "        1.28491369e+11,  1.28491367e+11,  1.28491267e+11,  1.28491381e+11,\n",
       "        1.28491329e+11,  1.28491341e+11,  1.28491325e+11,  1.28491354e+11,\n",
       "        1.28491401e+11,  1.28491411e+11,  1.28491295e+11,  1.28491339e+11,\n",
       "        1.28491302e+11,  1.28491363e+11,  1.28491349e+11,  1.28491351e+11,\n",
       "        1.28491303e+11,  1.28491313e+11,  1.28491333e+11,  1.28491335e+11,\n",
       "        1.28491346e+11,  1.28491348e+11,  1.28491327e+11,  1.28491292e+11,\n",
       "        1.28491325e+11,  1.28491387e+11,  1.28491305e+11,  1.28491458e+11,\n",
       "        1.28491359e+11,  1.28491394e+11,  1.28491404e+11,  1.28491379e+11,\n",
       "        1.28491373e+11,  1.28491378e+11,  1.28491411e+11,  1.28491446e+11,\n",
       "        1.28491411e+11,  1.28491441e+11,  1.28491338e+11,  1.28491353e+11,\n",
       "        1.28491400e+11,  1.28491481e+11,  1.28491592e+11,  1.28491540e+11,\n",
       "        1.28491618e+11,  1.28491546e+11,  1.28491589e+11,  1.28491608e+11,\n",
       "        1.28491667e+11,  1.28491675e+11,  1.28491660e+11,  1.28491672e+11,\n",
       "        1.28491799e+11,  1.28491717e+11,  1.28491619e+11,  1.28491656e+11,\n",
       "        1.28491684e+11,  1.28491656e+11,  1.28491718e+11,  1.28491638e+11,\n",
       "        1.28491533e+11, -3.35805602e+13, -3.35805602e+13, -3.35805602e+13,\n",
       "       -3.35805601e+13, -3.35805602e+13, -3.35805603e+13, -3.35805601e+13])"
      ]
     },
     "execution_count": 632,
     "metadata": {},
     "output_type": "execute_result"
    }
   ],
   "source": [
    "lr.coef_"
   ]
  },
  {
   "cell_type": "code",
   "execution_count": 633,
   "id": "2d2c78b7",
   "metadata": {},
   "outputs": [
    {
     "name": "stdout",
     "output_type": "stream",
     "text": [
      "                            OLS Regression Results                            \n",
      "==============================================================================\n",
      "Dep. Variable:                  price   R-squared:                       0.669\n",
      "Model:                            OLS   Adj. R-squared:                  0.665\n",
      "Method:                 Least Squares   F-statistic:                     180.6\n",
      "Date:                Fri, 02 Jun 2023   Prob (F-statistic):               0.00\n",
      "Time:                        13:53:19   Log-Likelihood:            -2.9572e+05\n",
      "No. Observations:               20264   AIC:                         5.919e+05\n",
      "Df Residuals:                   20039   BIC:                         5.937e+05\n",
      "Df Model:                         224                                         \n",
      "Covariance Type:            nonrobust                                         \n",
      "=================================================================================================\n",
      "                                    coef    std err          t      P>|t|      [0.025      0.975]\n",
      "-------------------------------------------------------------------------------------------------\n",
      "const                            9.7e+05   4.98e+04     19.469      0.000    8.72e+05    1.07e+06\n",
      "index                            -0.2511      0.640     -0.393      0.695      -1.505       1.003\n",
      "house_cond                     4.497e+04   4338.149     10.367      0.000    3.65e+04    5.35e+04\n",
      "sqft_living                     2.24e+05   1.36e+04     16.491      0.000    1.97e+05    2.51e+05\n",
      "sqft_above                      1.26e+05   1.33e+04      9.485      0.000    9.99e+04    1.52e+05\n",
      "nuisance2                     -1.242e+04   3869.615     -3.209      0.001      -2e+04   -4831.808\n",
      "view2                          9.009e+04   4560.006     19.756      0.000    8.12e+04     9.9e+04\n",
      "wf2                            1.423e+05   4228.278     33.665      0.000    1.34e+05    1.51e+05\n",
      "floors                        -9.034e+04   6155.283    -14.676      0.000   -1.02e+05   -7.83e+04\n",
      "bathrooms                      5.736e+04   7072.502      8.110      0.000    4.35e+04    7.12e+04\n",
      "bedrooms                      -5.784e+04   5281.937    -10.951      0.000   -6.82e+04   -4.75e+04\n",
      "hasbasement                   -2.453e+04   6185.653     -3.965      0.000   -3.67e+04   -1.24e+04\n",
      "RBoR2                         -9.656e+04   1.14e+04     -8.445      0.000   -1.19e+05   -7.41e+04\n",
      "gradesquared                   1.995e+05   6955.576     28.685      0.000    1.86e+05    2.13e+05\n",
      "zipcodes_98001                -4.248e+05    2.6e+04    -16.311      0.000   -4.76e+05   -3.74e+05\n",
      "zipcodes_98002                -3.779e+05   3.36e+04    -11.253      0.000   -4.44e+05   -3.12e+05\n",
      "zipcodes_98003                -3.994e+05   3.03e+04    -13.162      0.000   -4.59e+05    -3.4e+05\n",
      "zipcodes_98004                 1.841e+06   3.72e+04     49.519      0.000    1.77e+06    1.91e+06\n",
      "zipcodes_98005                 5.442e+05   4.88e+04     11.159      0.000    4.49e+05     6.4e+05\n",
      "zipcodes_98006                 2.994e+05    2.8e+04     10.695      0.000    2.45e+05    3.54e+05\n",
      "zipcodes_98007                 2.824e+05   4.95e+04      5.703      0.000    1.85e+05    3.79e+05\n",
      "zipcodes_98008                 3.548e+05    3.3e+04     10.753      0.000     2.9e+05    4.19e+05\n",
      "zipcodes_98010                -5.255e+05   3.76e+04    -13.977      0.000   -5.99e+05   -4.52e+05\n",
      "zipcodes_98011                -1921.6565    3.9e+04     -0.049      0.961   -7.84e+04    7.45e+04\n",
      "zipcodes_98014                -2.862e+05   5.16e+04     -5.549      0.000   -3.87e+05   -1.85e+05\n",
      "zipcodes_98019                -2.148e+05   3.99e+04     -5.377      0.000   -2.93e+05   -1.36e+05\n",
      "zipcodes_98022                -4.703e+05   2.99e+04    -15.711      0.000   -5.29e+05   -4.12e+05\n",
      "zipcodes_98023                -4.912e+05   2.45e+04    -20.024      0.000   -5.39e+05   -4.43e+05\n",
      "zipcodes_98024                -4.038e+04   5.97e+04     -0.676      0.499   -1.57e+05    7.67e+04\n",
      "zipcodes_98027                 2.243e+04   3.23e+04      0.693      0.488    -4.1e+04    8.58e+04\n",
      "zipcodes_98028                -5.821e+04   3.41e+04     -1.707      0.088   -1.25e+05    8624.903\n",
      "zipcodes_98029                 1.778e+05   3.57e+04      4.973      0.000    1.08e+05    2.48e+05\n",
      "zipcodes_98030                -4.049e+05   3.25e+04    -12.476      0.000   -4.69e+05   -3.41e+05\n",
      "zipcodes_98031                -3.715e+05   2.82e+04    -13.192      0.000   -4.27e+05   -3.16e+05\n",
      "zipcodes_98032                -3.751e+05   4.62e+04     -8.118      0.000   -4.66e+05   -2.85e+05\n",
      "zipcodes_98033                 6.564e+05   2.58e+04     25.395      0.000    6.06e+05    7.07e+05\n",
      "zipcodes_98034                 2.067e+05   2.48e+04      8.333      0.000    1.58e+05    2.55e+05\n",
      "zipcodes_98038                -3.652e+05   2.26e+04    -16.170      0.000   -4.09e+05   -3.21e+05\n",
      "zipcodes_98039                 3.329e+06    8.8e+04     37.816      0.000    3.16e+06     3.5e+06\n",
      "zipcodes_98040                 8.706e+05   3.51e+04     24.779      0.000    8.02e+05    9.39e+05\n",
      "zipcodes_98042                -4.269e+05   2.11e+04    -20.205      0.000   -4.68e+05   -3.86e+05\n",
      "zipcodes_98045                -2.809e+05   3.02e+04     -9.289      0.000    -3.4e+05   -2.22e+05\n",
      "zipcodes_98047                -2.693e+05    7.4e+04     -3.642      0.000   -4.14e+05   -1.24e+05\n",
      "zipcodes_98051                -4.125e+05   8.03e+04     -5.139      0.000    -5.7e+05   -2.55e+05\n",
      "zipcodes_98052                 3.248e+05   2.69e+04     12.064      0.000    2.72e+05    3.78e+05\n",
      "zipcodes_98053                 9.096e+04   3.26e+04      2.795      0.005    2.72e+04    1.55e+05\n",
      "zipcodes_98055                -3.101e+05    4.4e+04     -7.042      0.000   -3.96e+05   -2.24e+05\n",
      "zipcodes_98056                -1.134e+05   2.84e+04     -3.998      0.000   -1.69e+05   -5.78e+04\n",
      "zipcodes_98057                -3.009e+05   5.97e+04     -5.041      0.000   -4.18e+05   -1.84e+05\n",
      "zipcodes_98058                -3.605e+05   2.49e+04    -14.455      0.000   -4.09e+05   -3.12e+05\n",
      "zipcodes_98059                -2.038e+05   2.69e+04     -7.563      0.000   -2.57e+05   -1.51e+05\n",
      "zipcodes_98065                -1.583e+05   3.75e+04     -4.227      0.000   -2.32e+05   -8.49e+04\n",
      "zipcodes_98070                -4.355e+05    4.6e+04     -9.465      0.000   -5.26e+05   -3.45e+05\n",
      "zipcodes_98072                 1.656e+05   3.53e+04      4.694      0.000    9.65e+04    2.35e+05\n",
      "zipcodes_98074                 2.003e+05   3.04e+04      6.584      0.000    1.41e+05     2.6e+05\n",
      "zipcodes_98075                 1.008e+05   3.25e+04      3.098      0.002     3.7e+04    1.65e+05\n",
      "zipcodes_98077                 2.706e+04   4.12e+04      0.657      0.511   -5.37e+04    1.08e+05\n",
      "zipcodes_98092                -5.469e+05   2.66e+04    -20.538      0.000   -5.99e+05   -4.95e+05\n",
      "zipcodes_98102                 2.873e+05   5.33e+04      5.394      0.000    1.83e+05    3.92e+05\n",
      "zipcodes_98103                 1.827e+05    2.5e+04      7.318      0.000    1.34e+05    2.32e+05\n",
      "zipcodes_98105                 3.521e+05   3.58e+04      9.823      0.000    2.82e+05    4.22e+05\n",
      "zipcodes_98106                -1.802e+05   2.92e+04     -6.160      0.000   -2.38e+05   -1.23e+05\n",
      "zipcodes_98107                 1.469e+05   3.05e+04      4.816      0.000    8.71e+04    2.07e+05\n",
      "zipcodes_98108                -1.057e+05   3.67e+04     -2.877      0.004   -1.78e+05   -3.37e+04\n",
      "zipcodes_98109                 2.637e+05   5.57e+04      4.733      0.000    1.55e+05    3.73e+05\n",
      "zipcodes_98112                 5.028e+05   3.69e+04     13.621      0.000     4.3e+05    5.75e+05\n",
      "zipcodes_98115                 1.562e+05   2.43e+04      6.422      0.000    1.09e+05    2.04e+05\n",
      "zipcodes_98116                 3.772e+04    3.4e+04      1.109      0.268    -2.9e+04    1.04e+05\n",
      "zipcodes_98117                 1.424e+05   2.45e+04      5.816      0.000    9.44e+04     1.9e+05\n",
      "zipcodes_98118                -9.342e+04   2.65e+04     -3.530      0.000   -1.45e+05   -4.15e+04\n",
      "zipcodes_98119                 2.463e+05   4.14e+04      5.957      0.000    1.65e+05    3.27e+05\n",
      "zipcodes_98122                 2.015e+05    3.2e+04      6.298      0.000    1.39e+05    2.64e+05\n",
      "zipcodes_98125                -3.471e+04   2.95e+04     -1.176      0.239   -9.26e+04    2.31e+04\n",
      "zipcodes_98126                -9.786e+04   3.14e+04     -3.119      0.002   -1.59e+05   -3.64e+04\n",
      "zipcodes_98133                -9.113e+04   2.52e+04     -3.614      0.000   -1.41e+05   -4.17e+04\n",
      "zipcodes_98136                -7240.9525    3.7e+04     -0.196      0.845   -7.97e+04    6.52e+04\n",
      "zipcodes_98144                 4.556e+04   3.08e+04      1.477      0.140   -1.49e+04    1.06e+05\n",
      "zipcodes_98146                -1.319e+05   3.13e+04     -4.210      0.000   -1.93e+05   -7.05e+04\n",
      "zipcodes_98148                -2.677e+05    6.7e+04     -3.994      0.000   -3.99e+05   -1.36e+05\n",
      "zipcodes_98155                -5.724e+04   2.88e+04     -1.989      0.047   -1.14e+05    -830.947\n",
      "zipcodes_98166                -3.238e+05   3.54e+04     -9.144      0.000   -3.93e+05   -2.54e+05\n",
      "zipcodes_98168                -2.596e+05   3.31e+04     -7.833      0.000   -3.25e+05   -1.95e+05\n",
      "zipcodes_98177                 1479.5162   3.74e+04      0.040      0.968   -7.18e+04    7.48e+04\n",
      "zipcodes_98178                -2.968e+05   3.37e+04     -8.808      0.000   -3.63e+05   -2.31e+05\n",
      "zipcodes_98188                -3.529e+05   4.44e+04     -7.953      0.000    -4.4e+05   -2.66e+05\n",
      "zipcodes_98198                -3.656e+05   3.22e+04    -11.362      0.000   -4.29e+05   -3.03e+05\n",
      "zipcodes_98199                 2.015e+05   3.18e+04      6.343      0.000    1.39e+05    2.64e+05\n",
      "month_sold_1                   1.239e+05   1.84e+04      6.737      0.000    8.78e+04     1.6e+05\n",
      "month_sold_2                   1.648e+05    1.6e+04     10.324      0.000    1.33e+05    1.96e+05\n",
      "month_sold_3                   1.939e+05   1.29e+04     15.057      0.000    1.69e+05    2.19e+05\n",
      "month_sold_4                   1.988e+05   1.28e+04     15.586      0.000    1.74e+05    2.24e+05\n",
      "month_sold_5                   1.914e+05   1.31e+04     14.582      0.000    1.66e+05    2.17e+05\n",
      "month_sold_6                  -9433.4230   1.25e+04     -0.753      0.452    -3.4e+04    1.51e+04\n",
      "month_sold_7                  -1.363e+04   1.19e+04     -1.149      0.251   -3.69e+04    9622.001\n",
      "month_sold_8                  -1.834e+04   1.18e+04     -1.553      0.120   -4.15e+04    4811.808\n",
      "month_sold_9                   1.383e+04   1.24e+04      1.117      0.264   -1.04e+04    3.81e+04\n",
      "month_sold_10                  4980.6512   1.26e+04      0.397      0.692   -1.96e+04    2.96e+04\n",
      "month_sold_11                  5.297e+04   1.31e+04      4.046      0.000    2.73e+04    7.86e+04\n",
      "month_sold_12                  6.691e+04   1.47e+04      4.558      0.000    3.81e+04    9.57e+04\n",
      "yr_built_or_renovated_1900     1.438e+05   6.46e+04      2.225      0.026    1.71e+04     2.7e+05\n",
      "yr_built_or_renovated_1901    -4.414e+04   1.16e+05     -0.382      0.703   -2.71e+05    1.83e+05\n",
      "yr_built_or_renovated_1902     9.553e+04   1.16e+05      0.824      0.410   -1.32e+05    3.23e+05\n",
      "yr_built_or_renovated_1903    -7703.9351      1e+05     -0.077      0.939   -2.04e+05    1.88e+05\n",
      "yr_built_or_renovated_1904     1.152e+05   8.11e+04      1.420      0.156   -4.38e+04    2.74e+05\n",
      "yr_built_or_renovated_1905     1.214e+05      8e+04      1.518      0.129   -3.53e+04    2.78e+05\n",
      "yr_built_or_renovated_1906     1.043e+05   7.23e+04      1.442      0.149   -3.74e+04    2.46e+05\n",
      "yr_built_or_renovated_1907     9.942e+04   7.34e+04      1.355      0.175   -4.44e+04    2.43e+05\n",
      "yr_built_or_renovated_1908     2.063e+04   5.55e+04      0.372      0.710   -8.82e+04    1.29e+05\n",
      "yr_built_or_renovated_1909     4.977e+04   6.55e+04      0.760      0.448   -7.87e+04    1.78e+05\n",
      "yr_built_or_renovated_1910     4.834e+04   4.97e+04      0.972      0.331   -4.92e+04    1.46e+05\n",
      "yr_built_or_renovated_1911     -2.89e+04   7.36e+04     -0.393      0.694   -1.73e+05    1.15e+05\n",
      "yr_built_or_renovated_1912     2.453e+04    6.6e+04      0.372      0.710   -1.05e+05    1.54e+05\n",
      "yr_built_or_renovated_1913     2.725e+05   8.28e+04      3.292      0.001     1.1e+05    4.35e+05\n",
      "yr_built_or_renovated_1914      7.15e+04    7.5e+04      0.953      0.340   -7.55e+04    2.19e+05\n",
      "yr_built_or_renovated_1915    -2771.0578   7.81e+04     -0.035      0.972   -1.56e+05     1.5e+05\n",
      "yr_built_or_renovated_1916      2.08e+04   6.62e+04      0.314      0.753   -1.09e+05     1.5e+05\n",
      "yr_built_or_renovated_1917     1.584e+05   9.81e+04      1.614      0.106   -3.39e+04    3.51e+05\n",
      "yr_built_or_renovated_1918      3.25e+04    5.1e+04      0.637      0.524   -6.75e+04    1.33e+05\n",
      "yr_built_or_renovated_1919     5.704e+04    6.6e+04      0.864      0.388   -7.24e+04    1.86e+05\n",
      "yr_built_or_renovated_1920     6.413e+04   5.41e+04      1.185      0.236   -4.19e+04     1.7e+05\n",
      "yr_built_or_renovated_1921     2917.6325   7.28e+04      0.040      0.968    -1.4e+05    1.46e+05\n",
      "yr_built_or_renovated_1922     3.605e+04    6.6e+04      0.546      0.585   -9.33e+04    1.65e+05\n",
      "yr_built_or_renovated_1923     4977.8088   6.05e+04      0.082      0.934   -1.14e+05    1.23e+05\n",
      "yr_built_or_renovated_1924     1.243e+05   5.89e+04      2.109      0.035    8788.159     2.4e+05\n",
      "yr_built_or_renovated_1925     1.374e+04    4.7e+04      0.292      0.770   -7.84e+04    1.06e+05\n",
      "yr_built_or_renovated_1926     4812.1906   4.53e+04      0.106      0.915    -8.4e+04    9.36e+04\n",
      "yr_built_or_renovated_1927     9835.2784   5.27e+04      0.187      0.852   -9.34e+04    1.13e+05\n",
      "yr_built_or_renovated_1928     1.614e+04   4.62e+04      0.349      0.727   -7.44e+04    1.07e+05\n",
      "yr_built_or_renovated_1929     1.961e+04   6.02e+04      0.326      0.745   -9.85e+04    1.38e+05\n",
      "yr_built_or_renovated_1930     4.147e+04   5.94e+04      0.699      0.485   -7.49e+04    1.58e+05\n",
      "yr_built_or_renovated_1931     2.414e+04   9.21e+04      0.262      0.793   -1.56e+05    2.05e+05\n",
      "yr_built_or_renovated_1932     1.473e+05   1.02e+05      1.447      0.148   -5.23e+04    3.47e+05\n",
      "yr_built_or_renovated_1933    -5.482e+04   1.41e+05     -0.389      0.697   -3.31e+05    2.22e+05\n",
      "yr_built_or_renovated_1934     3.631e+05   1.08e+05      3.370      0.001    1.52e+05    5.74e+05\n",
      "yr_built_or_renovated_1935    -4952.6736   1.21e+05     -0.041      0.967   -2.42e+05    2.32e+05\n",
      "yr_built_or_renovated_1936     1463.8075   7.98e+04      0.018      0.985   -1.55e+05    1.58e+05\n",
      "yr_built_or_renovated_1937     1.842e+05   7.28e+04      2.531      0.011    4.15e+04    3.27e+05\n",
      "yr_built_or_renovated_1938     5.257e+04   6.97e+04      0.754      0.451   -8.41e+04    1.89e+05\n",
      "yr_built_or_renovated_1939      1.44e+04   6.63e+04      0.217      0.828   -1.16e+05    1.44e+05\n",
      "yr_built_or_renovated_1940     1.237e+05   4.86e+04      2.543      0.011    2.83e+04    2.19e+05\n",
      "yr_built_or_renovated_1941     1.923e+04   4.67e+04      0.412      0.680   -7.23e+04    1.11e+05\n",
      "yr_built_or_renovated_1942     5.665e+04   3.79e+04      1.493      0.135   -1.77e+04    1.31e+05\n",
      "yr_built_or_renovated_1943     9.378e+04   4.86e+04      1.929      0.054   -1514.316    1.89e+05\n",
      "yr_built_or_renovated_1944     3.941e+04      5e+04      0.788      0.431   -5.86e+04    1.37e+05\n",
      "yr_built_or_renovated_1945     7.885e+04   5.78e+04      1.364      0.172   -3.44e+04    1.92e+05\n",
      "yr_built_or_renovated_1946    -3.775e+04    5.5e+04     -0.686      0.493   -1.46e+05    7.01e+04\n",
      "yr_built_or_renovated_1947    -1.572e+04   3.88e+04     -0.405      0.685   -9.17e+04    6.03e+04\n",
      "yr_built_or_renovated_1948    -7423.6154   3.76e+04     -0.197      0.844   -8.11e+04    6.63e+04\n",
      "yr_built_or_renovated_1949    -1.072e+04    4.3e+04     -0.249      0.803    -9.5e+04    7.35e+04\n",
      "yr_built_or_renovated_1950    -3.725e+04    3.5e+04     -1.064      0.287   -1.06e+05    3.14e+04\n",
      "yr_built_or_renovated_1951    -5.729e+04    4.2e+04     -1.365      0.172    -1.4e+05     2.5e+04\n",
      "yr_built_or_renovated_1952    -2.247e+04   3.87e+04     -0.580      0.562   -9.83e+04    5.34e+04\n",
      "yr_built_or_renovated_1953    -1.097e+05   3.99e+04     -2.749      0.006   -1.88e+05   -3.15e+04\n",
      "yr_built_or_renovated_1954    -8.584e+04   3.78e+04     -2.273      0.023    -1.6e+05   -1.18e+04\n",
      "yr_built_or_renovated_1955    -2.231e+04   3.47e+04     -0.643      0.520   -9.03e+04    4.57e+04\n",
      "yr_built_or_renovated_1956    -8.027e+04   4.27e+04     -1.879      0.060   -1.64e+05    3469.974\n",
      "yr_built_or_renovated_1957    -1.347e+05   4.29e+04     -3.141      0.002   -2.19e+05   -5.06e+04\n",
      "yr_built_or_renovated_1958    -8.498e+04   3.63e+04     -2.342      0.019   -1.56e+05   -1.39e+04\n",
      "yr_built_or_renovated_1959    -8.214e+04   3.22e+04     -2.553      0.011   -1.45e+05   -1.91e+04\n",
      "yr_built_or_renovated_1960    -9.444e+04   4.19e+04     -2.254      0.024   -1.77e+05   -1.23e+04\n",
      "yr_built_or_renovated_1961     -6.09e+04   3.66e+04     -1.666      0.096   -1.33e+05    1.07e+04\n",
      "yr_built_or_renovated_1962    -9.443e+04   3.26e+04     -2.898      0.004   -1.58e+05   -3.06e+04\n",
      "yr_built_or_renovated_1963     -9.68e+04   3.39e+04     -2.857      0.004   -1.63e+05   -3.04e+04\n",
      "yr_built_or_renovated_1964    -1.969e+05   4.25e+04     -4.633      0.000    -2.8e+05   -1.14e+05\n",
      "yr_built_or_renovated_1965     -8.29e+04   3.93e+04     -2.108      0.035    -1.6e+05   -5814.916\n",
      "yr_built_or_renovated_1966    -1.343e+05   3.66e+04     -3.665      0.000   -2.06e+05   -6.25e+04\n",
      "yr_built_or_renovated_1967    -1.224e+05   3.02e+04     -4.052      0.000   -1.82e+05   -6.32e+04\n",
      "yr_built_or_renovated_1968    -1.384e+05   2.96e+04     -4.670      0.000   -1.96e+05   -8.03e+04\n",
      "yr_built_or_renovated_1969    -1.101e+05   3.52e+04     -3.130      0.002   -1.79e+05   -4.11e+04\n",
      "yr_built_or_renovated_1970    -6.308e+04   4.49e+04     -1.405      0.160   -1.51e+05    2.49e+04\n",
      "yr_built_or_renovated_1971    -5.315e+04   5.62e+04     -0.945      0.345   -1.63e+05    5.71e+04\n",
      "yr_built_or_renovated_1972     -1.69e+05   4.42e+04     -3.822      0.000   -2.56e+05   -8.23e+04\n",
      "yr_built_or_renovated_1973    -1.252e+05   4.66e+04     -2.684      0.007   -2.17e+05   -3.38e+04\n",
      "yr_built_or_renovated_1974     -1.62e+05   4.59e+04     -3.529      0.000   -2.52e+05    -7.2e+04\n",
      "yr_built_or_renovated_1975     -1.01e+05   4.03e+04     -2.507      0.012    -1.8e+05    -2.2e+04\n",
      "yr_built_or_renovated_1976    -1.142e+05   3.64e+04     -3.134      0.002   -1.86e+05   -4.28e+04\n",
      "yr_built_or_renovated_1977    -1.122e+05   3.12e+04     -3.597      0.000   -1.73e+05   -5.11e+04\n",
      "yr_built_or_renovated_1978    -1.608e+05   2.96e+04     -5.433      0.000   -2.19e+05   -1.03e+05\n",
      "yr_built_or_renovated_1979     -1.51e+05   3.48e+04     -4.336      0.000   -2.19e+05   -8.27e+04\n",
      "yr_built_or_renovated_1980    -1.302e+05   3.71e+04     -3.514      0.000   -2.03e+05   -5.76e+04\n",
      "yr_built_or_renovated_1981    -1.289e+05   3.82e+04     -3.372      0.001   -2.04e+05    -5.4e+04\n",
      "yr_built_or_renovated_1982    -1.179e+05   5.24e+04     -2.251      0.024    -2.2e+05   -1.52e+04\n",
      "yr_built_or_renovated_1983    -1.156e+05    3.7e+04     -3.121      0.002   -1.88e+05    -4.3e+04\n",
      "yr_built_or_renovated_1984    -1.363e+05   3.72e+04     -3.660      0.000   -2.09e+05   -6.33e+04\n",
      "yr_built_or_renovated_1985    -1.715e+05   3.73e+04     -4.600      0.000   -2.45e+05   -9.84e+04\n",
      "yr_built_or_renovated_1986    -1.382e+05   3.84e+04     -3.599      0.000   -2.13e+05   -6.29e+04\n",
      "yr_built_or_renovated_1987    -7.643e+04   3.51e+04     -2.177      0.030   -1.45e+05   -7601.953\n",
      "yr_built_or_renovated_1988    -1.586e+05   3.52e+04     -4.507      0.000   -2.28e+05   -8.96e+04\n",
      "yr_built_or_renovated_1989    -5261.2593   3.25e+04     -0.162      0.872    -6.9e+04    5.85e+04\n",
      "yr_built_or_renovated_1990    -1.049e+05   3.14e+04     -3.337      0.001   -1.67e+05   -4.33e+04\n",
      "yr_built_or_renovated_1991    -6.957e+04   4.06e+04     -1.714      0.087   -1.49e+05       1e+04\n",
      "yr_built_or_renovated_1992    -5.969e+04   3.91e+04     -1.527      0.127   -1.36e+05    1.69e+04\n",
      "yr_built_or_renovated_1993    -8.507e+04   4.18e+04     -2.033      0.042   -1.67e+05   -3060.302\n",
      "yr_built_or_renovated_1994    -9.117e+04   3.81e+04     -2.396      0.017   -1.66e+05   -1.66e+04\n",
      "yr_built_or_renovated_1995    -8.582e+04   4.19e+04     -2.049      0.041   -1.68e+05   -3711.146\n",
      "yr_built_or_renovated_1996    -5.278e+04   4.17e+04     -1.265      0.206   -1.35e+05     2.9e+04\n",
      "yr_built_or_renovated_1997    -1.772e+04   4.21e+04     -0.421      0.674      -1e+05    6.49e+04\n",
      "yr_built_or_renovated_1998     -5.28e+04   3.78e+04     -1.399      0.162   -1.27e+05    2.12e+04\n",
      "yr_built_or_renovated_1999    -2.299e+04   3.84e+04     -0.599      0.549   -9.82e+04    5.22e+04\n",
      "yr_built_or_renovated_2000    -1.261e+05   3.96e+04     -3.184      0.001   -2.04e+05   -4.85e+04\n",
      "yr_built_or_renovated_2001    -1.105e+05   3.68e+04     -3.005      0.003   -1.83e+05   -3.84e+04\n",
      "yr_built_or_renovated_2002    -6.368e+04   3.91e+04     -1.629      0.103    -1.4e+05    1.29e+04\n",
      "yr_built_or_renovated_2003     1.705e+04   3.23e+04      0.529      0.597   -4.62e+04    8.03e+04\n",
      "yr_built_or_renovated_2004     1.281e+05   3.74e+04      3.427      0.001    5.48e+04    2.01e+05\n",
      "yr_built_or_renovated_2005     7.677e+04   3.63e+04      2.115      0.034    5639.380    1.48e+05\n",
      "yr_built_or_renovated_2006     1.547e+05   3.68e+04      4.208      0.000    8.26e+04    2.27e+05\n",
      "yr_built_or_renovated_2007     8.213e+04   3.79e+04      2.164      0.030    7745.937    1.57e+05\n",
      "yr_built_or_renovated_2008     1.248e+05   4.19e+04      2.981      0.003    4.27e+04    2.07e+05\n",
      "yr_built_or_renovated_2009     1.447e+05   5.17e+04      2.798      0.005    4.34e+04    2.46e+05\n",
      "yr_built_or_renovated_2010     2.036e+05   5.59e+04      3.642      0.000     9.4e+04    3.13e+05\n",
      "yr_built_or_renovated_2011     2.113e+05   5.29e+04      3.996      0.000    1.08e+05    3.15e+05\n",
      "yr_built_or_renovated_2012     1.964e+05      5e+04      3.928      0.000    9.84e+04    2.94e+05\n",
      "yr_built_or_renovated_2013     2.084e+05    4.6e+04      4.534      0.000    1.18e+05    2.98e+05\n",
      "yr_built_or_renovated_2014     3.353e+05   4.29e+04      7.819      0.000    2.51e+05    4.19e+05\n",
      "yr_built_or_renovated_2015     2.537e+05   4.13e+04      6.136      0.000    1.73e+05    3.35e+05\n",
      "yr_built_or_renovated_2016     1.552e+05   3.94e+04      3.937      0.000    7.79e+04    2.32e+05\n",
      "yr_built_or_renovated_2017     1.922e+05   4.03e+04      4.771      0.000    1.13e+05    2.71e+05\n",
      "yr_built_or_renovated_2018     2.202e+05   3.92e+04      5.613      0.000    1.43e+05    2.97e+05\n",
      "yr_built_or_renovated_2019      1.92e+05   4.48e+04      4.286      0.000    1.04e+05     2.8e+05\n",
      "yr_built_or_renovated_2020     2.543e+05   4.07e+04      6.251      0.000    1.75e+05    3.34e+05\n",
      "yr_built_or_renovated_2021     1.745e+05   2.87e+04      6.071      0.000    1.18e+05    2.31e+05\n",
      "yr_built_or_renovated_2022     6.913e+04   4.46e+04      1.552      0.121   -1.82e+04    1.56e+05\n",
      "heat_source_Electricity        1.388e+05   5.52e+04      2.514      0.012    3.06e+04    2.47e+05\n",
      "heat_source_Electricity/Solar  1.191e+05   9.64e+04      1.236      0.217   -6.98e+04    3.08e+05\n",
      "heat_source_Gas                 1.19e+05   5.49e+04      2.169      0.030    1.15e+04    2.27e+05\n",
      "heat_source_Gas/Solar          2.251e+05   7.67e+04      2.933      0.003    7.47e+04    3.76e+05\n",
      "heat_source_Oil                 1.13e+05   5.59e+04      2.024      0.043    3548.855    2.23e+05\n",
      "heat_source_Oil/Solar           5.91e+04    3.3e+05      0.179      0.858   -5.88e+05    7.06e+05\n",
      "heat_source_Other              1.958e+05   1.63e+05      1.200      0.230   -1.24e+05    5.16e+05\n",
      "==============================================================================\n",
      "Omnibus:                    37898.090   Durbin-Watson:                   2.007\n",
      "Prob(Omnibus):                  0.000   Jarque-Bera (JB):        211526025.756\n",
      "Skew:                          13.688   Prob(JB):                         0.00\n",
      "Kurtosis:                     502.775   Cond. No.                     2.14e+20\n",
      "==============================================================================\n",
      "\n",
      "Notes:\n",
      "[1] Standard Errors assume that the covariance matrix of the errors is correctly specified.\n",
      "[2] The smallest eigenvalue is 6.03e-29. This might indicate that there are\n",
      "strong multicollinearity problems or that the design matrix is singular.\n"
     ]
    }
   ],
   "source": [
    "import statsmodels.api as sm\n",
    "\n",
    "# add a constant (intercept term) to the predictors\n",
    "X_train_ohe = sm.add_constant(X_train_ohe)\n",
    "X_test_ohe = sm.add_constant(X_test_ohe)\n",
    "\n",
    "# reset the index of y_train\n",
    "y_train_reset = y_train.reset_index(drop=True)\n",
    "\n",
    "model = sm.OLS(y_train_reset, X_train_ohe)\n",
    "results = model.fit()\n",
    "print(results.summary())\n",
    "\n"
   ]
  },
  {
   "cell_type": "markdown",
   "id": "bad0e39e",
   "metadata": {},
   "source": [
    "# Linear Regression Final Model "
   ]
  },
  {
   "cell_type": "code",
   "execution_count": 155,
   "id": "60bb47c3",
   "metadata": {},
   "outputs": [
    {
     "data": {
      "text/html": [
       "<style>#sk-container-id-7 {color: black;background-color: white;}#sk-container-id-7 pre{padding: 0;}#sk-container-id-7 div.sk-toggleable {background-color: white;}#sk-container-id-7 label.sk-toggleable__label {cursor: pointer;display: block;width: 100%;margin-bottom: 0;padding: 0.3em;box-sizing: border-box;text-align: center;}#sk-container-id-7 label.sk-toggleable__label-arrow:before {content: \"▸\";float: left;margin-right: 0.25em;color: #696969;}#sk-container-id-7 label.sk-toggleable__label-arrow:hover:before {color: black;}#sk-container-id-7 div.sk-estimator:hover label.sk-toggleable__label-arrow:before {color: black;}#sk-container-id-7 div.sk-toggleable__content {max-height: 0;max-width: 0;overflow: hidden;text-align: left;background-color: #f0f8ff;}#sk-container-id-7 div.sk-toggleable__content pre {margin: 0.2em;color: black;border-radius: 0.25em;background-color: #f0f8ff;}#sk-container-id-7 input.sk-toggleable__control:checked~div.sk-toggleable__content {max-height: 200px;max-width: 100%;overflow: auto;}#sk-container-id-7 input.sk-toggleable__control:checked~label.sk-toggleable__label-arrow:before {content: \"▾\";}#sk-container-id-7 div.sk-estimator input.sk-toggleable__control:checked~label.sk-toggleable__label {background-color: #d4ebff;}#sk-container-id-7 div.sk-label input.sk-toggleable__control:checked~label.sk-toggleable__label {background-color: #d4ebff;}#sk-container-id-7 input.sk-hidden--visually {border: 0;clip: rect(1px 1px 1px 1px);clip: rect(1px, 1px, 1px, 1px);height: 1px;margin: -1px;overflow: hidden;padding: 0;position: absolute;width: 1px;}#sk-container-id-7 div.sk-estimator {font-family: monospace;background-color: #f0f8ff;border: 1px dotted black;border-radius: 0.25em;box-sizing: border-box;margin-bottom: 0.5em;}#sk-container-id-7 div.sk-estimator:hover {background-color: #d4ebff;}#sk-container-id-7 div.sk-parallel-item::after {content: \"\";width: 100%;border-bottom: 1px solid gray;flex-grow: 1;}#sk-container-id-7 div.sk-label:hover label.sk-toggleable__label {background-color: #d4ebff;}#sk-container-id-7 div.sk-serial::before {content: \"\";position: absolute;border-left: 1px solid gray;box-sizing: border-box;top: 0;bottom: 0;left: 50%;z-index: 0;}#sk-container-id-7 div.sk-serial {display: flex;flex-direction: column;align-items: center;background-color: white;padding-right: 0.2em;padding-left: 0.2em;position: relative;}#sk-container-id-7 div.sk-item {position: relative;z-index: 1;}#sk-container-id-7 div.sk-parallel {display: flex;align-items: stretch;justify-content: center;background-color: white;position: relative;}#sk-container-id-7 div.sk-item::before, #sk-container-id-7 div.sk-parallel-item::before {content: \"\";position: absolute;border-left: 1px solid gray;box-sizing: border-box;top: 0;bottom: 0;left: 50%;z-index: -1;}#sk-container-id-7 div.sk-parallel-item {display: flex;flex-direction: column;z-index: 1;position: relative;background-color: white;}#sk-container-id-7 div.sk-parallel-item:first-child::after {align-self: flex-end;width: 50%;}#sk-container-id-7 div.sk-parallel-item:last-child::after {align-self: flex-start;width: 50%;}#sk-container-id-7 div.sk-parallel-item:only-child::after {width: 0;}#sk-container-id-7 div.sk-dashed-wrapped {border: 1px dashed gray;margin: 0 0.4em 0.5em 0.4em;box-sizing: border-box;padding-bottom: 0.4em;background-color: white;}#sk-container-id-7 div.sk-label label {font-family: monospace;font-weight: bold;display: inline-block;line-height: 1.2em;}#sk-container-id-7 div.sk-label-container {text-align: center;}#sk-container-id-7 div.sk-container {/* jupyter's `normalize.less` sets `[hidden] { display: none; }` but bootstrap.min.css set `[hidden] { display: none !important; }` so we also need the `!important` here to be able to override the default hidden behavior on the sphinx rendered scikit-learn.org. See: https://github.com/scikit-learn/scikit-learn/issues/21755 */display: inline-block !important;position: relative;}#sk-container-id-7 div.sk-text-repr-fallback {display: none;}</style><div id=\"sk-container-id-7\" class=\"sk-top-container\"><div class=\"sk-text-repr-fallback\"><pre>LinearRegression()</pre><b>In a Jupyter environment, please rerun this cell to show the HTML representation or trust the notebook. <br />On GitHub, the HTML representation is unable to render, please try loading this page with nbviewer.org.</b></div><div class=\"sk-container\" hidden><div class=\"sk-item\"><div class=\"sk-estimator sk-toggleable\"><input class=\"sk-toggleable__control sk-hidden--visually\" id=\"sk-estimator-id-7\" type=\"checkbox\" checked><label for=\"sk-estimator-id-7\" class=\"sk-toggleable__label sk-toggleable__label-arrow\">LinearRegression</label><div class=\"sk-toggleable__content\"><pre>LinearRegression()</pre></div></div></div></div></div>"
      ],
      "text/plain": [
       "LinearRegression()"
      ]
     },
     "execution_count": 155,
     "metadata": {},
     "output_type": "execute_result"
    }
   ],
   "source": [
    "lr"
   ]
  },
  {
   "cell_type": "markdown",
   "id": "cc0d1fe1",
   "metadata": {},
   "source": [
    "# Data Visualization"
   ]
  },
  {
   "cell_type": "code",
   "execution_count": 90,
   "id": "93b52491",
   "metadata": {},
   "outputs": [
    {
     "data": {
      "text/plain": [
       "const                    690393.048366\n",
       "index                        -0.243413\n",
       "house_cond                45088.571920\n",
       "sqft_living              224337.858115\n",
       "sqft_above               126390.929752\n",
       "                             ...      \n",
       "heat_source_Gas           77537.877544\n",
       "heat_source_Gas/Solar    183791.307590\n",
       "heat_source_Oil           72629.638020\n",
       "heat_source_Oil/Solar     17690.668461\n",
       "heat_source_Other        159693.174276\n",
       "Length: 231, dtype: float64"
      ]
     },
     "execution_count": 90,
     "metadata": {},
     "output_type": "execute_result"
    }
   ],
   "source": [
    "weights = results.params\n",
    "weights"
   ]
  },
  {
   "cell_type": "code",
   "execution_count": null,
   "id": "b5fb05c4",
   "metadata": {},
   "outputs": [],
   "source": []
  },
  {
   "cell_type": "code",
   "execution_count": 91,
   "id": "94714239",
   "metadata": {},
   "outputs": [
    {
     "data": {
      "image/png": "[encoded data removed]",
      "text/plain": [
       "<Figure size 1000x500 with 1 Axes>"
      ]
     },
     "metadata": {},
     "output_type": "display_data"
    }
   ],
   "source": [
    "# sort the weights\n",
    "sorted_weights = weights.sort_values(ascending=False)\n",
    "\n",
    "# select top 10\n",
    "top_10 = sorted_weights[:3]\n",
    "\n",
    "# select bottom 10\n",
    "bottom_10 = sorted_weights[-3:]\n",
    "\n",
    "# concatenate top and bottom 10\n",
    "selected_weights = pd.concat([top_10, bottom_10])\n",
    "\n",
    "# plot\n",
    "plt.figure(figsize=(10,5))\n",
    "sns.barplot(y = selected_weights.index, x = selected_weights.values)\n",
    "plt.title(\"Weights for factors correlating with price\")\n",
    "plt.ylabel('Weight')\n",
    "plt.show()\n"
   ]
  },
  {
   "cell_type": "code",
   "execution_count": 92,
   "id": "3f477ffc",
   "metadata": {},
   "outputs": [
    {
     "data": {
      "image/png": "[encoded data removed]",
      "text/plain": [
       "<Figure size 1000x500 with 1 Axes>"
      ]
     },
     "metadata": {},
     "output_type": "display_data"
    }
   ],
   "source": [
    "# sort the weights\n",
    "sorted_weights = weights.sort_values(ascending=False)\n",
    "\n",
    "# select top 10\n",
    "top_10 = sorted_weights[:5]\n",
    "\n",
    "# select bottom 10\n",
    "bottom_10 = sorted_weights[-3:]\n",
    "\n",
    "# concatenate top and bottom 10\n",
    "selected_weights = pd.concat([top_10, bottom_10])\n",
    "\n",
    "# plot\n",
    "plt.figure(figsize=(10,5))\n",
    "sns.barplot(y = selected_weights.index, x = selected_weights.values)\n",
    "plt.title(\"Weights for factors correlating with price\")\n",
    "plt.ylabel('Weight')\n",
    "plt.show()"
   ]
  },
  {
   "cell_type": "code",
   "execution_count": 93,
   "id": "f3a41aca",
   "metadata": {},
   "outputs": [
    {
     "data": {
      "image/png": "[encoded data removed]",
      "text/plain": [
       "<Figure size 1000x500 with 1 Axes>"
      ]
     },
     "metadata": {},
     "output_type": "display_data"
    }
   ],
   "source": [
    "weights = results.params\n",
    "weights\n",
    "\n",
    "# sort the weights\n",
    "sorted_weights = weights.sort_values(ascending=False)\n",
    "sorted_weights = sorted_weights[~sorted_weights.index.str.startswith('x')]\n",
    "sorted_weights = sorted_weights[~sorted_weights.index.str.startswith('con')]\n",
    "sorted_weights = sorted_weights[~sorted_weights.index.str.startswith('ind')]\n",
    "\n",
    "top_10 = sorted_weights[:6]\n",
    "\n",
    "# plot\n",
    "plt.figure(figsize=(10,5))\n",
    "sns.barplot(y = top_10.index, x = top_10.values)\n",
    "plt.title(\"Weights for factors correlating with price\")\n",
    "plt.ylabel('Weight')\n",
    "plt.show()"
   ]
  },
  {
   "cell_type": "code",
   "execution_count": 94,
   "id": "66f1bf20",
   "metadata": {},
   "outputs": [
    {
     "data": {
      "image/png": "[encoded data removed]",
      "text/plain": [
       "<Figure size 1000x500 with 1 Axes>"
      ]
     },
     "metadata": {},
     "output_type": "display_data"
    }
   ],
   "source": [
    "plt.figure(figsize=(10,5))\n",
    "sns.barplot(y = weights[1::].index, x = weights[1::].values)\n",
    "plt.title(\"Weights for factors correlating with price\")\n",
    "plt.ylabel('Weight')\n",
    "plt.show()"
   ]
  },
  {
   "cell_type": "code",
   "execution_count": 95,
   "id": "c31b44ee",
   "metadata": {},
   "outputs": [
    {
     "ename": "SyntaxError",
     "evalue": "invalid syntax (3213340080.py, line 1)",
     "output_type": "error",
     "traceback": [
      "\u001b[0;36m  Cell \u001b[0;32mIn[95], line 1\u001b[0;36m\u001b[0m\n\u001b[0;31m    has basement vs doesnt have basement\u001b[0m\n\u001b[0m        ^\u001b[0m\n\u001b[0;31mSyntaxError\u001b[0m\u001b[0;31m:\u001b[0m invalid syntax\n"
     ]
    }
   ],
   "source": [
    "has basement vs doesnt have basement"
   ]
  },
  {
   "cell_type": "code",
   "execution_count": null,
   "id": "651b6a18",
   "metadata": {},
   "outputs": [],
   "source": [
    "sns.pairplot(X_dfstan_train)"
   ]
  },
  {
   "cell_type": "code",
   "execution_count": null,
   "id": "01d7a562",
   "metadata": {},
   "outputs": [],
   "source": [
    "df['bathrooms'].value_counts()"
   ]
  },
  {
   "cell_type": "code",
   "execution_count": null,
   "id": "272f5faa",
   "metadata": {},
   "outputs": [],
   "source": [
    "df1.columns"
   ]
  },
  {
   "cell_type": "code",
   "execution_count": null,
   "id": "e3cb8a40",
   "metadata": {},
   "outputs": [],
   "source": []
  },
  {
   "cell_type": "code",
   "execution_count": null,
   "id": "6ea4fe2b",
   "metadata": {},
   "outputs": [],
   "source": []
  },
  {
   "cell_type": "code",
   "execution_count": null,
   "id": "c2aeebbd",
   "metadata": {},
   "outputs": [],
   "source": []
  },
  {
   "cell_type": "code",
   "execution_count": null,
   "id": "563d279b",
   "metadata": {},
   "outputs": [],
   "source": []
  },
  {
   "cell_type": "code",
   "execution_count": null,
   "id": "3d3c589c",
   "metadata": {},
   "outputs": [],
   "source": []
  },
  {
   "cell_type": "code",
   "execution_count": null,
   "id": "9616226a",
   "metadata": {},
   "outputs": [],
   "source": []
  },
  {
   "cell_type": "code",
   "execution_count": 498,
   "id": "96ce163a",
   "metadata": {},
   "outputs": [],
   "source": [
    "col_selector = ['house_cond', 'grade2', 'sqft_living', 'sqft_above', 'sqft_basement', 'bedrooms', 'bathrooms', \n",
    "                'zipcodes', 'nuisance2', 'view2', 'wf2',  'floors', 'bedtobath',  'month_sold', 'yr_built_or_renovated', 'yr_built','RBoR2', 'greenbelt2',\n",
    "                'hasbasement', 'gradesquared',]\n",
    "X = df1[col_selector]\n",
    "y = df1['price']\n",
    "X_train, X_test, y_train, y_test = train_test_split(X, y, test_size=0.3, random_state=21)"
   ]
  },
  {
   "cell_type": "code",
   "execution_count": 501,
   "id": "fdddb85b",
   "metadata": {},
   "outputs": [],
   "source": [
    "numeric_cols= ['house_cond', 'sqft_living', 'sqft_above', \n",
    "                 'nuisance2', 'view2', 'wf2',  'floors', 'bathrooms', 'bedrooms',\n",
    "                     'hasbasement', 'RBoR2','gradesquared'\n",
    "              ]\n",
    "# from sklearn.preprocessing import MinMaxScaler\n",
    "# from sklearn.preprocessing import MaxAbsScaler\n",
    "# from sklearn.preprocessing import RobustScaler\n",
    "# from sklearn.preprocessing import QuantileTransformer\n",
    "# from sklearn.preprocessing import PowerTransformer\n",
    "\n",
    "\n",
    "\n",
    "# ss = preprocessing.StandardScaler()\n",
    "# mms = preprocessing.MinMaxScaler()\n",
    "# mas = preprocessing.MaxAbsScaler()\n",
    "# qts = preprocessing.QuantileTransformer()\n",
    "# ptbc = preprocessing.PowerTransformer(method = 'box-cox')\n",
    "# ptyj = preprocessing.PowerTransformer(method = 'yeo-johnson')\n",
    "# #method = 'box-cox' or 'yeo-johnson'\n",
    "\n",
    "X_train = X_train[numeric_cols]\n",
    "X_test = X_test[numeric_cols]\n",
    "\n",
    "dfXsamp_train = pd.DataFrame(Xsamp_train, columns = numeric_cols)\n",
    "dfXsamp_test = pd.DataFrame(Xsamp_test, columns = numeric_cols)\n",
    "\n",
    "\n",
    "\n",
    "# X_nonstan_train = transform(X_train[numeric_cols])\n",
    "# X_nonstan_test = transform(X_test[numeric_cols])\n",
    "\n",
    "# X_dfnonstan_train = pd.DataFrame(X_nonstan_train, columns = numeric_cols)\n",
    "# X_dfnonstan_test = pd.DataFrame(X_nonstan_test, columns = numeric_cols)\n",
    "                              "
   ]
  },
  {
   "cell_type": "markdown",
   "id": "e178868d",
   "metadata": {},
   "source": [
    "nominal_cols = ['zipcodes', 'month_sold', 'yr_built_or_renovated']"
   ]
  },
  {
   "cell_type": "markdown",
   "id": "1331f46d",
   "metadata": {},
   "source": [
    "ohe.fit(X_train[nominal_cols])\n",
    "ohe_train = ohe.transform(X_train[nominal_cols])\n",
    "ohe_test = ohe.transform(X_test[nominal_cols])\n",
    "\n",
    "\n",
    "ohe_train= pd.DataFrame(ohe_train, columns = ohe.get_feature_names_out())\n",
    "ohe_test = pd.DataFrame(ohe_test, columns = ohe.get_feature_names_out())"
   ]
  },
  {
   "cell_type": "code",
   "execution_count": null,
   "id": "99cad7f7",
   "metadata": {},
   "outputs": [],
   "source": [
    "numeric_cols= ['house_cond', 'sqft_living', 'sqft_above', \n",
    "                 'nuisance2', 'view2', 'wf2',  'floors', 'bathrooms', 'bedrooms',\n",
    "                     'hasbasement', 'RBoR2','gradesquared'\n",
    "              ]\n",
    "\n"
   ]
  },
  {
   "cell_type": "code",
   "execution_count": 340,
   "id": "090d0852",
   "metadata": {},
   "outputs": [
    {
     "name": "stderr",
     "output_type": "stream",
     "text": [
      "/var/folders/bf/n_rprvk91ndgxz_bd75lz03h0000gp/T/ipykernel_16171/556974456.py:1: FutureWarning: In a future version of pandas all arguments of concat except for the argument 'objs' will be keyword-only.\n",
      "  X_train_ohe2 =pd.concat([X_dfnonstan_train.reset_index(),\n",
      "/var/folders/bf/n_rprvk91ndgxz_bd75lz03h0000gp/T/ipykernel_16171/556974456.py:5: FutureWarning: In a future version of pandas all arguments of concat except for the argument 'objs' will be keyword-only.\n",
      "  X_test_ohe2 =pd.concat([X_dfnonstan_test.reset_index(),\n"
     ]
    }
   ],
   "source": [
    "X_train_ohe2 =pd.concat([X_dfnonstan_train.reset_index(),\n",
    "                        ohe_train],1)\n",
    "\n",
    "\n",
    "X_test_ohe2 =pd.concat([X_dfnonstan_test.reset_index(),\n",
    "                        ohe_test],1)"
   ]
  },
  {
   "cell_type": "markdown",
   "id": "1ac641fb",
   "metadata": {},
   "source": [
    "X_train_ohe2 =pd.concat([X_train.reset_index(),\n",
    "                        ohe_train],1)\n",
    "\n",
    "\n",
    "X_test_ohe2 =pd.concat([X_test.reset_index(),\n",
    "                        ohe_test],1)"
   ]
  },
  {
   "cell_type": "code",
   "execution_count": 515,
   "id": "89fca1ab",
   "metadata": {},
   "outputs": [
    {
     "data": {
      "text/html": [
       "<style>#sk-container-id-12 {color: black;background-color: white;}#sk-container-id-12 pre{padding: 0;}#sk-container-id-12 div.sk-toggleable {background-color: white;}#sk-container-id-12 label.sk-toggleable__label {cursor: pointer;display: block;width: 100%;margin-bottom: 0;padding: 0.3em;box-sizing: border-box;text-align: center;}#sk-container-id-12 label.sk-toggleable__label-arrow:before {content: \"▸\";float: left;margin-right: 0.25em;color: #696969;}#sk-container-id-12 label.sk-toggleable__label-arrow:hover:before {color: black;}#sk-container-id-12 div.sk-estimator:hover label.sk-toggleable__label-arrow:before {color: black;}#sk-container-id-12 div.sk-toggleable__content {max-height: 0;max-width: 0;overflow: hidden;text-align: left;background-color: #f0f8ff;}#sk-container-id-12 div.sk-toggleable__content pre {margin: 0.2em;color: black;border-radius: 0.25em;background-color: #f0f8ff;}#sk-container-id-12 input.sk-toggleable__control:checked~div.sk-toggleable__content {max-height: 200px;max-width: 100%;overflow: auto;}#sk-container-id-12 input.sk-toggleable__control:checked~label.sk-toggleable__label-arrow:before {content: \"▾\";}#sk-container-id-12 div.sk-estimator input.sk-toggleable__control:checked~label.sk-toggleable__label {background-color: #d4ebff;}#sk-container-id-12 div.sk-label input.sk-toggleable__control:checked~label.sk-toggleable__label {background-color: #d4ebff;}#sk-container-id-12 input.sk-hidden--visually {border: 0;clip: rect(1px 1px 1px 1px);clip: rect(1px, 1px, 1px, 1px);height: 1px;margin: -1px;overflow: hidden;padding: 0;position: absolute;width: 1px;}#sk-container-id-12 div.sk-estimator {font-family: monospace;background-color: #f0f8ff;border: 1px dotted black;border-radius: 0.25em;box-sizing: border-box;margin-bottom: 0.5em;}#sk-container-id-12 div.sk-estimator:hover {background-color: #d4ebff;}#sk-container-id-12 div.sk-parallel-item::after {content: \"\";width: 100%;border-bottom: 1px solid gray;flex-grow: 1;}#sk-container-id-12 div.sk-label:hover label.sk-toggleable__label {background-color: #d4ebff;}#sk-container-id-12 div.sk-serial::before {content: \"\";position: absolute;border-left: 1px solid gray;box-sizing: border-box;top: 0;bottom: 0;left: 50%;z-index: 0;}#sk-container-id-12 div.sk-serial {display: flex;flex-direction: column;align-items: center;background-color: white;padding-right: 0.2em;padding-left: 0.2em;position: relative;}#sk-container-id-12 div.sk-item {position: relative;z-index: 1;}#sk-container-id-12 div.sk-parallel {display: flex;align-items: stretch;justify-content: center;background-color: white;position: relative;}#sk-container-id-12 div.sk-item::before, #sk-container-id-12 div.sk-parallel-item::before {content: \"\";position: absolute;border-left: 1px solid gray;box-sizing: border-box;top: 0;bottom: 0;left: 50%;z-index: -1;}#sk-container-id-12 div.sk-parallel-item {display: flex;flex-direction: column;z-index: 1;position: relative;background-color: white;}#sk-container-id-12 div.sk-parallel-item:first-child::after {align-self: flex-end;width: 50%;}#sk-container-id-12 div.sk-parallel-item:last-child::after {align-self: flex-start;width: 50%;}#sk-container-id-12 div.sk-parallel-item:only-child::after {width: 0;}#sk-container-id-12 div.sk-dashed-wrapped {border: 1px dashed gray;margin: 0 0.4em 0.5em 0.4em;box-sizing: border-box;padding-bottom: 0.4em;background-color: white;}#sk-container-id-12 div.sk-label label {font-family: monospace;font-weight: bold;display: inline-block;line-height: 1.2em;}#sk-container-id-12 div.sk-label-container {text-align: center;}#sk-container-id-12 div.sk-container {/* jupyter's `normalize.less` sets `[hidden] { display: none; }` but bootstrap.min.css set `[hidden] { display: none !important; }` so we also need the `!important` here to be able to override the default hidden behavior on the sphinx rendered scikit-learn.org. See: https://github.com/scikit-learn/scikit-learn/issues/21755 */display: inline-block !important;position: relative;}#sk-container-id-12 div.sk-text-repr-fallback {display: none;}</style><div id=\"sk-container-id-12\" class=\"sk-top-container\"><div class=\"sk-text-repr-fallback\"><pre>LinearRegression()</pre><b>In a Jupyter environment, please rerun this cell to show the HTML representation or trust the notebook. <br />On GitHub, the HTML representation is unable to render, please try loading this page with nbviewer.org.</b></div><div class=\"sk-container\" hidden><div class=\"sk-item\"><div class=\"sk-estimator sk-toggleable\"><input class=\"sk-toggleable__control sk-hidden--visually\" id=\"sk-estimator-id-12\" type=\"checkbox\" checked><label for=\"sk-estimator-id-12\" class=\"sk-toggleable__label sk-toggleable__label-arrow\">LinearRegression</label><div class=\"sk-toggleable__content\"><pre>LinearRegression()</pre></div></div></div></div></div>"
      ],
      "text/plain": [
       "LinearRegression()"
      ]
     },
     "execution_count": 515,
     "metadata": {},
     "output_type": "execute_result"
    }
   ],
   "source": [
    "lr = LinearRegression()\n",
    "lr.fit(X_train[numeric_cols], y_train)\n",
    "# lr.score(X_train_ohe, y_train)"
   ]
  },
  {
   "cell_type": "code",
   "execution_count": 342,
   "id": "4fbb9a83",
   "metadata": {},
   "outputs": [
    {
     "name": "stdout",
     "output_type": "stream",
     "text": [
      "                            OLS Regression Results                            \n",
      "==============================================================================\n",
      "Dep. Variable:                  price   R-squared:                       0.669\n",
      "Model:                            OLS   Adj. R-squared:                  0.665\n",
      "Method:                 Least Squares   F-statistic:                     185.6\n",
      "Date:                Fri, 02 Jun 2023   Prob (F-statistic):               0.00\n",
      "Time:                        08:41:26   Log-Likelihood:            -2.9572e+05\n",
      "No. Observations:               20264   AIC:                         5.919e+05\n",
      "Df Residuals:                   20045   BIC:                         5.936e+05\n",
      "Df Model:                         218                                         \n",
      "Covariance Type:            nonrobust                                         \n",
      "==============================================================================================\n",
      "                                 coef    std err          t      P>|t|      [0.025      0.975]\n",
      "----------------------------------------------------------------------------------------------\n",
      "const                        1.08e+06   8172.113    132.189      0.000    1.06e+06     1.1e+06\n",
      "index                         -0.2338      0.639     -0.366      0.715      -1.487       1.020\n",
      "house_cond                  4.553e+04   4293.573     10.605      0.000    3.71e+04    5.39e+04\n",
      "sqft_living                 2.257e+05   1.36e+04     16.654      0.000    1.99e+05    2.52e+05\n",
      "sqft_above                  1.235e+05   1.32e+04      9.348      0.000    9.76e+04    1.49e+05\n",
      "nuisance2                  -1.215e+04   3864.589     -3.144      0.002   -1.97e+04   -4576.786\n",
      "view2                       9.048e+04   4555.438     19.863      0.000    8.16e+04    9.94e+04\n",
      "wf2                         1.427e+05   4221.064     33.804      0.000    1.34e+05    1.51e+05\n",
      "floors                     -8.991e+04   6145.498    -14.631      0.000   -1.02e+05   -7.79e+04\n",
      "bathrooms                   5.788e+04   7048.533      8.212      0.000    4.41e+04    7.17e+04\n",
      "bedrooms                   -5.861e+04   5270.999    -11.119      0.000   -6.89e+04   -4.83e+04\n",
      "hasbasement                 -2.61e+04   6123.002     -4.262      0.000   -3.81e+04   -1.41e+04\n",
      "RBoR2                       -9.69e+04   1.14e+04     -8.479      0.000   -1.19e+05   -7.45e+04\n",
      "gradesquared                1.988e+05   6946.911     28.622      0.000    1.85e+05    2.12e+05\n",
      "zipcodes_98001             -4.242e+05    2.6e+04    -16.299      0.000   -4.75e+05   -3.73e+05\n",
      "zipcodes_98002             -3.767e+05   3.36e+04    -11.221      0.000   -4.43e+05   -3.11e+05\n",
      "zipcodes_98003             -3.988e+05   3.03e+04    -13.152      0.000   -4.58e+05   -3.39e+05\n",
      "zipcodes_98004               1.84e+06   3.72e+04     49.520      0.000    1.77e+06    1.91e+06\n",
      "zipcodes_98005              5.434e+05   4.87e+04     11.148      0.000    4.48e+05    6.39e+05\n",
      "zipcodes_98006              2.983e+05   2.79e+04     10.672      0.000    2.43e+05    3.53e+05\n",
      "zipcodes_98007              2.821e+05   4.94e+04      5.706      0.000    1.85e+05    3.79e+05\n",
      "zipcodes_98008              3.533e+05   3.29e+04     10.750      0.000    2.89e+05    4.18e+05\n",
      "zipcodes_98010             -5.262e+05   3.76e+04    -14.010      0.000      -6e+05   -4.53e+05\n",
      "zipcodes_98011             -4030.2998    3.9e+04     -0.103      0.918   -8.04e+04    7.23e+04\n",
      "zipcodes_98014             -2.817e+05   5.16e+04     -5.463      0.000   -3.83e+05   -1.81e+05\n",
      "zipcodes_98019             -2.134e+05   3.99e+04     -5.343      0.000   -2.92e+05   -1.35e+05\n",
      "zipcodes_98022             -4.677e+05   2.99e+04    -15.631      0.000   -5.26e+05   -4.09e+05\n",
      "zipcodes_98023             -4.932e+05   2.44e+04    -20.177      0.000   -5.41e+05   -4.45e+05\n",
      "zipcodes_98024             -3.581e+04   5.97e+04     -0.600      0.548   -1.53e+05    8.11e+04\n",
      "zipcodes_98027               2.29e+04   3.23e+04      0.708      0.479   -4.05e+04    8.63e+04\n",
      "zipcodes_98028             -5.836e+04   3.41e+04     -1.712      0.087   -1.25e+05    8448.719\n",
      "zipcodes_98029              1.784e+05   3.57e+04      4.993      0.000    1.08e+05    2.48e+05\n",
      "zipcodes_98030             -4.067e+05   3.24e+04    -12.545      0.000    -4.7e+05   -3.43e+05\n",
      "zipcodes_98031             -3.727e+05   2.81e+04    -13.254      0.000   -4.28e+05   -3.18e+05\n",
      "zipcodes_98032             -3.765e+05   4.62e+04     -8.155      0.000   -4.67e+05   -2.86e+05\n",
      "zipcodes_98033               6.56e+05   2.58e+04     25.406      0.000    6.05e+05    7.07e+05\n",
      "zipcodes_98034              2.048e+05   2.47e+04      8.292      0.000    1.56e+05    2.53e+05\n",
      "zipcodes_98038             -3.643e+05   2.26e+04    -16.142      0.000   -4.09e+05    -3.2e+05\n",
      "zipcodes_98039              3.327e+06    8.8e+04     37.807      0.000    3.15e+06     3.5e+06\n",
      "zipcodes_98040              8.725e+05   3.51e+04     24.843      0.000    8.04e+05    9.41e+05\n",
      "zipcodes_98042             -4.265e+05   2.11e+04    -20.200      0.000   -4.68e+05   -3.85e+05\n",
      "zipcodes_98045             -2.792e+05   3.02e+04     -9.236      0.000   -3.38e+05    -2.2e+05\n",
      "zipcodes_98047             -2.678e+05    7.4e+04     -3.621      0.000   -4.13e+05   -1.23e+05\n",
      "zipcodes_98051             -4.076e+05   8.02e+04     -5.082      0.000   -5.65e+05    -2.5e+05\n",
      "zipcodes_98052              3.231e+05   2.69e+04     12.031      0.000     2.7e+05    3.76e+05\n",
      "zipcodes_98053              9.283e+04   3.25e+04      2.854      0.004    2.91e+04    1.57e+05\n",
      "zipcodes_98055             -3.098e+05    4.4e+04     -7.035      0.000   -3.96e+05   -2.23e+05\n",
      "zipcodes_98056             -1.134e+05   2.82e+04     -4.018      0.000   -1.69e+05   -5.81e+04\n",
      "zipcodes_98057             -2.987e+05   5.97e+04     -5.005      0.000   -4.16e+05   -1.82e+05\n",
      "zipcodes_98058             -3.621e+05   2.49e+04    -14.556      0.000   -4.11e+05   -3.13e+05\n",
      "zipcodes_98059             -2.024e+05   2.69e+04     -7.515      0.000   -2.55e+05    -1.5e+05\n",
      "zipcodes_98065              -1.57e+05   3.75e+04     -4.193      0.000    -2.3e+05   -8.36e+04\n",
      "zipcodes_98070             -4.258e+05   4.58e+04     -9.296      0.000   -5.16e+05   -3.36e+05\n",
      "zipcodes_98072               1.66e+05   3.53e+04      4.706      0.000    9.69e+04    2.35e+05\n",
      "zipcodes_98074              1.987e+05   3.04e+04      6.542      0.000    1.39e+05    2.58e+05\n",
      "zipcodes_98075              1.005e+05   3.25e+04      3.091      0.002    3.68e+04    1.64e+05\n",
      "zipcodes_98077              2.926e+04   4.12e+04      0.710      0.477   -5.15e+04     1.1e+05\n",
      "zipcodes_98092             -5.458e+05   2.66e+04    -20.505      0.000   -5.98e+05   -4.94e+05\n",
      "zipcodes_98102              2.905e+05   5.32e+04      5.456      0.000    1.86e+05    3.95e+05\n",
      "zipcodes_98103              1.872e+05   2.49e+04      7.513      0.000    1.38e+05    2.36e+05\n",
      "zipcodes_98105              3.567e+05   3.58e+04      9.959      0.000    2.86e+05    4.27e+05\n",
      "zipcodes_98106             -1.735e+05   2.91e+04     -5.954      0.000   -2.31e+05   -1.16e+05\n",
      "zipcodes_98107              1.507e+05   3.05e+04      4.945      0.000    9.09e+04     2.1e+05\n",
      "zipcodes_98108             -1.024e+05   3.67e+04     -2.793      0.005   -1.74e+05   -3.05e+04\n",
      "zipcodes_98109               2.67e+05   5.57e+04      4.793      0.000    1.58e+05    3.76e+05\n",
      "zipcodes_98112              5.047e+05   3.69e+04     13.683      0.000    4.32e+05    5.77e+05\n",
      "zipcodes_98115              1.595e+05   2.43e+04      6.562      0.000    1.12e+05    2.07e+05\n",
      "zipcodes_98116              3.992e+04    3.4e+04      1.174      0.240   -2.67e+04    1.07e+05\n",
      "zipcodes_98117              1.464e+05   2.44e+04      5.997      0.000    9.85e+04    1.94e+05\n",
      "zipcodes_98118             -9.041e+04   2.64e+04     -3.419      0.001   -1.42e+05   -3.86e+04\n",
      "zipcodes_98119               2.49e+05   4.13e+04      6.023      0.000    1.68e+05     3.3e+05\n",
      "zipcodes_98122              2.047e+05    3.2e+04      6.403      0.000    1.42e+05    2.67e+05\n",
      "zipcodes_98125             -3.159e+04   2.95e+04     -1.072      0.284   -8.94e+04    2.62e+04\n",
      "zipcodes_98126             -9.379e+04   3.13e+04     -2.993      0.003   -1.55e+05   -3.24e+04\n",
      "zipcodes_98133             -8.861e+04   2.52e+04     -3.517      0.000   -1.38e+05   -3.92e+04\n",
      "zipcodes_98136             -5730.9399    3.7e+04     -0.155      0.877   -7.82e+04    6.67e+04\n",
      "zipcodes_98144              4.938e+04   3.08e+04      1.603      0.109    -1.1e+04     1.1e+05\n",
      "zipcodes_98146             -1.288e+05   3.13e+04     -4.113      0.000    -1.9e+05   -6.74e+04\n",
      "zipcodes_98148             -2.686e+05    6.7e+04     -4.009      0.000      -4e+05   -1.37e+05\n",
      "zipcodes_98155             -5.323e+04   2.87e+04     -1.852      0.064    -1.1e+05    3110.436\n",
      "zipcodes_98166             -3.223e+05   3.54e+04     -9.106      0.000   -3.92e+05   -2.53e+05\n",
      "zipcodes_98168             -2.571e+05   3.31e+04     -7.761      0.000   -3.22e+05   -1.92e+05\n",
      "zipcodes_98177              4817.8059   3.74e+04      0.129      0.897   -6.84e+04     7.8e+04\n",
      "zipcodes_98178             -2.938e+05   3.37e+04     -8.729      0.000    -3.6e+05   -2.28e+05\n",
      "zipcodes_98188             -3.513e+05   4.44e+04     -7.920      0.000   -4.38e+05   -2.64e+05\n",
      "zipcodes_98198             -3.664e+05   3.22e+04    -11.395      0.000   -4.29e+05   -3.03e+05\n",
      "zipcodes_98199              2.044e+05   3.17e+04      6.440      0.000    1.42e+05    2.67e+05\n",
      "month_sold_1                1.328e+05   1.79e+04      7.417      0.000    9.77e+04    1.68e+05\n",
      "month_sold_2                1.737e+05   1.54e+04     11.269      0.000    1.43e+05    2.04e+05\n",
      "month_sold_3                2.032e+05   1.22e+04     16.648      0.000    1.79e+05    2.27e+05\n",
      "month_sold_4                2.082e+05   1.21e+04     17.149      0.000    1.84e+05    2.32e+05\n",
      "month_sold_5                2.003e+05   1.24e+04     16.101      0.000    1.76e+05    2.25e+05\n",
      "month_sold_6                 -69.5403   1.18e+04     -0.006      0.995   -2.32e+04    2.31e+04\n",
      "month_sold_7               -4559.7979   1.11e+04     -0.411      0.681   -2.63e+04    1.72e+04\n",
      "month_sold_8               -9447.1723   1.11e+04     -0.854      0.393   -3.11e+04    1.22e+04\n",
      "month_sold_9                2.291e+04   1.17e+04      1.963      0.050      31.763    4.58e+04\n",
      "month_sold_10               1.456e+04   1.18e+04      1.229      0.219   -8657.856    3.78e+04\n",
      "month_sold_11               6.181e+04   1.25e+04      4.947      0.000    3.73e+04    8.63e+04\n",
      "month_sold_12               7.677e+04   1.41e+04      5.434      0.000    4.91e+04    1.04e+05\n",
      "yr_built_or_renovated_1900  1.413e+05   6.46e+04      2.188      0.029    1.47e+04    2.68e+05\n",
      "yr_built_or_renovated_1901 -4.593e+04   1.16e+05     -0.397      0.691   -2.72e+05    1.81e+05\n",
      "yr_built_or_renovated_1902  9.325e+04   1.16e+05      0.805      0.421   -1.34e+05     3.2e+05\n",
      "yr_built_or_renovated_1903 -8928.2565      1e+05     -0.089      0.929   -2.05e+05    1.87e+05\n",
      "yr_built_or_renovated_1904  1.124e+05   8.11e+04      1.386      0.166   -4.65e+04    2.71e+05\n",
      "yr_built_or_renovated_1905  1.217e+05      8e+04      1.522      0.128    -3.5e+04    2.78e+05\n",
      "yr_built_or_renovated_1906  1.035e+05   7.23e+04      1.432      0.152   -3.82e+04    2.45e+05\n",
      "yr_built_or_renovated_1907  9.707e+04   7.33e+04      1.324      0.186   -4.67e+04    2.41e+05\n",
      "yr_built_or_renovated_1908   1.93e+04   5.54e+04      0.349      0.727   -8.92e+04    1.28e+05\n",
      "yr_built_or_renovated_1909  4.764e+04   6.55e+04      0.727      0.467   -8.08e+04    1.76e+05\n",
      "yr_built_or_renovated_1910  4.767e+04   4.97e+04      0.959      0.338   -4.98e+04    1.45e+05\n",
      "yr_built_or_renovated_1911 -3.123e+04   7.35e+04     -0.425      0.671   -1.75e+05    1.13e+05\n",
      "yr_built_or_renovated_1912  2.169e+04    6.6e+04      0.329      0.742   -1.08e+05    1.51e+05\n",
      "yr_built_or_renovated_1913  2.708e+05   8.28e+04      3.273      0.001    1.09e+05    4.33e+05\n",
      "yr_built_or_renovated_1914  6.979e+04    7.5e+04      0.931      0.352   -7.72e+04    2.17e+05\n",
      "yr_built_or_renovated_1915 -3357.4610   7.81e+04     -0.043      0.966   -1.56e+05     1.5e+05\n",
      "yr_built_or_renovated_1916  1.776e+04   6.61e+04      0.269      0.788   -1.12e+05    1.47e+05\n",
      "yr_built_or_renovated_1917  1.545e+05   9.81e+04      1.576      0.115   -3.77e+04    3.47e+05\n",
      "yr_built_or_renovated_1918  3.028e+04    5.1e+04      0.593      0.553   -6.97e+04     1.3e+05\n",
      "yr_built_or_renovated_1919  5.736e+04    6.6e+04      0.869      0.385    -7.2e+04    1.87e+05\n",
      "yr_built_or_renovated_1920  6.203e+04   5.41e+04      1.147      0.252    -4.4e+04    1.68e+05\n",
      "yr_built_or_renovated_1921   507.4857   7.28e+04      0.007      0.994   -1.42e+05    1.43e+05\n",
      "yr_built_or_renovated_1922  3.292e+04    6.6e+04      0.499      0.618   -9.64e+04    1.62e+05\n",
      "yr_built_or_renovated_1923  4287.7528   6.04e+04      0.071      0.943   -1.14e+05    1.23e+05\n",
      "yr_built_or_renovated_1924  1.222e+05   5.89e+04      2.073      0.038    6646.165    2.38e+05\n",
      "yr_built_or_renovated_1925  1.157e+04    4.7e+04      0.246      0.805   -8.05e+04    1.04e+05\n",
      "yr_built_or_renovated_1926  2618.5316   4.52e+04      0.058      0.954    -8.6e+04    9.13e+04\n",
      "yr_built_or_renovated_1927  8571.8218   5.26e+04      0.163      0.871   -9.46e+04    1.12e+05\n",
      "yr_built_or_renovated_1928  1.247e+04   4.61e+04      0.270      0.787   -7.79e+04    1.03e+05\n",
      "yr_built_or_renovated_1929  1.702e+04   6.02e+04      0.283      0.777   -1.01e+05    1.35e+05\n",
      "yr_built_or_renovated_1930  4.125e+04   5.94e+04      0.695      0.487   -7.51e+04    1.58e+05\n",
      "yr_built_or_renovated_1931   2.16e+04    9.2e+04      0.235      0.814   -1.59e+05    2.02e+05\n",
      "yr_built_or_renovated_1932  1.488e+05   1.02e+05      1.464      0.143   -5.04e+04    3.48e+05\n",
      "yr_built_or_renovated_1933 -5.783e+04   1.41e+05     -0.410      0.682   -3.34e+05    2.18e+05\n",
      "yr_built_or_renovated_1934  3.615e+05   1.08e+05      3.355      0.001     1.5e+05    5.73e+05\n",
      "yr_built_or_renovated_1935   640.8159   1.21e+05      0.005      0.996   -2.37e+05    2.38e+05\n",
      "yr_built_or_renovated_1936   414.7192   7.98e+04      0.005      0.996   -1.56e+05    1.57e+05\n",
      "yr_built_or_renovated_1937  1.857e+05   7.28e+04      2.553      0.011    4.31e+04    3.28e+05\n",
      "yr_built_or_renovated_1938  5.107e+04   6.97e+04      0.733      0.464   -8.55e+04    1.88e+05\n",
      "yr_built_or_renovated_1939   1.52e+04   6.63e+04      0.229      0.819   -1.15e+05    1.45e+05\n",
      "yr_built_or_renovated_1940  1.241e+05   4.86e+04      2.552      0.011    2.88e+04    2.19e+05\n",
      "yr_built_or_renovated_1941  1.802e+04   4.65e+04      0.387      0.698   -7.32e+04    1.09e+05\n",
      "yr_built_or_renovated_1942  5.814e+04   3.79e+04      1.534      0.125   -1.62e+04    1.32e+05\n",
      "yr_built_or_renovated_1943  9.664e+04   4.86e+04      1.989      0.047    1417.243    1.92e+05\n",
      "yr_built_or_renovated_1944      4e+04      5e+04      0.800      0.424    -5.8e+04    1.38e+05\n",
      "yr_built_or_renovated_1945  7.885e+04   5.78e+04      1.365      0.172   -3.44e+04    1.92e+05\n",
      "yr_built_or_renovated_1946  -3.85e+04    5.5e+04     -0.700      0.484   -1.46e+05    6.93e+04\n",
      "yr_built_or_renovated_1947 -1.604e+04   3.87e+04     -0.414      0.679    -9.2e+04    5.99e+04\n",
      "yr_built_or_renovated_1948 -9535.8758   3.75e+04     -0.254      0.799    -8.3e+04     6.4e+04\n",
      "yr_built_or_renovated_1949 -1.227e+04   4.29e+04     -0.286      0.775   -9.64e+04    7.18e+04\n",
      "yr_built_or_renovated_1950 -3.939e+04   3.49e+04     -1.130      0.258   -1.08e+05    2.89e+04\n",
      "yr_built_or_renovated_1951 -5.831e+04   4.19e+04     -1.393      0.164    -1.4e+05    2.37e+04\n",
      "yr_built_or_renovated_1952 -2.354e+04   3.86e+04     -0.610      0.542   -9.92e+04    5.21e+04\n",
      "yr_built_or_renovated_1953 -1.117e+05   3.97e+04     -2.810      0.005    -1.9e+05   -3.38e+04\n",
      "yr_built_or_renovated_1954 -8.786e+04   3.76e+04     -2.339      0.019   -1.61e+05   -1.42e+04\n",
      "yr_built_or_renovated_1955 -2.458e+04   3.44e+04     -0.714      0.475    -9.2e+04    4.29e+04\n",
      "yr_built_or_renovated_1956 -8.138e+04   4.26e+04     -1.908      0.056   -1.65e+05    2200.592\n",
      "yr_built_or_renovated_1957 -1.364e+05   4.28e+04     -3.184      0.001    -2.2e+05   -5.24e+04\n",
      "yr_built_or_renovated_1958  -8.57e+04   3.62e+04     -2.365      0.018   -1.57e+05   -1.47e+04\n",
      "yr_built_or_renovated_1959 -8.318e+04   3.21e+04     -2.589      0.010   -1.46e+05   -2.02e+04\n",
      "yr_built_or_renovated_1960 -9.335e+04   4.19e+04     -2.228      0.026   -1.75e+05   -1.12e+04\n",
      "yr_built_or_renovated_1961 -5.998e+04   3.65e+04     -1.642      0.101   -1.32e+05    1.16e+04\n",
      "yr_built_or_renovated_1962 -9.412e+04   3.26e+04     -2.889      0.004   -1.58e+05   -3.03e+04\n",
      "yr_built_or_renovated_1963 -9.507e+04   3.39e+04     -2.807      0.005   -1.61e+05   -2.87e+04\n",
      "yr_built_or_renovated_1964 -1.949e+05   4.25e+04     -4.586      0.000   -2.78e+05   -1.12e+05\n",
      "yr_built_or_renovated_1965 -8.242e+04   3.93e+04     -2.096      0.036   -1.59e+05   -5350.531\n",
      "yr_built_or_renovated_1966 -1.329e+05   3.66e+04     -3.628      0.000   -2.05e+05   -6.11e+04\n",
      "yr_built_or_renovated_1967 -1.203e+05   3.02e+04     -3.983      0.000   -1.79e+05   -6.11e+04\n",
      "yr_built_or_renovated_1968 -1.356e+05   2.96e+04     -4.578      0.000   -1.94e+05   -7.75e+04\n",
      "yr_built_or_renovated_1969  -1.07e+05   3.51e+04     -3.046      0.002   -1.76e+05   -3.81e+04\n",
      "yr_built_or_renovated_1970 -5.912e+04   4.49e+04     -1.318      0.187   -1.47e+05    2.88e+04\n",
      "yr_built_or_renovated_1971 -4.756e+04   5.61e+04     -0.847      0.397   -1.58e+05    6.25e+04\n",
      "yr_built_or_renovated_1972 -1.649e+05   4.42e+04     -3.733      0.000   -2.51e+05   -7.83e+04\n",
      "yr_built_or_renovated_1973 -1.217e+05   4.66e+04     -2.611      0.009   -2.13e+05   -3.03e+04\n",
      "yr_built_or_renovated_1974 -1.594e+05   4.59e+04     -3.474      0.001   -2.49e+05   -6.95e+04\n",
      "yr_built_or_renovated_1975 -9.441e+04   4.02e+04     -2.349      0.019   -1.73e+05   -1.56e+04\n",
      "yr_built_or_renovated_1976 -1.076e+05   3.63e+04     -2.962      0.003   -1.79e+05   -3.64e+04\n",
      "yr_built_or_renovated_1977 -1.053e+05   3.11e+04     -3.391      0.001   -1.66e+05   -4.44e+04\n",
      "yr_built_or_renovated_1978 -1.535e+05   2.94e+04     -5.219      0.000   -2.11e+05   -9.58e+04\n",
      "yr_built_or_renovated_1979 -1.437e+05   3.47e+04     -4.145      0.000   -2.12e+05   -7.58e+04\n",
      "yr_built_or_renovated_1980  -1.23e+05   3.69e+04     -3.332      0.001   -1.95e+05   -5.06e+04\n",
      "yr_built_or_renovated_1981 -1.207e+05   3.81e+04     -3.170      0.002   -1.95e+05   -4.61e+04\n",
      "yr_built_or_renovated_1982 -1.099e+05   5.23e+04     -2.103      0.035   -2.12e+05   -7478.979\n",
      "yr_built_or_renovated_1983 -1.081e+05   3.69e+04     -2.930      0.003    -1.8e+05   -3.58e+04\n",
      "yr_built_or_renovated_1984 -1.296e+05   3.71e+04     -3.493      0.000   -2.02e+05   -5.69e+04\n",
      "yr_built_or_renovated_1985 -1.667e+05   3.72e+04     -4.480      0.000    -2.4e+05   -9.38e+04\n",
      "yr_built_or_renovated_1986 -1.339e+05   3.84e+04     -3.492      0.000   -2.09e+05   -5.88e+04\n",
      "yr_built_or_renovated_1987 -7.267e+04   3.51e+04     -2.072      0.038   -1.41e+05   -3931.048\n",
      "yr_built_or_renovated_1988 -1.568e+05   3.51e+04     -4.460      0.000   -2.26e+05   -8.79e+04\n",
      "yr_built_or_renovated_1989 -3638.9786   3.25e+04     -0.112      0.911   -6.73e+04       6e+04\n",
      "yr_built_or_renovated_1990 -1.035e+05   3.14e+04     -3.299      0.001   -1.65e+05    -4.2e+04\n",
      "yr_built_or_renovated_1991 -6.724e+04   4.06e+04     -1.658      0.097   -1.47e+05    1.23e+04\n",
      "yr_built_or_renovated_1992 -5.977e+04    3.9e+04     -1.531      0.126   -1.36e+05    1.68e+04\n",
      "yr_built_or_renovated_1993 -8.414e+04   4.18e+04     -2.013      0.044   -1.66e+05   -2212.277\n",
      "yr_built_or_renovated_1994 -9.117e+04    3.8e+04     -2.400      0.016   -1.66e+05   -1.67e+04\n",
      "yr_built_or_renovated_1995 -8.442e+04   4.18e+04     -2.017      0.044   -1.66e+05   -2397.211\n",
      "yr_built_or_renovated_1996 -5.336e+04   4.16e+04     -1.281      0.200   -1.35e+05    2.83e+04\n",
      "yr_built_or_renovated_1997 -1.793e+04   4.21e+04     -0.426      0.670      -1e+05    6.45e+04\n",
      "yr_built_or_renovated_1998 -5.268e+04   3.77e+04     -1.398      0.162   -1.27e+05    2.12e+04\n",
      "yr_built_or_renovated_1999 -2.209e+04   3.83e+04     -0.577      0.564   -9.72e+04     5.3e+04\n",
      "yr_built_or_renovated_2000 -1.257e+05   3.95e+04     -3.180      0.001   -2.03e+05   -4.82e+04\n",
      "yr_built_or_renovated_2001 -1.113e+05   3.67e+04     -3.032      0.002   -1.83e+05   -3.93e+04\n",
      "yr_built_or_renovated_2002 -6.411e+04    3.9e+04     -1.643      0.100   -1.41e+05    1.24e+04\n",
      "yr_built_or_renovated_2003  1.643e+04   3.22e+04      0.511      0.610   -4.66e+04    7.95e+04\n",
      "yr_built_or_renovated_2004  1.289e+05   3.73e+04      3.453      0.001    5.57e+04    2.02e+05\n",
      "yr_built_or_renovated_2005  7.851e+04   3.62e+04      2.166      0.030    7458.267     1.5e+05\n",
      "yr_built_or_renovated_2006  1.558e+05   3.67e+04      4.247      0.000    8.39e+04    2.28e+05\n",
      "yr_built_or_renovated_2007  8.253e+04   3.79e+04      2.178      0.029    8251.793    1.57e+05\n",
      "yr_built_or_renovated_2008  1.257e+05   4.18e+04      3.006      0.003    4.37e+04    2.08e+05\n",
      "yr_built_or_renovated_2009  1.444e+05   5.17e+04      2.794      0.005    4.31e+04    2.46e+05\n",
      "yr_built_or_renovated_2010  2.037e+05   5.59e+04      3.646      0.000    9.42e+04    3.13e+05\n",
      "yr_built_or_renovated_2011  2.137e+05   5.29e+04      4.043      0.000     1.1e+05    3.17e+05\n",
      "yr_built_or_renovated_2012  2.007e+05   4.99e+04      4.019      0.000    1.03e+05    2.99e+05\n",
      "yr_built_or_renovated_2013  2.091e+05   4.59e+04      4.554      0.000    1.19e+05    2.99e+05\n",
      "yr_built_or_renovated_2014  3.381e+05   4.29e+04      7.890      0.000    2.54e+05    4.22e+05\n",
      "yr_built_or_renovated_2015  2.573e+05   4.13e+04      6.228      0.000    1.76e+05    3.38e+05\n",
      "yr_built_or_renovated_2016   1.58e+05   3.94e+04      4.013      0.000    8.08e+04    2.35e+05\n",
      "yr_built_or_renovated_2017  1.974e+05   4.02e+04      4.909      0.000    1.19e+05    2.76e+05\n",
      "yr_built_or_renovated_2018  2.265e+05   3.92e+04      5.783      0.000     1.5e+05    3.03e+05\n",
      "yr_built_or_renovated_2019  1.979e+05   4.47e+04      4.424      0.000     1.1e+05    2.86e+05\n",
      "yr_built_or_renovated_2020  2.628e+05   4.05e+04      6.483      0.000    1.83e+05    3.42e+05\n",
      "yr_built_or_renovated_2021  1.801e+05   2.86e+04      6.293      0.000    1.24e+05    2.36e+05\n",
      "yr_built_or_renovated_2022  7.122e+04   4.45e+04      1.600      0.110    -1.6e+04    1.58e+05\n",
      "==============================================================================\n",
      "Omnibus:                    37888.327   Durbin-Watson:                   2.007\n",
      "Prob(Omnibus):                  0.000   Jarque-Bera (JB):        210937002.507\n",
      "Skew:                          13.681   Prob(JB):                         0.00\n",
      "Kurtosis:                     502.077   Cond. No.                     2.29e+20\n",
      "==============================================================================\n",
      "\n",
      "Notes:\n",
      "[1] Standard Errors assume that the covariance matrix of the errors is correctly specified.\n",
      "[2] The smallest eigenvalue is 5.31e-29. This might indicate that there are\n",
      "strong multicollinearity problems or that the design matrix is singular.\n"
     ]
    }
   ],
   "source": [
    "X_train_ohe2 = sm.add_constant(X_train_ohe2)\n",
    "X_test_ohe2 = sm.add_constant(X_test_ohe2)\n",
    "\n",
    "# reset the index of y_train\n",
    "y_train_reset = y_train.reset_index(drop=True)\n",
    "\n",
    "model = sm.OLS(y_train_reset, X_train_ohe2)\n",
    "results = model.fit()\n",
    "print(results.summary())"
   ]
  },
  {
   "cell_type": "code",
   "execution_count": 530,
   "id": "e388cbbb",
   "metadata": {},
   "outputs": [
    {
     "data": {
      "text/plain": [
       "house_cond                 2.0\n",
       "grade2                     5.0\n",
       "sqft_living               1960\n",
       "sqft_above                1160\n",
       "sqft_basement              860\n",
       "bedrooms                     3\n",
       "bathrooms                  2.0\n",
       "zipcodes                 98107\n",
       "nuisance2                  0.0\n",
       "view2                      0.0\n",
       "wf2                        0.0\n",
       "floors                     1.5\n",
       "bedtobath                  6.0\n",
       "month_sold                   7\n",
       "yr_built_or_renovated     1944\n",
       "yr_built                  1944\n",
       "RBoR2                      0.0\n",
       "greenbelt2                 0.0\n",
       "hasbasement               True\n",
       "gradesquared              25.0\n",
       "Name: 25403, dtype: object"
      ]
     },
     "execution_count": 530,
     "metadata": {},
     "output_type": "execute_result"
    }
   ],
   "source": [
    "examp_idx = 45\n",
    "single_examp_dict= X_test.iloc[examp_idx].to_dict\n",
    "X_test.iloc[examp_idx]"
   ]
  },
  {
   "cell_type": "code",
   "execution_count": 513,
   "id": "240ce84c",
   "metadata": {},
   "outputs": [
    {
     "data": {
      "text/plain": [
       "index                                                                      33\n",
       "id                                                                 6450304798\n",
       "date                                                      2021-08-20 00:00:00\n",
       "price                                                                730000.0\n",
       "bedrooms                                                                    3\n",
       "bathrooms                                                                 2.0\n",
       "sqft_living                                                              1570\n",
       "sqft_lot                                                                 1184\n",
       "floors                                                                    3.0\n",
       "waterfront                                                                 NO\n",
       "greenbelt                                                                  NO\n",
       "nuisance                                                                   NO\n",
       "view                                                                     NONE\n",
       "condition                                                             Average\n",
       "grade                                                                  8 Good\n",
       "heat_source                                                       Electricity\n",
       "sewer_system                                                           PUBLIC\n",
       "sqft_above                                                               1480\n",
       "sqft_basement                                                             340\n",
       "sqft_garage                                                               250\n",
       "sqft_patio                                                                 30\n",
       "yr_built                                                                 2021\n",
       "yr_renovated                                                                0\n",
       "address                     14011 Lenora Place North, Seattle, Washington ...\n",
       "lat                                                                 47.730855\n",
       "long                                                              -122.343575\n",
       "zipcodes                                                                98133\n",
       "ZIPCODE                                                                 98133\n",
       "PREFERRED_CITY                                                        SEATTLE\n",
       "ysb                                                                         2\n",
       "ysr                                                                         2\n",
       "RecentlyBuiltorRenovated                                                 True\n",
       "month_sold                                                                  8\n",
       "yr_built_or_renovated                                                    2021\n",
       "hasbasement                                                              True\n",
       "bedtobath                                                                 6.0\n",
       "bedtosqftliving                                                          4710\n",
       "bathroomstosqftliving                                                  3140.0\n",
       "yrbuilttobathroom                                                      4042.0\n",
       "floorstoyrbuilt                                                        6063.0\n",
       "house_cond                                                                2.0\n",
       "grade2                                                                    6.0\n",
       "view2                                                                     0.0\n",
       "wf2                                                                       0.0\n",
       "nuisance2                                                                 0.0\n",
       "greenbelt2                                                                0.0\n",
       "RBoR2                                                                     1.0\n",
       "gradesquared                                                             36.0\n",
       "Name: 30, dtype: object"
      ]
     },
     "execution_count": 513,
     "metadata": {},
     "output_type": "execute_result"
    }
   ],
   "source": [
    "df1.iloc[examp_idx]"
   ]
  },
  {
   "cell_type": "raw",
   "id": "b789db29",
   "metadata": {},
   "source": [
    "X_test_dict = X_test.iloc[examp_idx]"
   ]
  },
  {
   "cell_type": "code",
   "execution_count": 533,
   "id": "88689ae7",
   "metadata": {},
   "outputs": [
    {
     "data": {
      "text/plain": [
       "house_cond                 2.0\n",
       "grade2                     5.0\n",
       "sqft_living               1960\n",
       "sqft_above                1160\n",
       "sqft_basement              860\n",
       "bedrooms                     3\n",
       "bathrooms                  2.0\n",
       "zipcodes                 98107\n",
       "nuisance2                  0.0\n",
       "view2                      0.0\n",
       "wf2                        0.0\n",
       "floors                     1.5\n",
       "bedtobath                  6.0\n",
       "month_sold                   7\n",
       "yr_built_or_renovated     1944\n",
       "yr_built                  1944\n",
       "RBoR2                      0.0\n",
       "greenbelt2                 0.0\n",
       "hasbasement               True\n",
       "gradesquared              25.0\n",
       "Name: 25403, dtype: object"
      ]
     },
     "execution_count": 533,
     "metadata": {},
     "output_type": "execute_result"
    }
   ],
   "source": [
    "X_test_dict = X_test.iloc[examp_idx]\n",
    "X_test_dict"
   ]
  },
  {
   "cell_type": "code",
   "execution_count": 535,
   "id": "3b2760f9",
   "metadata": {},
   "outputs": [
    {
     "data": {
      "text/plain": [
       "{'house_cond': 2.0,\n",
       " 'grade2': 5.0,\n",
       " 'sqft_living': 1960,\n",
       " 'sqft_above': 1160,\n",
       " 'sqft_basement': 860,\n",
       " 'bedrooms': 3,\n",
       " 'bathrooms': 2.0,\n",
       " 'zipcodes': 98107,\n",
       " 'nuisance2': 0.0,\n",
       " 'view2': 0.0,\n",
       " 'wf2': 0.0,\n",
       " 'floors': 1.5,\n",
       " 'bedtobath': 6.0,\n",
       " 'month_sold': 7,\n",
       " 'yr_built_or_renovated': 1944,\n",
       " 'yr_built': 1944,\n",
       " 'RBoR2': 0.0,\n",
       " 'greenbelt2': 0.0,\n",
       " 'hasbasement': True,\n",
       " 'gradesquared': 25.0}"
      ]
     },
     "execution_count": 535,
     "metadata": {},
     "output_type": "execute_result"
    }
   ],
   "source": [
    "X_test_dict = dict(X_test_dict) #bedrooms 3 to 3.5\n",
    "X_test_dict"
   ]
  },
  {
   "cell_type": "code",
   "execution_count": 536,
   "id": "d0aab750",
   "metadata": {},
   "outputs": [],
   "source": [
    "# X_test_dict = {'house_cond': 2.0,\n",
    "#  'grade2': 5.0,\n",
    "#  'sqft_living': 1960,\n",
    "#  'sqft_above': 1160,\n",
    "#  'sqft_basement': 860,\n",
    "#  'bedrooms': 3,\n",
    "#  'bathrooms': 2.0,\n",
    "#  'zipcodes': 98107,\n",
    "#  'nuisance2': 0.0,\n",
    "#  'view2': 0.0,\n",
    "#  'wf2': 0.0,\n",
    "#  'floors': 1.5,\n",
    "#  'bedtobath': 6.0,\n",
    "#  'month_sold': 7,\n",
    "#  'yr_built_or_renovated': 1944,\n",
    "#  'yr_built': 1944,\n",
    "#  'RBoR2': 0.0,\n",
    "#  'greenbelt2': 0.0,\n",
    "#  'hasbasement': True,\n",
    "#  'gradesquared': 25.0}}"
   ]
  },
  {
   "cell_type": "code",
   "execution_count": 537,
   "id": "aab33eca",
   "metadata": {},
   "outputs": [],
   "source": [
    "X_test_ser = pd.Series(X_test_dict)"
   ]
  },
  {
   "cell_type": "code",
   "execution_count": 538,
   "id": "b66f1cb2",
   "metadata": {},
   "outputs": [],
   "source": [
    "X_test_np = X_test_ser.values"
   ]
  },
  {
   "cell_type": "code",
   "execution_count": 539,
   "id": "c3ab0153",
   "metadata": {},
   "outputs": [],
   "source": [
    "X_test_input = X_test_np.reshape(1,-1)"
   ]
  },
  {
   "cell_type": "code",
   "execution_count": 540,
   "id": "56cb4a16",
   "metadata": {},
   "outputs": [
    {
     "name": "stderr",
     "output_type": "stream",
     "text": [
      "/Users/forrestwilliams/anaconda3/envs/wheelydope/lib/python3.8/site-packages/sklearn/base.py:439: UserWarning: X does not have valid feature names, but LinearRegression was fitted with feature names\n",
      "  warnings.warn(\n"
     ]
    },
    {
     "ename": "ValueError",
     "evalue": "X has 20 features, but LinearRegression is expecting 12 features as input.",
     "output_type": "error",
     "traceback": [
      "\u001b[0;31m---------------------------------------------------------------------------\u001b[0m",
      "\u001b[0;31mValueError\u001b[0m                                Traceback (most recent call last)",
      "Cell \u001b[0;32mIn[540], line 1\u001b[0m\n\u001b[0;32m----> 1\u001b[0m \u001b[43mlr\u001b[49m\u001b[38;5;241;43m.\u001b[39;49m\u001b[43mpredict\u001b[49m\u001b[43m(\u001b[49m\u001b[43mX_test_input\u001b[49m\u001b[43m)\u001b[49m\n",
      "File \u001b[0;32m~/anaconda3/envs/wheelydope/lib/python3.8/site-packages/sklearn/linear_model/_base.py:354\u001b[0m, in \u001b[0;36mLinearModel.predict\u001b[0;34m(self, X)\u001b[0m\n\u001b[1;32m    340\u001b[0m \u001b[38;5;28;01mdef\u001b[39;00m \u001b[38;5;21mpredict\u001b[39m(\u001b[38;5;28mself\u001b[39m, X):\n\u001b[1;32m    341\u001b[0m     \u001b[38;5;124;03m\"\"\"\u001b[39;00m\n\u001b[1;32m    342\u001b[0m \u001b[38;5;124;03m    Predict using the linear model.\u001b[39;00m\n\u001b[1;32m    343\u001b[0m \n\u001b[0;32m   (...)\u001b[0m\n\u001b[1;32m    352\u001b[0m \u001b[38;5;124;03m        Returns predicted values.\u001b[39;00m\n\u001b[1;32m    353\u001b[0m \u001b[38;5;124;03m    \"\"\"\u001b[39;00m\n\u001b[0;32m--> 354\u001b[0m     \u001b[38;5;28;01mreturn\u001b[39;00m \u001b[38;5;28;43mself\u001b[39;49m\u001b[38;5;241;43m.\u001b[39;49m\u001b[43m_decision_function\u001b[49m\u001b[43m(\u001b[49m\u001b[43mX\u001b[49m\u001b[43m)\u001b[49m\n",
      "File \u001b[0;32m~/anaconda3/envs/wheelydope/lib/python3.8/site-packages/sklearn/linear_model/_base.py:337\u001b[0m, in \u001b[0;36mLinearModel._decision_function\u001b[0;34m(self, X)\u001b[0m\n\u001b[1;32m    334\u001b[0m \u001b[38;5;28;01mdef\u001b[39;00m \u001b[38;5;21m_decision_function\u001b[39m(\u001b[38;5;28mself\u001b[39m, X):\n\u001b[1;32m    335\u001b[0m     check_is_fitted(\u001b[38;5;28mself\u001b[39m)\n\u001b[0;32m--> 337\u001b[0m     X \u001b[38;5;241m=\u001b[39m \u001b[38;5;28;43mself\u001b[39;49m\u001b[38;5;241;43m.\u001b[39;49m\u001b[43m_validate_data\u001b[49m\u001b[43m(\u001b[49m\u001b[43mX\u001b[49m\u001b[43m,\u001b[49m\u001b[43m \u001b[49m\u001b[43maccept_sparse\u001b[49m\u001b[38;5;241;43m=\u001b[39;49m\u001b[43m[\u001b[49m\u001b[38;5;124;43m\"\u001b[39;49m\u001b[38;5;124;43mcsr\u001b[39;49m\u001b[38;5;124;43m\"\u001b[39;49m\u001b[43m,\u001b[49m\u001b[43m \u001b[49m\u001b[38;5;124;43m\"\u001b[39;49m\u001b[38;5;124;43mcsc\u001b[39;49m\u001b[38;5;124;43m\"\u001b[39;49m\u001b[43m,\u001b[49m\u001b[43m \u001b[49m\u001b[38;5;124;43m\"\u001b[39;49m\u001b[38;5;124;43mcoo\u001b[39;49m\u001b[38;5;124;43m\"\u001b[39;49m\u001b[43m]\u001b[49m\u001b[43m,\u001b[49m\u001b[43m \u001b[49m\u001b[43mreset\u001b[49m\u001b[38;5;241;43m=\u001b[39;49m\u001b[38;5;28;43;01mFalse\u001b[39;49;00m\u001b[43m)\u001b[49m\n\u001b[1;32m    338\u001b[0m     \u001b[38;5;28;01mreturn\u001b[39;00m safe_sparse_dot(X, \u001b[38;5;28mself\u001b[39m\u001b[38;5;241m.\u001b[39mcoef_\u001b[38;5;241m.\u001b[39mT, dense_output\u001b[38;5;241m=\u001b[39m\u001b[38;5;28;01mTrue\u001b[39;00m) \u001b[38;5;241m+\u001b[39m \u001b[38;5;28mself\u001b[39m\u001b[38;5;241m.\u001b[39mintercept_\n",
      "File \u001b[0;32m~/anaconda3/envs/wheelydope/lib/python3.8/site-packages/sklearn/base.py:588\u001b[0m, in \u001b[0;36mBaseEstimator._validate_data\u001b[0;34m(self, X, y, reset, validate_separately, **check_params)\u001b[0m\n\u001b[1;32m    585\u001b[0m     out \u001b[38;5;241m=\u001b[39m X, y\n\u001b[1;32m    587\u001b[0m \u001b[38;5;28;01mif\u001b[39;00m \u001b[38;5;129;01mnot\u001b[39;00m no_val_X \u001b[38;5;129;01mand\u001b[39;00m check_params\u001b[38;5;241m.\u001b[39mget(\u001b[38;5;124m\"\u001b[39m\u001b[38;5;124mensure_2d\u001b[39m\u001b[38;5;124m\"\u001b[39m, \u001b[38;5;28;01mTrue\u001b[39;00m):\n\u001b[0;32m--> 588\u001b[0m     \u001b[38;5;28;43mself\u001b[39;49m\u001b[38;5;241;43m.\u001b[39;49m\u001b[43m_check_n_features\u001b[49m\u001b[43m(\u001b[49m\u001b[43mX\u001b[49m\u001b[43m,\u001b[49m\u001b[43m \u001b[49m\u001b[43mreset\u001b[49m\u001b[38;5;241;43m=\u001b[39;49m\u001b[43mreset\u001b[49m\u001b[43m)\u001b[49m\n\u001b[1;32m    590\u001b[0m \u001b[38;5;28;01mreturn\u001b[39;00m out\n",
      "File \u001b[0;32m~/anaconda3/envs/wheelydope/lib/python3.8/site-packages/sklearn/base.py:389\u001b[0m, in \u001b[0;36mBaseEstimator._check_n_features\u001b[0;34m(self, X, reset)\u001b[0m\n\u001b[1;32m    386\u001b[0m     \u001b[38;5;28;01mreturn\u001b[39;00m\n\u001b[1;32m    388\u001b[0m \u001b[38;5;28;01mif\u001b[39;00m n_features \u001b[38;5;241m!=\u001b[39m \u001b[38;5;28mself\u001b[39m\u001b[38;5;241m.\u001b[39mn_features_in_:\n\u001b[0;32m--> 389\u001b[0m     \u001b[38;5;28;01mraise\u001b[39;00m \u001b[38;5;167;01mValueError\u001b[39;00m(\n\u001b[1;32m    390\u001b[0m         \u001b[38;5;124mf\u001b[39m\u001b[38;5;124m\"\u001b[39m\u001b[38;5;124mX has \u001b[39m\u001b[38;5;132;01m{\u001b[39;00mn_features\u001b[38;5;132;01m}\u001b[39;00m\u001b[38;5;124m features, but \u001b[39m\u001b[38;5;132;01m{\u001b[39;00m\u001b[38;5;28mself\u001b[39m\u001b[38;5;241m.\u001b[39m\u001b[38;5;18m__class__\u001b[39m\u001b[38;5;241m.\u001b[39m\u001b[38;5;18m__name__\u001b[39m\u001b[38;5;132;01m}\u001b[39;00m\u001b[38;5;124m \u001b[39m\u001b[38;5;124m\"\u001b[39m\n\u001b[1;32m    391\u001b[0m         \u001b[38;5;124mf\u001b[39m\u001b[38;5;124m\"\u001b[39m\u001b[38;5;124mis expecting \u001b[39m\u001b[38;5;132;01m{\u001b[39;00m\u001b[38;5;28mself\u001b[39m\u001b[38;5;241m.\u001b[39mn_features_in_\u001b[38;5;132;01m}\u001b[39;00m\u001b[38;5;124m features as input.\u001b[39m\u001b[38;5;124m\"\u001b[39m\n\u001b[1;32m    392\u001b[0m     )\n",
      "\u001b[0;31mValueError\u001b[0m: X has 20 features, but LinearRegression is expecting 12 features as input."
     ]
    }
   ],
   "source": [
    "lr.predict(X_test_input)"
   ]
  },
  {
   "cell_type": "code",
   "execution_count": 404,
   "id": "f723abcf",
   "metadata": {},
   "outputs": [
    {
     "data": {
      "text/plain": [
       "{'house_cond': 2.0,\n",
       " 'grade2': 5.0,\n",
       " 'sqft_living': 2270,\n",
       " 'sqft_above': 1340,\n",
       " 'sqft_basement': 1340,\n",
       " 'bedrooms': 4,\n",
       " 'bathrooms': 2,\n",
       " 'zipcodes': 98125,\n",
       " 'nuisance2': 1.0,\n",
       " 'view2': 0.0,\n",
       " 'wf2': 0.0,\n",
       " 'floors': 1.0,\n",
       " 'bedtobath': 15.0,\n",
       " 'month_sold': 8,\n",
       " 'yr_built_or_renovated': 1995,\n",
       " 'yr_built': 1995,\n",
       " 'RBoR2': 0.0,\n",
       " 'greenbelt2': 0.0,\n",
       " 'hasbasement': True,\n",
       " 'gradesquared': 25.0}"
      ]
     },
     "execution_count": 404,
     "metadata": {},
     "output_type": "execute_result"
    }
   ],
   "source": [
    "X_test_dict"
   ]
  },
  {
   "cell_type": "code",
   "execution_count": 463,
   "id": "318d487b",
   "metadata": {},
   "outputs": [],
   "source": [
    "X_test_dict2 = {'house_cond': 2.0,\n",
    " 'grade2': 5.5,\n",
    " 'sqft_living': 2470,\n",
    " 'sqft_above': 1340,\n",
    " 'sqft_basement': 1340,\n",
    " 'bedrooms': 3,\n",
    " 'bathrooms': 2,\n",
    " 'zipcodes': 98125,\n",
    " 'nuisance2': 1.0,\n",
    " 'view2': 0.0,\n",
    " 'wf2': 0.0,\n",
    " 'floors': 1.0,\n",
    " 'bedtobath': 15.0,\n",
    " 'month_sold': 8,\n",
    " 'yr_built_or_renovated': 1995,\n",
    " 'yr_built': 1995,\n",
    " 'RBoR2': 0.0,\n",
    " 'greenbelt2': 0.0,\n",
    " 'hasbasement': True,\n",
    " 'gradesquared': 25.0}"
   ]
  },
  {
   "cell_type": "code",
   "execution_count": 464,
   "id": "5fc78d63",
   "metadata": {},
   "outputs": [],
   "source": [
    "X_test_ser2 = pd.Series(X_test_dict2)"
   ]
  },
  {
   "cell_type": "code",
   "execution_count": 465,
   "id": "0a859b20",
   "metadata": {},
   "outputs": [],
   "source": [
    "X_test_np2 = X_test_ser2.values"
   ]
  },
  {
   "cell_type": "code",
   "execution_count": 466,
   "id": "963b7c9b",
   "metadata": {},
   "outputs": [],
   "source": [
    "X_test_input2 = X_test_np2.reshape(1,-1)"
   ]
  },
  {
   "cell_type": "code",
   "execution_count": 467,
   "id": "714326ab",
   "metadata": {},
   "outputs": [
    {
     "name": "stderr",
     "output_type": "stream",
     "text": [
      "/Users/forrestwilliams/anaconda3/envs/wheelydope/lib/python3.8/site-packages/sklearn/base.py:439: UserWarning: X does not have valid feature names, but LinearRegression was fitted with feature names\n",
      "  warnings.warn(\n"
     ]
    },
    {
     "data": {
      "text/plain": [
       "array([747086.14043772])"
      ]
     },
     "execution_count": 467,
     "metadata": {},
     "output_type": "execute_result"
    }
   ],
   "source": [
    "lr.predict(X_test_input2)"
   ]
  },
  {
   "cell_type": "code",
   "execution_count": null,
   "id": "35dd5306",
   "metadata": {},
   "outputs": [],
   "source": []
  },
  {
   "cell_type": "code",
   "execution_count": 447,
   "id": "850e3625",
   "metadata": {},
   "outputs": [
    {
     "data": {
      "text/plain": [
       "7 Average        11501\n",
       "8 Good            8737\n",
       "9 Better          3558\n",
       "6 Low Average     2828\n",
       "10 Very Good      1346\n",
       "11 Excellent       402\n",
       "5 Fair             381\n",
       "12 Luxury          121\n",
       "4 Low               42\n",
       "13 Mansion          24\n",
       "3 Poor               8\n",
       "2 Substandard        1\n",
       "Name: grade, dtype: int64"
      ]
     },
     "execution_count": 447,
     "metadata": {},
     "output_type": "execute_result"
    }
   ],
   "source": [
    "df.grade.value_counts()"
   ]
  },
  {
   "cell_type": "code",
   "execution_count": null,
   "id": "a5f0a8cc",
   "metadata": {},
   "outputs": [],
   "source": [
    "df['heat_source']"
   ]
  },
  {
   "cell_type": "code",
   "execution_count": null,
   "id": "b9abbaeb",
   "metadata": {},
   "outputs": [],
   "source": []
  },
  {
   "cell_type": "code",
   "execution_count": null,
   "id": "e2deaa71",
   "metadata": {},
   "outputs": [],
   "source": []
  },
  {
   "cell_type": "markdown",
   "id": "a9bde098",
   "metadata": {},
   "source": [
    "from sklearn.preprocessing import PolynomialFeatures\n",
    "\n",
    "# Create PolynomialFeatures object\n",
    "poly = PolynomialFeatures(degree=2, include_bias=False)\n",
    "\n",
    "# Let's say 'bathrooms' and 'sqft_living' are the columns you're interested in\n",
    "selected_features = df[['bathrooms', 'sqft_living']]\n",
    "\n",
    "# Fit and transform the data to generate polynomial features\n",
    "poly_features = poly.fit_transform(selected_features)\n",
    "\n",
    "# The output is a numpy array. We can convert it to DataFrame for better readability\n",
    "poly_features_df = pd.DataFrame(poly_features, columns=poly.get_feature_names(selected_features.columns))\n",
    "\n",
    "#concat the dfs\n",
    "df1 = pd.concat([df1, poly_features_df], axis=1)\n",
    "\n",
    "print(df1)\n",
    " "
   ]
  },
  {
   "cell_type": "markdown",
   "id": "5eb02d20",
   "metadata": {},
   "source": [
    "from sklearn.preprocessing import PolynomialFeatures\n",
    "\n",
    "# Create PolynomialFeatures object\n",
    "poly = PolynomialFeatures(degree=2, include_bias=False)\n",
    "\n",
    "# Let's say 'bathrooms' and 'sqft_living' are the columns you're interested in\n",
    "selected_features = df[['bathrooms', 'bedrooms']]\n",
    "\n",
    "# Fit and transform the data to generate polynomial features\n",
    "poly_features = poly.fit_transform(selected_features)\n",
    "\n",
    "# The output is a numpy array. We can convert it to DataFrame for better readability\n",
    "poly_features_df = pd.DataFrame(poly_features, columns=poly.get_feature_names(selected_features.columns))\n",
    "\n",
    "#concat the dfs\n",
    "df1 = pd.concat([df1, poly_features_df], axis=1)\n",
    "\n",
    "print(df1.columns)\n",
    " "
   ]
  },
  {
   "cell_type": "code",
   "execution_count": 456,
   "id": "fd945f29",
   "metadata": {},
   "outputs": [
    {
     "data": {
      "text/plain": [
       "count    2.894900e+04\n",
       "mean     1.114820e+06\n",
       "std      8.970962e+05\n",
       "min      2.736000e+04\n",
       "25%      6.470000e+05\n",
       "50%      8.700000e+05\n",
       "75%      1.314995e+06\n",
       "max      3.075000e+07\n",
       "Name: price, dtype: float64"
      ]
     },
     "execution_count": 456,
     "metadata": {},
     "output_type": "execute_result"
    }
   ],
   "source": [
    "df['price'].describe()"
   ]
  },
  {
   "cell_type": "code",
   "execution_count": 459,
   "id": "ccacbf12",
   "metadata": {},
   "outputs": [
    {
     "data": {
      "text/plain": [
       "7 Average        11501\n",
       "8 Good            8737\n",
       "9 Better          3558\n",
       "6 Low Average     2828\n",
       "10 Very Good      1346\n",
       "11 Excellent       402\n",
       "5 Fair             381\n",
       "12 Luxury          121\n",
       "4 Low               42\n",
       "13 Mansion          24\n",
       "3 Poor               8\n",
       "2 Substandard        1\n",
       "Name: grade, dtype: int64"
      ]
     },
     "execution_count": 459,
     "metadata": {},
     "output_type": "execute_result"
    }
   ],
   "source": [
    "df['grade'].value_counts()"
   ]
  },
  {
   "cell_type": "code",
   "execution_count": 460,
   "id": "ca9a6b73",
   "metadata": {},
   "outputs": [
    {
     "data": {
      "text/plain": [
       "Average      17385\n",
       "Good          8033\n",
       "Very Good     3251\n",
       "Fair           220\n",
       "Poor            60\n",
       "Name: condition, dtype: int64"
      ]
     },
     "execution_count": 460,
     "metadata": {},
     "output_type": "execute_result"
    }
   ],
   "source": [
    "df['condition'].value_counts()"
   ]
  },
  {
   "cell_type": "code",
   "execution_count": null,
   "id": "bedcf3cf",
   "metadata": {},
   "outputs": [],
   "source": []
  }
 ],
 "metadata": {
  "kernelspec": {
   "display_name": "Python 3 (ipykernel)",
   "language": "python",
   "name": "python3"
  },
  "language_info": {
   "codemirror_mode": {
    "name": "ipython",
    "version": 3
   },
   "file_extension": ".py",
   "mimetype": "text/x-python",
   "name": "python",
   "nbconvert_exporter": "python",
   "pygments_lexer": "ipython3",
   "version": "3.8.16"
  }
 },
 "nbformat": 4,
 "nbformat_minor": 5
}
