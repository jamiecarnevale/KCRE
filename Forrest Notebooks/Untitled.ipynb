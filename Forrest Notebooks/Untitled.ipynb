{
 "cells": [
  {
   "cell_type": "code",
   "execution_count": null,
   "id": "14692fdb",
   "metadata": {},
   "outputs": [],
   "source": [
    "dfsqft_lot = df1.groupby('PREFERRED_CITY')['sqft_lot'].mean().sort_values(ascending=False)"
   ]
  },
  {
   "cell_type": "code",
   "execution_count": null,
   "id": "f7d2ce34",
   "metadata": {},
   "outputs": [],
   "source": [
    "dfsqft_lot.head(6)"
   ]
  },
  {
   "cell_type": "code",
   "execution_count": null,
   "id": "56fc255d",
   "metadata": {},
   "outputs": [],
   "source": []
  },
  {
   "cell_type": "code",
   "execution_count": null,
   "id": "d128c707",
   "metadata": {},
   "outputs": [],
   "source": []
  },
  {
   "cell_type": "code",
   "execution_count": null,
   "id": "c6828f5c",
   "metadata": {},
   "outputs": [],
   "source": [
    "lr = LinearRegression()\n",
    "lr.fit(X_train[numeric_cols], y_train)"
   ]
  },
  {
   "cell_type": "code",
   "execution_count": null,
   "id": "03a6a984",
   "metadata": {},
   "outputs": [],
   "source": [
    "examp_idx = 45\n",
    "single_examp_dict= X_test.iloc[examp_idx].to_dict\n",
    "X_test.iloc[examp_idx]"
   ]
  },
  {
   "cell_type": "code",
   "execution_count": null,
   "id": "6af1c6fd",
   "metadata": {},
   "outputs": [],
   "source": [
    "df1.iloc[examp_idx]"
   ]
  },
  {
   "cell_type": "code",
   "execution_count": null,
   "id": "03b90a69",
   "metadata": {},
   "outputs": [],
   "source": []
  }
 ],
 "metadata": {
  "kernelspec": {
   "display_name": "Python 3 (ipykernel)",
   "language": "python",
   "name": "python3"
  },
  "language_info": {
   "codemirror_mode": {
    "name": "ipython",
    "version": 3
   },
   "file_extension": ".py",
   "mimetype": "text/x-python",
   "name": "python",
   "nbconvert_exporter": "python",
   "pygments_lexer": "ipython3",
   "version": "3.8.16"
  }
 },
 "nbformat": 4,
 "nbformat_minor": 5
}
